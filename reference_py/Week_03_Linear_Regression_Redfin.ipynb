{
 "cells": [
  {
   "cell_type": "code",
   "execution_count": 2,
   "metadata": {},
   "outputs": [],
   "source": [
    "%matplotlib inline\n",
    "import matplotlib.pyplot as plt\n",
    "import pandas as pd\n",
    "import numpy as np\n",
    "\n",
    "from sklearn import metrics\n"
   ]
  },
  {
   "cell_type": "code",
   "execution_count": 3,
   "metadata": {},
   "outputs": [
    {
     "data": {
      "text/html": [
       "<style>.container { width:96% !important; }</style>"
      ],
      "text/plain": [
       "<IPython.core.display.HTML object>"
      ]
     },
     "metadata": {},
     "output_type": "display_data"
    }
   ],
   "source": [
    "from IPython.core.display import display, HTML\n",
    "display(HTML(\"<style>.container { width:96% !important; }</style>\"))\n",
    "\n",
    "pd.set_option('display.max_columns', None)"
   ]
  },
  {
   "cell_type": "code",
   "execution_count": 4,
   "metadata": {},
   "outputs": [],
   "source": [
    "datadir='/home/pbatra/Dropbox/airport/nyu/datasets/redfin'\n"
   ]
  },
  {
   "cell_type": "markdown",
   "metadata": {},
   "source": [
    "### Load the data"
   ]
  },
  {
   "cell_type": "code",
   "execution_count": 5,
   "metadata": {},
   "outputs": [],
   "source": [
    "df = pd.read_csv(f'{datadir}/redfin_2018-09-06-09-10-12.houston.csv')"
   ]
  },
  {
   "cell_type": "code",
   "execution_count": 6,
   "metadata": {},
   "outputs": [
    {
     "data": {
      "text/plain": [
       "(256, 27)"
      ]
     },
     "execution_count": 6,
     "metadata": {},
     "output_type": "execute_result"
    }
   ],
   "source": [
    "df.shape"
   ]
  },
  {
   "cell_type": "code",
   "execution_count": 7,
   "metadata": {},
   "outputs": [
    {
     "data": {
      "text/plain": [
       "Index(['SALE TYPE', 'SOLD DATE', 'PROPERTY TYPE', 'ADDRESS', 'CITY', 'STATE',\n",
       "       'ZIP', 'PRICE', 'BEDS', 'BATHS', 'LOCATION', 'SQUARE FEET', 'LOT SIZE',\n",
       "       'YEAR BUILT', 'DAYS ON MARKET', '$/SQUARE FEET', 'HOA/MONTH', 'STATUS',\n",
       "       'NEXT OPEN HOUSE START TIME', 'NEXT OPEN HOUSE END TIME', 'URL',\n",
       "       'SOURCE', 'MLS#', 'FAVORITE', 'INTERESTED', 'LATITUDE', 'LONGITUDE'],\n",
       "      dtype='object')"
      ]
     },
     "execution_count": 7,
     "metadata": {},
     "output_type": "execute_result"
    }
   ],
   "source": [
    "df.columns"
   ]
  },
  {
   "cell_type": "code",
   "execution_count": 8,
   "metadata": {},
   "outputs": [
    {
     "data": {
      "text/html": [
       "<div>\n",
       "<style scoped>\n",
       "    .dataframe tbody tr th:only-of-type {\n",
       "        vertical-align: middle;\n",
       "    }\n",
       "\n",
       "    .dataframe tbody tr th {\n",
       "        vertical-align: top;\n",
       "    }\n",
       "\n",
       "    .dataframe thead th {\n",
       "        text-align: right;\n",
       "    }\n",
       "</style>\n",
       "<table border=\"1\" class=\"dataframe\">\n",
       "  <thead>\n",
       "    <tr style=\"text-align: right;\">\n",
       "      <th></th>\n",
       "      <th>SALE TYPE</th>\n",
       "      <th>SOLD DATE</th>\n",
       "      <th>PROPERTY TYPE</th>\n",
       "      <th>ADDRESS</th>\n",
       "      <th>CITY</th>\n",
       "      <th>STATE</th>\n",
       "      <th>ZIP</th>\n",
       "      <th>PRICE</th>\n",
       "      <th>BEDS</th>\n",
       "      <th>BATHS</th>\n",
       "      <th>LOCATION</th>\n",
       "      <th>SQUARE FEET</th>\n",
       "      <th>LOT SIZE</th>\n",
       "      <th>YEAR BUILT</th>\n",
       "      <th>DAYS ON MARKET</th>\n",
       "      <th>$/SQUARE FEET</th>\n",
       "      <th>HOA/MONTH</th>\n",
       "      <th>STATUS</th>\n",
       "      <th>NEXT OPEN HOUSE START TIME</th>\n",
       "      <th>NEXT OPEN HOUSE END TIME</th>\n",
       "      <th>URL</th>\n",
       "      <th>SOURCE</th>\n",
       "      <th>MLS#</th>\n",
       "      <th>FAVORITE</th>\n",
       "      <th>INTERESTED</th>\n",
       "      <th>LATITUDE</th>\n",
       "      <th>LONGITUDE</th>\n",
       "    </tr>\n",
       "  </thead>\n",
       "  <tbody>\n",
       "    <tr>\n",
       "      <th>0</th>\n",
       "      <td>MLS Listing</td>\n",
       "      <td>NaN</td>\n",
       "      <td>Single Family Residential</td>\n",
       "      <td>18622 Flagstone Creek Rd</td>\n",
       "      <td>Houston</td>\n",
       "      <td>TX</td>\n",
       "      <td>77084</td>\n",
       "      <td>228500</td>\n",
       "      <td>4.0</td>\n",
       "      <td>2.5</td>\n",
       "      <td>Oak Ridge Place Sec 06</td>\n",
       "      <td>2634.0</td>\n",
       "      <td>5775.0</td>\n",
       "      <td>2007.0</td>\n",
       "      <td>83</td>\n",
       "      <td>87.0</td>\n",
       "      <td>46.0</td>\n",
       "      <td>Active</td>\n",
       "      <td>NaN</td>\n",
       "      <td>NaN</td>\n",
       "      <td>http://www.redfin.com/TX/Houston/18622-Flagsto...</td>\n",
       "      <td>HARMLS</td>\n",
       "      <td>10023448</td>\n",
       "      <td>N</td>\n",
       "      <td>Y</td>\n",
       "      <td>29.812191</td>\n",
       "      <td>-95.694574</td>\n",
       "    </tr>\n",
       "    <tr>\n",
       "      <th>1</th>\n",
       "      <td>MLS Listing</td>\n",
       "      <td>NaN</td>\n",
       "      <td>Single Family Residential</td>\n",
       "      <td>4323 Aspenglen Dr</td>\n",
       "      <td>Houston</td>\n",
       "      <td>TX</td>\n",
       "      <td>77084</td>\n",
       "      <td>115000</td>\n",
       "      <td>2.0</td>\n",
       "      <td>2.0</td>\n",
       "      <td>Bear Creek Village</td>\n",
       "      <td>1344.0</td>\n",
       "      <td>5500.0</td>\n",
       "      <td>1979.0</td>\n",
       "      <td>1</td>\n",
       "      <td>86.0</td>\n",
       "      <td>38.0</td>\n",
       "      <td>Active</td>\n",
       "      <td>NaN</td>\n",
       "      <td>NaN</td>\n",
       "      <td>http://www.redfin.com/TX/Houston/4323-Aspengle...</td>\n",
       "      <td>HARMLS</td>\n",
       "      <td>6775078</td>\n",
       "      <td>N</td>\n",
       "      <td>Y</td>\n",
       "      <td>29.836912</td>\n",
       "      <td>-95.644008</td>\n",
       "    </tr>\n",
       "    <tr>\n",
       "      <th>2</th>\n",
       "      <td>MLS Listing</td>\n",
       "      <td>NaN</td>\n",
       "      <td>Single Family Residential</td>\n",
       "      <td>2511 Creek Meadow Dr</td>\n",
       "      <td>Houston</td>\n",
       "      <td>TX</td>\n",
       "      <td>77084</td>\n",
       "      <td>154995</td>\n",
       "      <td>3.0</td>\n",
       "      <td>2.0</td>\n",
       "      <td>Westlake Forest Sec 01</td>\n",
       "      <td>1650.0</td>\n",
       "      <td>7508.0</td>\n",
       "      <td>1978.0</td>\n",
       "      <td>1</td>\n",
       "      <td>94.0</td>\n",
       "      <td>40.0</td>\n",
       "      <td>Active</td>\n",
       "      <td>NaN</td>\n",
       "      <td>NaN</td>\n",
       "      <td>http://www.redfin.com/TX/Houston/2511-Creek-Me...</td>\n",
       "      <td>HARMLS</td>\n",
       "      <td>90914049</td>\n",
       "      <td>N</td>\n",
       "      <td>Y</td>\n",
       "      <td>29.803834</td>\n",
       "      <td>-95.719082</td>\n",
       "    </tr>\n",
       "    <tr>\n",
       "      <th>3</th>\n",
       "      <td>MLS Listing</td>\n",
       "      <td>NaN</td>\n",
       "      <td>Single Family Residential</td>\n",
       "      <td>6603 Langham Way</td>\n",
       "      <td>Houston</td>\n",
       "      <td>TX</td>\n",
       "      <td>77084</td>\n",
       "      <td>150000</td>\n",
       "      <td>3.0</td>\n",
       "      <td>2.0</td>\n",
       "      <td>Northglen</td>\n",
       "      <td>1526.0</td>\n",
       "      <td>6900.0</td>\n",
       "      <td>1979.0</td>\n",
       "      <td>1</td>\n",
       "      <td>98.0</td>\n",
       "      <td>20.0</td>\n",
       "      <td>Active</td>\n",
       "      <td>NaN</td>\n",
       "      <td>NaN</td>\n",
       "      <td>http://www.redfin.com/TX/Houston/6603-Langham-...</td>\n",
       "      <td>HARMLS</td>\n",
       "      <td>23838927</td>\n",
       "      <td>N</td>\n",
       "      <td>Y</td>\n",
       "      <td>29.872906</td>\n",
       "      <td>-95.675728</td>\n",
       "    </tr>\n",
       "    <tr>\n",
       "      <th>4</th>\n",
       "      <td>MLS Listing</td>\n",
       "      <td>NaN</td>\n",
       "      <td>Single Family Residential</td>\n",
       "      <td>2014 Blindlake Dr</td>\n",
       "      <td>Houston</td>\n",
       "      <td>TX</td>\n",
       "      <td>77084</td>\n",
       "      <td>174990</td>\n",
       "      <td>3.0</td>\n",
       "      <td>2.0</td>\n",
       "      <td>Westlake</td>\n",
       "      <td>1558.0</td>\n",
       "      <td>7800.0</td>\n",
       "      <td>1974.0</td>\n",
       "      <td>1</td>\n",
       "      <td>112.0</td>\n",
       "      <td>37.0</td>\n",
       "      <td>Active</td>\n",
       "      <td>NaN</td>\n",
       "      <td>NaN</td>\n",
       "      <td>http://www.redfin.com/TX/Houston/2014-Blindlak...</td>\n",
       "      <td>HARMLS</td>\n",
       "      <td>37832502</td>\n",
       "      <td>N</td>\n",
       "      <td>Y</td>\n",
       "      <td>29.796596</td>\n",
       "      <td>-95.708739</td>\n",
       "    </tr>\n",
       "    <tr>\n",
       "      <th>5</th>\n",
       "      <td>MLS Listing</td>\n",
       "      <td>NaN</td>\n",
       "      <td>Single Family Residential</td>\n",
       "      <td>7010 Jasmine Trl</td>\n",
       "      <td>Houston</td>\n",
       "      <td>TX</td>\n",
       "      <td>77084</td>\n",
       "      <td>189900</td>\n",
       "      <td>3.0</td>\n",
       "      <td>2.0</td>\n",
       "      <td>Hearthstone Place</td>\n",
       "      <td>1889.0</td>\n",
       "      <td>7103.0</td>\n",
       "      <td>1998.0</td>\n",
       "      <td>1</td>\n",
       "      <td>101.0</td>\n",
       "      <td>35.0</td>\n",
       "      <td>Active</td>\n",
       "      <td>NaN</td>\n",
       "      <td>NaN</td>\n",
       "      <td>http://www.redfin.com/TX/Houston/7010-Jasmine-...</td>\n",
       "      <td>HARMLS</td>\n",
       "      <td>37094502</td>\n",
       "      <td>N</td>\n",
       "      <td>Y</td>\n",
       "      <td>29.877778</td>\n",
       "      <td>-95.630249</td>\n",
       "    </tr>\n",
       "    <tr>\n",
       "      <th>6</th>\n",
       "      <td>MLS Listing</td>\n",
       "      <td>NaN</td>\n",
       "      <td>Single Family Residential</td>\n",
       "      <td>4723 Autumn Pine Ln</td>\n",
       "      <td>Houston</td>\n",
       "      <td>TX</td>\n",
       "      <td>77084</td>\n",
       "      <td>300000</td>\n",
       "      <td>5.0</td>\n",
       "      <td>3.5</td>\n",
       "      <td>Lakes/pine Forest Sec 4</td>\n",
       "      <td>3177.0</td>\n",
       "      <td>8125.0</td>\n",
       "      <td>2009.0</td>\n",
       "      <td>1</td>\n",
       "      <td>94.0</td>\n",
       "      <td>36.0</td>\n",
       "      <td>Active</td>\n",
       "      <td>NaN</td>\n",
       "      <td>NaN</td>\n",
       "      <td>http://www.redfin.com/TX/Houston/4723-Autumn-P...</td>\n",
       "      <td>HARMLS</td>\n",
       "      <td>76636424</td>\n",
       "      <td>N</td>\n",
       "      <td>Y</td>\n",
       "      <td>29.839089</td>\n",
       "      <td>-95.674762</td>\n",
       "    </tr>\n",
       "    <tr>\n",
       "      <th>7</th>\n",
       "      <td>MLS Listing</td>\n",
       "      <td>NaN</td>\n",
       "      <td>Single Family Residential</td>\n",
       "      <td>4522 Pine Hollow Trce</td>\n",
       "      <td>Houston</td>\n",
       "      <td>TX</td>\n",
       "      <td>77084</td>\n",
       "      <td>200998</td>\n",
       "      <td>3.0</td>\n",
       "      <td>2.0</td>\n",
       "      <td>Pine Forrest Landing</td>\n",
       "      <td>1780.0</td>\n",
       "      <td>6206.0</td>\n",
       "      <td>2013.0</td>\n",
       "      <td>1</td>\n",
       "      <td>113.0</td>\n",
       "      <td>NaN</td>\n",
       "      <td>Active</td>\n",
       "      <td>NaN</td>\n",
       "      <td>NaN</td>\n",
       "      <td>http://www.redfin.com/TX/Houston/4522-Pine-Hol...</td>\n",
       "      <td>HARMLS</td>\n",
       "      <td>90576643</td>\n",
       "      <td>N</td>\n",
       "      <td>Y</td>\n",
       "      <td>29.839523</td>\n",
       "      <td>-95.662002</td>\n",
       "    </tr>\n",
       "    <tr>\n",
       "      <th>8</th>\n",
       "      <td>MLS Listing</td>\n",
       "      <td>NaN</td>\n",
       "      <td>Townhouse</td>\n",
       "      <td>6103 Yorkglen Manor Ln</td>\n",
       "      <td>Houston</td>\n",
       "      <td>TX</td>\n",
       "      <td>77084</td>\n",
       "      <td>141000</td>\n",
       "      <td>3.0</td>\n",
       "      <td>2.5</td>\n",
       "      <td>Villages/langham Crk Sec 7</td>\n",
       "      <td>1659.0</td>\n",
       "      <td>2778.0</td>\n",
       "      <td>2007.0</td>\n",
       "      <td>1</td>\n",
       "      <td>85.0</td>\n",
       "      <td>127.0</td>\n",
       "      <td>Active</td>\n",
       "      <td>NaN</td>\n",
       "      <td>NaN</td>\n",
       "      <td>http://www.redfin.com/TX/Houston/6103-Yorkglen...</td>\n",
       "      <td>HARMLS</td>\n",
       "      <td>14927015</td>\n",
       "      <td>N</td>\n",
       "      <td>Y</td>\n",
       "      <td>29.865595</td>\n",
       "      <td>-95.650786</td>\n",
       "    </tr>\n",
       "    <tr>\n",
       "      <th>9</th>\n",
       "      <td>MLS Listing</td>\n",
       "      <td>NaN</td>\n",
       "      <td>Single Family Residential</td>\n",
       "      <td>4507 Turf Valley Dr</td>\n",
       "      <td>Houston</td>\n",
       "      <td>TX</td>\n",
       "      <td>77084</td>\n",
       "      <td>188000</td>\n",
       "      <td>3.0</td>\n",
       "      <td>2.0</td>\n",
       "      <td>Bear Creek Village Sec 01</td>\n",
       "      <td>1994.0</td>\n",
       "      <td>7980.0</td>\n",
       "      <td>1975.0</td>\n",
       "      <td>2</td>\n",
       "      <td>94.0</td>\n",
       "      <td>38.0</td>\n",
       "      <td>Active</td>\n",
       "      <td>NaN</td>\n",
       "      <td>NaN</td>\n",
       "      <td>http://www.redfin.com/TX/Houston/4507-Turf-Val...</td>\n",
       "      <td>HARMLS</td>\n",
       "      <td>16734256</td>\n",
       "      <td>N</td>\n",
       "      <td>Y</td>\n",
       "      <td>29.839541</td>\n",
       "      <td>-95.640476</td>\n",
       "    </tr>\n",
       "  </tbody>\n",
       "</table>\n",
       "</div>"
      ],
      "text/plain": [
       "     SALE TYPE  SOLD DATE              PROPERTY TYPE  \\\n",
       "0  MLS Listing        NaN  Single Family Residential   \n",
       "1  MLS Listing        NaN  Single Family Residential   \n",
       "2  MLS Listing        NaN  Single Family Residential   \n",
       "3  MLS Listing        NaN  Single Family Residential   \n",
       "4  MLS Listing        NaN  Single Family Residential   \n",
       "5  MLS Listing        NaN  Single Family Residential   \n",
       "6  MLS Listing        NaN  Single Family Residential   \n",
       "7  MLS Listing        NaN  Single Family Residential   \n",
       "8  MLS Listing        NaN                  Townhouse   \n",
       "9  MLS Listing        NaN  Single Family Residential   \n",
       "\n",
       "                    ADDRESS     CITY STATE    ZIP   PRICE  BEDS  BATHS  \\\n",
       "0  18622 Flagstone Creek Rd  Houston    TX  77084  228500   4.0    2.5   \n",
       "1         4323 Aspenglen Dr  Houston    TX  77084  115000   2.0    2.0   \n",
       "2      2511 Creek Meadow Dr  Houston    TX  77084  154995   3.0    2.0   \n",
       "3          6603 Langham Way  Houston    TX  77084  150000   3.0    2.0   \n",
       "4         2014 Blindlake Dr  Houston    TX  77084  174990   3.0    2.0   \n",
       "5          7010 Jasmine Trl  Houston    TX  77084  189900   3.0    2.0   \n",
       "6       4723 Autumn Pine Ln  Houston    TX  77084  300000   5.0    3.5   \n",
       "7     4522 Pine Hollow Trce  Houston    TX  77084  200998   3.0    2.0   \n",
       "8    6103 Yorkglen Manor Ln  Houston    TX  77084  141000   3.0    2.5   \n",
       "9       4507 Turf Valley Dr  Houston    TX  77084  188000   3.0    2.0   \n",
       "\n",
       "                     LOCATION  SQUARE FEET  LOT SIZE  YEAR BUILT  \\\n",
       "0      Oak Ridge Place Sec 06       2634.0    5775.0      2007.0   \n",
       "1          Bear Creek Village       1344.0    5500.0      1979.0   \n",
       "2      Westlake Forest Sec 01       1650.0    7508.0      1978.0   \n",
       "3                   Northglen       1526.0    6900.0      1979.0   \n",
       "4                    Westlake       1558.0    7800.0      1974.0   \n",
       "5           Hearthstone Place       1889.0    7103.0      1998.0   \n",
       "6     Lakes/pine Forest Sec 4       3177.0    8125.0      2009.0   \n",
       "7        Pine Forrest Landing       1780.0    6206.0      2013.0   \n",
       "8  Villages/langham Crk Sec 7       1659.0    2778.0      2007.0   \n",
       "9   Bear Creek Village Sec 01       1994.0    7980.0      1975.0   \n",
       "\n",
       "   DAYS ON MARKET  $/SQUARE FEET  HOA/MONTH  STATUS  \\\n",
       "0              83           87.0       46.0  Active   \n",
       "1               1           86.0       38.0  Active   \n",
       "2               1           94.0       40.0  Active   \n",
       "3               1           98.0       20.0  Active   \n",
       "4               1          112.0       37.0  Active   \n",
       "5               1          101.0       35.0  Active   \n",
       "6               1           94.0       36.0  Active   \n",
       "7               1          113.0        NaN  Active   \n",
       "8               1           85.0      127.0  Active   \n",
       "9               2           94.0       38.0  Active   \n",
       "\n",
       "  NEXT OPEN HOUSE START TIME NEXT OPEN HOUSE END TIME  \\\n",
       "0                        NaN                      NaN   \n",
       "1                        NaN                      NaN   \n",
       "2                        NaN                      NaN   \n",
       "3                        NaN                      NaN   \n",
       "4                        NaN                      NaN   \n",
       "5                        NaN                      NaN   \n",
       "6                        NaN                      NaN   \n",
       "7                        NaN                      NaN   \n",
       "8                        NaN                      NaN   \n",
       "9                        NaN                      NaN   \n",
       "\n",
       "                                                 URL  SOURCE      MLS#  \\\n",
       "0  http://www.redfin.com/TX/Houston/18622-Flagsto...  HARMLS  10023448   \n",
       "1  http://www.redfin.com/TX/Houston/4323-Aspengle...  HARMLS   6775078   \n",
       "2  http://www.redfin.com/TX/Houston/2511-Creek-Me...  HARMLS  90914049   \n",
       "3  http://www.redfin.com/TX/Houston/6603-Langham-...  HARMLS  23838927   \n",
       "4  http://www.redfin.com/TX/Houston/2014-Blindlak...  HARMLS  37832502   \n",
       "5  http://www.redfin.com/TX/Houston/7010-Jasmine-...  HARMLS  37094502   \n",
       "6  http://www.redfin.com/TX/Houston/4723-Autumn-P...  HARMLS  76636424   \n",
       "7  http://www.redfin.com/TX/Houston/4522-Pine-Hol...  HARMLS  90576643   \n",
       "8  http://www.redfin.com/TX/Houston/6103-Yorkglen...  HARMLS  14927015   \n",
       "9  http://www.redfin.com/TX/Houston/4507-Turf-Val...  HARMLS  16734256   \n",
       "\n",
       "  FAVORITE INTERESTED   LATITUDE  LONGITUDE  \n",
       "0        N          Y  29.812191 -95.694574  \n",
       "1        N          Y  29.836912 -95.644008  \n",
       "2        N          Y  29.803834 -95.719082  \n",
       "3        N          Y  29.872906 -95.675728  \n",
       "4        N          Y  29.796596 -95.708739  \n",
       "5        N          Y  29.877778 -95.630249  \n",
       "6        N          Y  29.839089 -95.674762  \n",
       "7        N          Y  29.839523 -95.662002  \n",
       "8        N          Y  29.865595 -95.650786  \n",
       "9        N          Y  29.839541 -95.640476  "
      ]
     },
     "execution_count": 8,
     "metadata": {},
     "output_type": "execute_result"
    }
   ],
   "source": [
    "df.head(10)"
   ]
  },
  {
   "cell_type": "markdown",
   "metadata": {},
   "source": [
    "### how many NaN do I have? Check by looking at the shape after calling dropna()"
   ]
  },
  {
   "cell_type": "code",
   "execution_count": 9,
   "metadata": {},
   "outputs": [
    {
     "name": "stdout",
     "output_type": "stream",
     "text": [
      "(256, 27)\n",
      "(0, 27)\n"
     ]
    }
   ],
   "source": [
    "print(df.shape)\n",
    "print(df.dropna().shape)\n"
   ]
  },
  {
   "cell_type": "code",
   "execution_count": null,
   "metadata": {},
   "outputs": [],
   "source": []
  },
  {
   "cell_type": "markdown",
   "metadata": {},
   "source": [
    "### I lose all my data, how many NaNs per column?"
   ]
  },
  {
   "cell_type": "code",
   "execution_count": 10,
   "metadata": {},
   "outputs": [
    {
     "data": {
      "text/plain": [
       "SALE TYPE                       0\n",
       "SOLD DATE                     256\n",
       "PROPERTY TYPE                   0\n",
       "ADDRESS                         0\n",
       "CITY                            0\n",
       "STATE                           0\n",
       "ZIP                             0\n",
       "PRICE                           0\n",
       "BEDS                            4\n",
       "BATHS                           4\n",
       "LOCATION                        1\n",
       "SQUARE FEET                     4\n",
       "LOT SIZE                       16\n",
       "YEAR BUILT                      4\n",
       "DAYS ON MARKET                  0\n",
       "$/SQUARE FEET                   4\n",
       "HOA/MONTH                      12\n",
       "STATUS                          0\n",
       "NEXT OPEN HOUSE START TIME    246\n",
       "NEXT OPEN HOUSE END TIME      246\n",
       "URL                             0\n",
       "SOURCE                          0\n",
       "MLS#                            0\n",
       "FAVORITE                        0\n",
       "INTERESTED                      0\n",
       "LATITUDE                        0\n",
       "LONGITUDE                       0\n",
       "dtype: int64"
      ]
     },
     "metadata": {},
     "output_type": "display_data"
    }
   ],
   "source": [
    "nan_counts = df.isnull().sum()\n",
    "display(nan_counts)\n"
   ]
  },
  {
   "cell_type": "markdown",
   "metadata": {},
   "source": [
    "### Looks like we have a few columns with lots of null/NaN values, let's drop columns where more than half the values are Null/NaN"
   ]
  },
  {
   "cell_type": "code",
   "execution_count": 11,
   "metadata": {},
   "outputs": [],
   "source": [
    "drop_colnames = list(nan_counts[nan_counts>=(df.shape[0]//2)].index )\n",
    "df = df.drop(drop_colnames, axis=1)"
   ]
  },
  {
   "cell_type": "markdown",
   "metadata": {},
   "source": [
    "### Let's check the number of Null/NaNs now\n",
    "\n"
   ]
  },
  {
   "cell_type": "code",
   "execution_count": 12,
   "metadata": {},
   "outputs": [
    {
     "data": {
      "text/plain": [
       "SALE TYPE          0\n",
       "PROPERTY TYPE      0\n",
       "ADDRESS            0\n",
       "CITY               0\n",
       "STATE              0\n",
       "ZIP                0\n",
       "PRICE              0\n",
       "BEDS               4\n",
       "BATHS              4\n",
       "LOCATION           1\n",
       "SQUARE FEET        4\n",
       "LOT SIZE          16\n",
       "YEAR BUILT         4\n",
       "DAYS ON MARKET     0\n",
       "$/SQUARE FEET      4\n",
       "HOA/MONTH         12\n",
       "STATUS             0\n",
       "URL                0\n",
       "SOURCE             0\n",
       "MLS#               0\n",
       "FAVORITE           0\n",
       "INTERESTED         0\n",
       "LATITUDE           0\n",
       "LONGITUDE          0\n",
       "dtype: int64"
      ]
     },
     "metadata": {},
     "output_type": "display_data"
    }
   ],
   "source": [
    "new_nan_counts = df.isnull().sum()\n",
    "display(new_nan_counts)\n"
   ]
  },
  {
   "cell_type": "markdown",
   "metadata": {},
   "source": [
    "### Create a single train/test split on the data"
   ]
  },
  {
   "cell_type": "code",
   "execution_count": 13,
   "metadata": {},
   "outputs": [],
   "source": [
    "from sklearn.model_selection import train_test_split\n",
    "df_train, df_test = train_test_split(df, test_size=0.2)\n"
   ]
  },
  {
   "cell_type": "code",
   "execution_count": 14,
   "metadata": {},
   "outputs": [
    {
     "name": "stdout",
     "output_type": "stream",
     "text": [
      "(204, 24)\n",
      "(52, 24)\n"
     ]
    }
   ],
   "source": [
    "print(df_train.shape)\n",
    "print(df_test.shape)"
   ]
  },
  {
   "cell_type": "markdown",
   "metadata": {},
   "source": [
    "## calculate medians for non-String columns with nans from train data only"
   ]
  },
  {
   "cell_type": "code",
   "execution_count": 15,
   "metadata": {},
   "outputs": [
    {
     "name": "stdout",
     "output_type": "stream",
     "text": [
      "{'BEDS': 3.0, 'BATHS': 2.5, 'LOCATION': '', 'SQUARE FEET': 2194.0, 'LOT SIZE': 6900.0, 'YEAR BUILT': 1993.0, '$/SQUARE FEET': 94.0, 'HOA/MONTH': 38.0}\n"
     ]
    }
   ],
   "source": [
    "nancols = list(new_nan_counts[ new_nan_counts>0].index)\n",
    "impute_vals = dict()\n",
    "\n",
    "for nc in nancols:\n",
    "    is_string = df_train[nc].dtypes=='object'\n",
    "    this_mean = ''\n",
    "    if not is_string:\n",
    "        this_mean = np.nanmedian(df_train[nc])\n",
    "    impute_vals[nc] = this_mean\n",
    "\n",
    "print(impute_vals)"
   ]
  },
  {
   "cell_type": "markdown",
   "metadata": {},
   "source": [
    "### Replace NA values in train and test dataframes with above values"
   ]
  },
  {
   "cell_type": "code",
   "execution_count": 16,
   "metadata": {},
   "outputs": [],
   "source": [
    "df_train = df_train.fillna(impute_vals)\n",
    "df_test = df_test.fillna(impute_vals)"
   ]
  },
  {
   "cell_type": "markdown",
   "metadata": {},
   "source": [
    "### Visualize features (look at train data only!!)"
   ]
  },
  {
   "cell_type": "code",
   "execution_count": 17,
   "metadata": {},
   "outputs": [
    {
     "name": "stdout",
     "output_type": "stream",
     "text": [
      "['ZIP', 'PRICE', 'BEDS', 'BATHS', 'SQUARE FEET', 'LOT SIZE', 'YEAR BUILT', 'DAYS ON MARKET', '$/SQUARE FEET', 'HOA/MONTH', 'MLS#', 'LATITUDE', 'LONGITUDE']\n"
     ]
    }
   ],
   "source": [
    "numeric_features = [ colname for colname in df_train.columns if df_train[colname].dtypes!='object']\n",
    "print(numeric_features)"
   ]
  },
  {
   "cell_type": "code",
   "execution_count": 18,
   "metadata": {},
   "outputs": [
    {
     "data": {
      "text/plain": [
       "ZIP                 1\n",
       "PRICE             141\n",
       "BEDS                7\n",
       "BATHS               9\n",
       "SQUARE FEET       186\n",
       "LOT SIZE          155\n",
       "YEAR BUILT         44\n",
       "DAYS ON MARKET    100\n",
       "$/SQUARE FEET      63\n",
       "HOA/MONTH          37\n",
       "MLS#              204\n",
       "LATITUDE          200\n",
       "LONGITUDE         195\n",
       "dtype: int64"
      ]
     },
     "execution_count": 18,
     "metadata": {},
     "output_type": "execute_result"
    }
   ],
   "source": [
    "df_train[numeric_features].nunique()"
   ]
  },
  {
   "cell_type": "code",
   "execution_count": 19,
   "metadata": {},
   "outputs": [
    {
     "data": {
      "text/html": [
       "<div>\n",
       "<style scoped>\n",
       "    .dataframe tbody tr th:only-of-type {\n",
       "        vertical-align: middle;\n",
       "    }\n",
       "\n",
       "    .dataframe tbody tr th {\n",
       "        vertical-align: top;\n",
       "    }\n",
       "\n",
       "    .dataframe thead th {\n",
       "        text-align: right;\n",
       "    }\n",
       "</style>\n",
       "<table border=\"1\" class=\"dataframe\">\n",
       "  <thead>\n",
       "    <tr style=\"text-align: right;\">\n",
       "      <th></th>\n",
       "      <th>ZIP</th>\n",
       "      <th>PRICE</th>\n",
       "      <th>BEDS</th>\n",
       "      <th>BATHS</th>\n",
       "      <th>SQUARE FEET</th>\n",
       "      <th>LOT SIZE</th>\n",
       "      <th>YEAR BUILT</th>\n",
       "      <th>DAYS ON MARKET</th>\n",
       "      <th>$/SQUARE FEET</th>\n",
       "      <th>HOA/MONTH</th>\n",
       "      <th>MLS#</th>\n",
       "      <th>LATITUDE</th>\n",
       "      <th>LONGITUDE</th>\n",
       "    </tr>\n",
       "  </thead>\n",
       "  <tbody>\n",
       "    <tr>\n",
       "      <th>count</th>\n",
       "      <td>204.0</td>\n",
       "      <td>2.040000e+02</td>\n",
       "      <td>204.000000</td>\n",
       "      <td>204.000000</td>\n",
       "      <td>204.000000</td>\n",
       "      <td>204.000000</td>\n",
       "      <td>204.000000</td>\n",
       "      <td>204.000000</td>\n",
       "      <td>204.000000</td>\n",
       "      <td>204.000000</td>\n",
       "      <td>2.040000e+02</td>\n",
       "      <td>204.000000</td>\n",
       "      <td>204.000000</td>\n",
       "    </tr>\n",
       "    <tr>\n",
       "      <th>mean</th>\n",
       "      <td>77084.0</td>\n",
       "      <td>2.371459e+05</td>\n",
       "      <td>3.568627</td>\n",
       "      <td>2.509804</td>\n",
       "      <td>2302.259804</td>\n",
       "      <td>9056.377451</td>\n",
       "      <td>1993.593137</td>\n",
       "      <td>47.191176</td>\n",
       "      <td>110.656863</td>\n",
       "      <td>45.098039</td>\n",
       "      <td>5.512687e+07</td>\n",
       "      <td>29.838647</td>\n",
       "      <td>-95.668005</td>\n",
       "    </tr>\n",
       "    <tr>\n",
       "      <th>std</th>\n",
       "      <td>0.0</td>\n",
       "      <td>2.570665e+05</td>\n",
       "      <td>0.781684</td>\n",
       "      <td>0.671299</td>\n",
       "      <td>644.330917</td>\n",
       "      <td>19892.383294</td>\n",
       "      <td>14.128759</td>\n",
       "      <td>42.560854</td>\n",
       "      <td>229.402393</td>\n",
       "      <td>23.894683</td>\n",
       "      <td>2.765539e+07</td>\n",
       "      <td>0.020927</td>\n",
       "      <td>0.027696</td>\n",
       "    </tr>\n",
       "    <tr>\n",
       "      <th>min</th>\n",
       "      <td>77084.0</td>\n",
       "      <td>1.100000e+05</td>\n",
       "      <td>1.000000</td>\n",
       "      <td>1.000000</td>\n",
       "      <td>846.000000</td>\n",
       "      <td>2151.000000</td>\n",
       "      <td>1974.000000</td>\n",
       "      <td>1.000000</td>\n",
       "      <td>50.000000</td>\n",
       "      <td>20.000000</td>\n",
       "      <td>2.582650e+05</td>\n",
       "      <td>29.792832</td>\n",
       "      <td>-95.719493</td>\n",
       "    </tr>\n",
       "    <tr>\n",
       "      <th>25%</th>\n",
       "      <td>77084.0</td>\n",
       "      <td>1.795000e+05</td>\n",
       "      <td>3.000000</td>\n",
       "      <td>2.000000</td>\n",
       "      <td>1815.750000</td>\n",
       "      <td>6189.750000</td>\n",
       "      <td>1980.000000</td>\n",
       "      <td>15.000000</td>\n",
       "      <td>84.750000</td>\n",
       "      <td>33.000000</td>\n",
       "      <td>3.092818e+07</td>\n",
       "      <td>29.821340</td>\n",
       "      <td>-95.691556</td>\n",
       "    </tr>\n",
       "    <tr>\n",
       "      <th>50%</th>\n",
       "      <td>77084.0</td>\n",
       "      <td>2.000000e+05</td>\n",
       "      <td>3.000000</td>\n",
       "      <td>2.500000</td>\n",
       "      <td>2194.000000</td>\n",
       "      <td>6900.000000</td>\n",
       "      <td>1993.000000</td>\n",
       "      <td>35.000000</td>\n",
       "      <td>94.000000</td>\n",
       "      <td>38.000000</td>\n",
       "      <td>5.986534e+07</td>\n",
       "      <td>29.841763</td>\n",
       "      <td>-95.667724</td>\n",
       "    </tr>\n",
       "    <tr>\n",
       "      <th>75%</th>\n",
       "      <td>77084.0</td>\n",
       "      <td>2.460000e+05</td>\n",
       "      <td>4.000000</td>\n",
       "      <td>2.500000</td>\n",
       "      <td>2690.250000</td>\n",
       "      <td>7875.750000</td>\n",
       "      <td>2006.000000</td>\n",
       "      <td>67.250000</td>\n",
       "      <td>103.000000</td>\n",
       "      <td>50.000000</td>\n",
       "      <td>7.734083e+07</td>\n",
       "      <td>29.854029</td>\n",
       "      <td>-95.640845</td>\n",
       "    </tr>\n",
       "    <tr>\n",
       "      <th>max</th>\n",
       "      <td>77084.0</td>\n",
       "      <td>3.699000e+06</td>\n",
       "      <td>7.000000</td>\n",
       "      <td>5.500000</td>\n",
       "      <td>4257.000000</td>\n",
       "      <td>275734.000000</td>\n",
       "      <td>2018.000000</td>\n",
       "      <td>232.000000</td>\n",
       "      <td>3363.000000</td>\n",
       "      <td>189.000000</td>\n",
       "      <td>9.880200e+07</td>\n",
       "      <td>29.877778</td>\n",
       "      <td>-95.623515</td>\n",
       "    </tr>\n",
       "  </tbody>\n",
       "</table>\n",
       "</div>"
      ],
      "text/plain": [
       "           ZIP         PRICE        BEDS       BATHS  SQUARE FEET  \\\n",
       "count    204.0  2.040000e+02  204.000000  204.000000   204.000000   \n",
       "mean   77084.0  2.371459e+05    3.568627    2.509804  2302.259804   \n",
       "std        0.0  2.570665e+05    0.781684    0.671299   644.330917   \n",
       "min    77084.0  1.100000e+05    1.000000    1.000000   846.000000   \n",
       "25%    77084.0  1.795000e+05    3.000000    2.000000  1815.750000   \n",
       "50%    77084.0  2.000000e+05    3.000000    2.500000  2194.000000   \n",
       "75%    77084.0  2.460000e+05    4.000000    2.500000  2690.250000   \n",
       "max    77084.0  3.699000e+06    7.000000    5.500000  4257.000000   \n",
       "\n",
       "            LOT SIZE   YEAR BUILT  DAYS ON MARKET  $/SQUARE FEET   HOA/MONTH  \\\n",
       "count     204.000000   204.000000      204.000000     204.000000  204.000000   \n",
       "mean     9056.377451  1993.593137       47.191176     110.656863   45.098039   \n",
       "std     19892.383294    14.128759       42.560854     229.402393   23.894683   \n",
       "min      2151.000000  1974.000000        1.000000      50.000000   20.000000   \n",
       "25%      6189.750000  1980.000000       15.000000      84.750000   33.000000   \n",
       "50%      6900.000000  1993.000000       35.000000      94.000000   38.000000   \n",
       "75%      7875.750000  2006.000000       67.250000     103.000000   50.000000   \n",
       "max    275734.000000  2018.000000      232.000000    3363.000000  189.000000   \n",
       "\n",
       "               MLS#    LATITUDE   LONGITUDE  \n",
       "count  2.040000e+02  204.000000  204.000000  \n",
       "mean   5.512687e+07   29.838647  -95.668005  \n",
       "std    2.765539e+07    0.020927    0.027696  \n",
       "min    2.582650e+05   29.792832  -95.719493  \n",
       "25%    3.092818e+07   29.821340  -95.691556  \n",
       "50%    5.986534e+07   29.841763  -95.667724  \n",
       "75%    7.734083e+07   29.854029  -95.640845  \n",
       "max    9.880200e+07   29.877778  -95.623515  "
      ]
     },
     "execution_count": 19,
     "metadata": {},
     "output_type": "execute_result"
    }
   ],
   "source": [
    "df_train[numeric_features].describe()"
   ]
  },
  {
   "cell_type": "code",
   "execution_count": 20,
   "metadata": {},
   "outputs": [
    {
     "data": {
      "image/png": "[encoded data removed]",
      "text/plain": [
       "<Figure size 1152x1152 with 16 Axes>"
      ]
     },
     "metadata": {
      "needs_background": "light"
     },
     "output_type": "display_data"
    },
    {
     "data": {
      "text/plain": [
       "<Figure size 432x288 with 0 Axes>"
      ]
     },
     "metadata": {},
     "output_type": "display_data"
    }
   ],
   "source": [
    "cols = 4\n",
    "rows = int( np.ceil( len(numeric_features)/ cols))\n",
    "\n",
    "fig, axes = plt.subplots(rows, cols, figsize=(16,16))\n",
    "\n",
    "for i in range(len(numeric_features)):\n",
    "    this_row = int(np.floor(i/cols))\n",
    "    this_col = int(i%cols)\n",
    "    feat = numeric_features[i]\n",
    "    this_ax = axes[this_row][this_col]\n",
    "    this_ax.hist(df_train[feat], bins=20)\n",
    "    this_ax.set_title(feat)\n",
    "\n",
    "plt.show()\n",
    "plt.tight_layout()\n"
   ]
  },
  {
   "cell_type": "markdown",
   "metadata": {},
   "source": [
    "### Lot size, Price and $/square feet look like they have outliers - let's winsorize"
   ]
  },
  {
   "cell_type": "markdown",
   "metadata": {},
   "source": [
    "#### First compute winsorization values - using train data ONLY!"
   ]
  },
  {
   "cell_type": "code",
   "execution_count": 21,
   "metadata": {},
   "outputs": [
    {
     "name": "stdout",
     "output_type": "stream",
     "text": [
      "{'LOT SIZE': 10199.3, 'PRICE': 313391.24999999994, '$/SQUARE FEET': 122.39999999999998, 'HOA/MONTH': 69.54999999999998}\n"
     ]
    }
   ],
   "source": [
    "win_cols = ['LOT SIZE','PRICE','$/SQUARE FEET', 'HOA/MONTH']\n",
    "win_values = [ np.percentile(df_train[col], 95) for col in win_cols ]\n",
    "\n",
    "win_dict = dict(zip(win_cols, win_values))\n",
    "print(win_dict)"
   ]
  },
  {
   "cell_type": "code",
   "execution_count": 22,
   "metadata": {},
   "outputs": [],
   "source": [
    "for col in win_cols:\n",
    "    new_col = f'{col}_winsorized'\n",
    "    df_train[new_col] = df_train[col]\n",
    "    df_test[new_col] = df_test[col]\n",
    "    df_train.loc[df_train[col]>=win_dict[col], new_col] = win_dict[col]\n",
    "    df_test.loc[df_test[col]>=win_dict[col], new_col] = win_dict[col]\n"
   ]
  },
  {
   "cell_type": "markdown",
   "metadata": {},
   "source": [
    "### Let's visualize again"
   ]
  },
  {
   "cell_type": "code",
   "execution_count": 23,
   "metadata": {},
   "outputs": [
    {
     "name": "stdout",
     "output_type": "stream",
     "text": [
      "['ZIP', 'PRICE', 'BEDS', 'BATHS', 'SQUARE FEET', 'LOT SIZE', 'YEAR BUILT', 'DAYS ON MARKET', '$/SQUARE FEET', 'HOA/MONTH', 'MLS#', 'LATITUDE', 'LONGITUDE', 'LOT SIZE_winsorized', 'PRICE_winsorized', '$/SQUARE FEET_winsorized', 'HOA/MONTH_winsorized']\n"
     ]
    },
    {
     "data": {
      "image/png": "[encoded data removed]",
      "text/plain": [
       "<Figure size 1152x1152 with 20 Axes>"
      ]
     },
     "metadata": {
      "needs_background": "light"
     },
     "output_type": "display_data"
    }
   ],
   "source": [
    "numeric_features = [ colname for colname in df_train.columns if df_train[colname].dtypes!='object']\n",
    "print(numeric_features)\n",
    "\n",
    "cols = 4\n",
    "rows = int( np.ceil( len(numeric_features)/ cols))\n",
    "\n",
    "fig, axes = plt.subplots(rows, cols, figsize=(16,16))\n",
    "\n",
    "for i in range(len(numeric_features)):\n",
    "    this_row = int(np.floor(i/cols))\n",
    "    this_col = int(i%cols)\n",
    "    feat = numeric_features[i]\n",
    "    this_ax = axes[this_row][this_col]\n",
    "    this_ax.hist(df_train[feat], bins=10)\n",
    "    this_ax.set_title(feat)\n",
    "\n",
    "plt.show()\n",
    "\n"
   ]
  },
  {
   "cell_type": "markdown",
   "metadata": {},
   "source": [
    "## What should our target variable be?"
   ]
  },
  {
   "cell_type": "code",
   "execution_count": 24,
   "metadata": {},
   "outputs": [
    {
     "data": {
      "text/plain": [
       "<matplotlib.axes._subplots.AxesSubplot at 0x7f76fac78ed0>"
      ]
     },
     "execution_count": 24,
     "metadata": {},
     "output_type": "execute_result"
    },
    {
     "data": {
      "image/png": "[encoded data removed]",
      "text/plain": [
       "<Figure size 432x288 with 1 Axes>"
      ]
     },
     "metadata": {
      "needs_background": "light"
     },
     "output_type": "display_data"
    }
   ],
   "source": [
    "df_train.plot.scatter('SQUARE FEET','PRICE')\n",
    "\n"
   ]
  },
  {
   "cell_type": "code",
   "execution_count": 25,
   "metadata": {},
   "outputs": [
    {
     "data": {
      "text/plain": [
       "<matplotlib.axes._subplots.AxesSubplot at 0x7f76fb945e90>"
      ]
     },
     "execution_count": 25,
     "metadata": {},
     "output_type": "execute_result"
    },
    {
     "data": {
      "image/png": "[encoded data removed]",
      "text/plain": [
       "<Figure size 432x288 with 1 Axes>"
      ]
     },
     "metadata": {
      "needs_background": "light"
     },
     "output_type": "display_data"
    }
   ],
   "source": [
    "df_train.plot.scatter('SQUARE FEET','PRICE_winsorized')\n"
   ]
  },
  {
   "cell_type": "markdown",
   "metadata": {},
   "source": [
    "### Let's run regressions on existing features"
   ]
  },
  {
   "cell_type": "markdown",
   "metadata": {},
   "source": [
    "\n",
    "#### You may also want to create some features e.g.\n",
    " - age, in years"
   ]
  },
  {
   "cell_type": "code",
   "execution_count": 26,
   "metadata": {},
   "outputs": [
    {
     "data": {
      "text/plain": [
       "7"
      ]
     },
     "execution_count": 26,
     "metadata": {},
     "output_type": "execute_result"
    }
   ],
   "source": [
    "reg_features = ['BEDS', 'BATHS', 'SQUARE FEET', 'DAYS ON MARKET', 'HOA/MONTH_winsorized', 'LOT SIZE_winsorized', '$/SQUARE FEET_winsorized']\n",
    "#reg_features = ['BEDS', 'BATHS', 'SQUARE FEET', 'DAYS ON MARKET', 'HOA/MONTH', 'LOT SIZE', '$/SQUARE FEET']\n",
    "\n",
    "target = 'PRICE_winsorized'\n",
    "\n",
    "len(reg_features)"
   ]
  },
  {
   "cell_type": "markdown",
   "metadata": {},
   "source": [
    "## Closed form linear regression - learn the coefficients"
   ]
  },
  {
   "cell_type": "code",
   "execution_count": 27,
   "metadata": {},
   "outputs": [
    {
     "name": "stdout",
     "output_type": "stream",
     "text": [
      "[-1.60221704e+05  5.19742479e+02 -4.01476051e+03  7.15035540e+01\n",
      "  1.19804533e+02  2.68588101e+02  3.86527377e+00  1.83570126e+03]\n"
     ]
    }
   ],
   "source": [
    "m = df_train.shape[0]\n",
    "intercept_col = np.ones(m).reshape(-1,1)\n",
    "feature_cols =  df_train[ reg_features ].values\n",
    "train_data_x = np.concatenate( (intercept_col, feature_cols), axis=1)\n",
    "\n",
    "X = np.matrix(train_data_x)\n",
    "y = np.matrix(df_train[ [target] ])\n",
    "\n",
    "p_mat = np.linalg.inv(X.T.dot(X)).dot(X.T).dot(y) \n",
    "coefs =  np.ravel(p_mat)\n",
    "\n",
    "print(coefs)"
   ]
  },
  {
   "cell_type": "markdown",
   "metadata": {},
   "source": [
    "### Sci-Kit learn's implementation?"
   ]
  },
  {
   "cell_type": "code",
   "execution_count": 28,
   "metadata": {},
   "outputs": [
    {
     "name": "stdout",
     "output_type": "stream",
     "text": [
      "[-160221.70374907]\n",
      "[[ 5.19742479e+02 -4.01476051e+03  7.15035540e+01  1.19804533e+02\n",
      "   2.68588101e+02  3.86527377e+00  1.83570126e+03]]\n"
     ]
    }
   ],
   "source": [
    "from sklearn import linear_model\n",
    "\n",
    "X_nointercept = np.matrix(feature_cols)\n",
    "\n",
    "lm1 = linear_model.LinearRegression(fit_intercept=True)\n",
    "lm1.fit(X_nointercept, y)\n",
    "print(lm1.intercept_)\n",
    "print(lm1.coef_)"
   ]
  },
  {
   "cell_type": "code",
   "execution_count": 29,
   "metadata": {},
   "outputs": [
    {
     "name": "stdout",
     "output_type": "stream",
     "text": [
      "0.0\n",
      "[[-1.60221704e+05  5.19742479e+02 -4.01476051e+03  7.15035540e+01\n",
      "   1.19804533e+02  2.68588101e+02  3.86527377e+00  1.83570126e+03]]\n"
     ]
    }
   ],
   "source": [
    "lm2 = linear_model.LinearRegression(fit_intercept=False)\n",
    "lm2.fit(X, y)\n",
    "print(lm2.intercept_)\n",
    "print(lm2.coef_)"
   ]
  },
  {
   "cell_type": "markdown",
   "metadata": {},
   "source": [
    "## Calculate in-sample predictions and analyze performance"
   ]
  },
  {
   "cell_type": "code",
   "execution_count": 30,
   "metadata": {},
   "outputs": [],
   "source": [
    "actuals_train = df_train['PRICE_winsorized'].values\n",
    "pred_train = coefs[0] + (coefs[1:] * df_train[reg_features].values).sum(axis=1)\n",
    "r_squared_train = metrics.r2_score(actuals_train, pred_train)"
   ]
  },
  {
   "cell_type": "code",
   "execution_count": 36,
   "metadata": {},
   "outputs": [
    {
     "data": {
      "text/plain": [
       "0.8535680194610815"
      ]
     },
     "execution_count": 36,
     "metadata": {},
     "output_type": "execute_result"
    }
   ],
   "source": [
    "metrics.r2_score(actuals_train, pred_train)"
   ]
  },
  {
   "cell_type": "code",
   "execution_count": 31,
   "metadata": {},
   "outputs": [
    {
     "data": {
      "text/plain": [
       "341883953.90385896"
      ]
     },
     "execution_count": 31,
     "metadata": {},
     "output_type": "execute_result"
    }
   ],
   "source": [
    "metrics.mean_squared_error(actuals_train, pred_train)"
   ]
  },
  {
   "cell_type": "code",
   "execution_count": 32,
   "metadata": {},
   "outputs": [
    {
     "data": {
      "image/png": "[encoded data removed]",
      "text/plain": [
       "<Figure size 432x432 with 1 Axes>"
      ]
     },
     "metadata": {
      "needs_background": "light"
     },
     "output_type": "display_data"
    }
   ],
   "source": [
    "fig,ax = plt.subplots(figsize=(6,6))\n",
    "plt.scatter(actuals_train, pred_train, marker='o' )\n",
    "plt.title(f'In sample performance, r-squared: {r_squared_train:.2f}')\n",
    "plt.show()"
   ]
  },
  {
   "cell_type": "markdown",
   "metadata": {},
   "source": [
    "## Calculate out-of-sample predictions and analyze performance"
   ]
  },
  {
   "cell_type": "code",
   "execution_count": 33,
   "metadata": {},
   "outputs": [
    {
     "data": {
      "image/png": "[encoded data removed]",
      "text/plain": [
       "<Figure size 432x432 with 1 Axes>"
      ]
     },
     "metadata": {
      "needs_background": "light"
     },
     "output_type": "display_data"
    }
   ],
   "source": [
    "actuals_test  = df_test['PRICE_winsorized'].values\n",
    "pred_test = coefs[0] + (coefs[1:] * df_test[reg_features].values).sum(axis=1)\n",
    "r_squared_test = metrics.r2_score(actuals_test, pred_test)\n",
    "\n",
    "fig,ax = plt.subplots(figsize=(6,6))\n",
    "plt.scatter(actuals_test, pred_test, marker='o' )\n",
    "plt.title(f'Out-of-sample performance, r-squared: {r_squared_test:.2f}')\n",
    "plt.show()"
   ]
  },
  {
   "cell_type": "markdown",
   "metadata": {},
   "source": [
    "## Scikit-learn linear regression"
   ]
  },
  {
   "cell_type": "markdown",
   "metadata": {},
   "source": [
    "### Let's check in-sample performance of sklearn fit, should be the same!"
   ]
  },
  {
   "cell_type": "code",
   "execution_count": 34,
   "metadata": {},
   "outputs": [
    {
     "data": {
      "image/png": "[encoded data removed]",
      "text/plain": [
       "<Figure size 432x432 with 1 Axes>"
      ]
     },
     "metadata": {
      "needs_background": "light"
     },
     "output_type": "display_data"
    }
   ],
   "source": [
    "pred_train_sklearn = lm1.predict( df_train[reg_features] )\n",
    "r_squared_train = metrics.r2_score(actuals_train, pred_train_sklearn)\n",
    "\n",
    "fig,ax = plt.subplots(figsize=(6,6))\n",
    "plt.scatter(actuals_train, pred_train_sklearn, marker='o' )\n",
    "plt.title(f'In-sample performance, r-squared: {r_squared_train:.2f}')\n",
    "plt.show()"
   ]
  },
  {
   "cell_type": "code",
   "execution_count": 35,
   "metadata": {},
   "outputs": [
    {
     "data": {
      "image/png": "[encoded data removed]",
      "text/plain": [
       "<Figure size 432x432 with 1 Axes>"
      ]
     },
     "metadata": {
      "needs_background": "light"
     },
     "output_type": "display_data"
    }
   ],
   "source": [
    "pred_test_sklearn = lm1.predict( df_test[reg_features] )\n",
    "r_squared_test = metrics.r2_score(actuals_test, pred_test_sklearn)\n",
    "\n",
    "fig,ax = plt.subplots(figsize=(6,6))\n",
    "plt.scatter(actuals_test, pred_test_sklearn, marker='o' )\n",
    "plt.title(f'In-sample performance, r-squared: {r_squared_test:.2f}')\n",
    "plt.show()"
   ]
  },
  {
   "cell_type": "markdown",
   "metadata": {},
   "source": [
    "\n",
    "### <font color='green'> In-class exercise"
   ]
  },
  {
   "cell_type": "markdown",
   "metadata": {},
   "source": [
    "\n",
    "### <font color='green'> <ol>    <li>Try the above regressions WITH un-winsorized price as the target variable <li> Try the above regressions winsorized price as the target variable but with un-winsorized features   </ol>    </font>"
   ]
  },
  {
   "cell_type": "code",
   "execution_count": null,
   "metadata": {},
   "outputs": [],
   "source": []
  }
 ],
 "metadata": {
  "kernelspec": {
   "display_name": "Python 3",
   "language": "python",
   "name": "python3"
  },
  "language_info": {
   "codemirror_mode": {
    "name": "ipython",
    "version": 3
   },
   "file_extension": ".py",
   "mimetype": "text/x-python",
   "name": "python",
   "nbconvert_exporter": "python",
   "pygments_lexer": "ipython3",
   "version": "3.8.8"
  }
 },
 "nbformat": 4,
 "nbformat_minor": 2
}
