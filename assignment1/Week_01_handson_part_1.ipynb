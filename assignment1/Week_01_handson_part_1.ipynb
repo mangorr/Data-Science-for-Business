{
 "cells": [
  {
   "cell_type": "markdown",
   "metadata": {},
   "source": [
    "## Import pandas, assign an alias (e.g. pd)"
   ]
  },
  {
   "cell_type": "code",
   "execution_count": 1,
   "metadata": {},
   "outputs": [],
   "source": [
    "import pandas as pd"
   ]
  },
  {
   "cell_type": "code",
   "execution_count": 2,
   "metadata": {},
   "outputs": [
    {
     "data": {
      "text/html": [
       "<style>.container { width:95% !important; }</style>"
      ],
      "text/plain": [
       "<IPython.core.display.HTML object>"
      ]
     },
     "metadata": {},
     "output_type": "display_data"
    }
   ],
   "source": [
    "from IPython.core.display import display, HTML\n",
    "display(HTML(\"<style>.container { width:95% !important; }</style>\"))\n"
   ]
  },
  {
   "cell_type": "markdown",
   "metadata": {},
   "source": [
    "## Specify the directory that your data is in"
   ]
  },
  {
   "cell_type": "code",
   "execution_count": 3,
   "metadata": {},
   "outputs": [],
   "source": [
    "datadir = 'datasets/yahoo_finance/'"
   ]
  },
  {
   "cell_type": "markdown",
   "metadata": {},
   "source": [
    "## Call read_csv to load it into a variable as a \"Pandas Dataframe\""
   ]
  },
  {
   "cell_type": "code",
   "execution_count": 4,
   "metadata": {},
   "outputs": [],
   "source": [
    "df1 = pd.read_csv(f'{datadir}/spy/SPY.csv' )"
   ]
  },
  {
   "cell_type": "code",
   "execution_count": 5,
   "metadata": {},
   "outputs": [
    {
     "data": {
      "text/html": [
       "<div>\n",
       "<style scoped>\n",
       "    .dataframe tbody tr th:only-of-type {\n",
       "        vertical-align: middle;\n",
       "    }\n",
       "\n",
       "    .dataframe tbody tr th {\n",
       "        vertical-align: top;\n",
       "    }\n",
       "\n",
       "    .dataframe thead th {\n",
       "        text-align: right;\n",
       "    }\n",
       "</style>\n",
       "<table border=\"1\" class=\"dataframe\">\n",
       "  <thead>\n",
       "    <tr style=\"text-align: right;\">\n",
       "      <th></th>\n",
       "      <th>Date</th>\n",
       "      <th>Open</th>\n",
       "      <th>High</th>\n",
       "      <th>Low</th>\n",
       "      <th>Close</th>\n",
       "      <th>Adj Close</th>\n",
       "      <th>Volume</th>\n",
       "    </tr>\n",
       "  </thead>\n",
       "  <tbody>\n",
       "    <tr>\n",
       "      <th>0</th>\n",
       "      <td>2014-09-02</td>\n",
       "      <td>200.970001</td>\n",
       "      <td>201.000000</td>\n",
       "      <td>199.860001</td>\n",
       "      <td>200.610001</td>\n",
       "      <td>181.672318</td>\n",
       "      <td>72426000</td>\n",
       "    </tr>\n",
       "    <tr>\n",
       "      <th>1</th>\n",
       "      <td>2014-09-03</td>\n",
       "      <td>201.380005</td>\n",
       "      <td>201.410004</td>\n",
       "      <td>200.220001</td>\n",
       "      <td>200.500000</td>\n",
       "      <td>181.572693</td>\n",
       "      <td>57462000</td>\n",
       "    </tr>\n",
       "    <tr>\n",
       "      <th>2</th>\n",
       "      <td>2014-09-04</td>\n",
       "      <td>200.839996</td>\n",
       "      <td>201.580002</td>\n",
       "      <td>199.660004</td>\n",
       "      <td>200.210007</td>\n",
       "      <td>181.310104</td>\n",
       "      <td>85236000</td>\n",
       "    </tr>\n",
       "    <tr>\n",
       "      <th>3</th>\n",
       "      <td>2014-09-05</td>\n",
       "      <td>200.169998</td>\n",
       "      <td>201.190002</td>\n",
       "      <td>199.410004</td>\n",
       "      <td>201.110001</td>\n",
       "      <td>182.125122</td>\n",
       "      <td>102177000</td>\n",
       "    </tr>\n",
       "    <tr>\n",
       "      <th>4</th>\n",
       "      <td>2014-09-08</td>\n",
       "      <td>200.919998</td>\n",
       "      <td>201.210007</td>\n",
       "      <td>200.000000</td>\n",
       "      <td>200.589996</td>\n",
       "      <td>181.654205</td>\n",
       "      <td>64146000</td>\n",
       "    </tr>\n",
       "  </tbody>\n",
       "</table>\n",
       "</div>"
      ],
      "text/plain": [
       "         Date        Open        High         Low       Close   Adj Close  \\\n",
       "0  2014-09-02  200.970001  201.000000  199.860001  200.610001  181.672318   \n",
       "1  2014-09-03  201.380005  201.410004  200.220001  200.500000  181.572693   \n",
       "2  2014-09-04  200.839996  201.580002  199.660004  200.210007  181.310104   \n",
       "3  2014-09-05  200.169998  201.190002  199.410004  201.110001  182.125122   \n",
       "4  2014-09-08  200.919998  201.210007  200.000000  200.589996  181.654205   \n",
       "\n",
       "      Volume  \n",
       "0   72426000  \n",
       "1   57462000  \n",
       "2   85236000  \n",
       "3  102177000  \n",
       "4   64146000  "
      ]
     },
     "execution_count": 5,
     "metadata": {},
     "output_type": "execute_result"
    }
   ],
   "source": [
    "df1.head()"
   ]
  },
  {
   "cell_type": "code",
   "execution_count": 6,
   "metadata": {},
   "outputs": [
    {
     "data": {
      "text/plain": [
       "201410"
      ]
     },
     "execution_count": 6,
     "metadata": {},
     "output_type": "execute_result"
    }
   ],
   "source": [
    "20141031//100"
   ]
  },
  {
   "cell_type": "code",
   "execution_count": 7,
   "metadata": {},
   "outputs": [],
   "source": [
    "def get_sym(filename):\n",
    "    return filename.split('/')[-1].split('.')[0]"
   ]
  },
  {
   "cell_type": "markdown",
   "metadata": {},
   "source": [
    "## Check the shape (rows, columns)\n",
    "### Open the file in Excel/Google Sheets and see if these numbers are correct"
   ]
  },
  {
   "cell_type": "code",
   "execution_count": 8,
   "metadata": {},
   "outputs": [
    {
     "data": {
      "text/plain": [
       "(1259, 7)"
      ]
     },
     "execution_count": 8,
     "metadata": {},
     "output_type": "execute_result"
    }
   ],
   "source": [
    "df1.shape"
   ]
  },
  {
   "cell_type": "markdown",
   "metadata": {},
   "source": [
    "## Check the column names"
   ]
  },
  {
   "cell_type": "code",
   "execution_count": 9,
   "metadata": {},
   "outputs": [
    {
     "data": {
      "text/plain": [
       "Index(['Date', 'Open', 'High', 'Low', 'Close', 'Adj Close', 'Volume'], dtype='object')"
      ]
     },
     "execution_count": 9,
     "metadata": {},
     "output_type": "execute_result"
    }
   ],
   "source": [
    "df1.columns"
   ]
  },
  {
   "cell_type": "markdown",
   "metadata": {},
   "source": [
    "## Check the data types"
   ]
  },
  {
   "cell_type": "code",
   "execution_count": 10,
   "metadata": {},
   "outputs": [
    {
     "data": {
      "text/plain": [
       "Date          object\n",
       "Open         float64\n",
       "High         float64\n",
       "Low          float64\n",
       "Close        float64\n",
       "Adj Close    float64\n",
       "Volume         int64\n",
       "dtype: object"
      ]
     },
     "execution_count": 10,
     "metadata": {},
     "output_type": "execute_result"
    }
   ],
   "source": [
    "df1.dtypes"
   ]
  },
  {
   "cell_type": "markdown",
   "metadata": {},
   "source": [
    "## Review the first 3 rows of the dataframe"
   ]
  },
  {
   "cell_type": "code",
   "execution_count": 11,
   "metadata": {
    "scrolled": false
   },
   "outputs": [
    {
     "data": {
      "text/html": [
       "<div>\n",
       "<style scoped>\n",
       "    .dataframe tbody tr th:only-of-type {\n",
       "        vertical-align: middle;\n",
       "    }\n",
       "\n",
       "    .dataframe tbody tr th {\n",
       "        vertical-align: top;\n",
       "    }\n",
       "\n",
       "    .dataframe thead th {\n",
       "        text-align: right;\n",
       "    }\n",
       "</style>\n",
       "<table border=\"1\" class=\"dataframe\">\n",
       "  <thead>\n",
       "    <tr style=\"text-align: right;\">\n",
       "      <th></th>\n",
       "      <th>Date</th>\n",
       "      <th>Open</th>\n",
       "      <th>High</th>\n",
       "      <th>Low</th>\n",
       "      <th>Close</th>\n",
       "      <th>Adj Close</th>\n",
       "      <th>Volume</th>\n",
       "    </tr>\n",
       "  </thead>\n",
       "  <tbody>\n",
       "    <tr>\n",
       "      <th>0</th>\n",
       "      <td>2014-09-02</td>\n",
       "      <td>200.970001</td>\n",
       "      <td>201.000000</td>\n",
       "      <td>199.860001</td>\n",
       "      <td>200.610001</td>\n",
       "      <td>181.672318</td>\n",
       "      <td>72426000</td>\n",
       "    </tr>\n",
       "    <tr>\n",
       "      <th>1</th>\n",
       "      <td>2014-09-03</td>\n",
       "      <td>201.380005</td>\n",
       "      <td>201.410004</td>\n",
       "      <td>200.220001</td>\n",
       "      <td>200.500000</td>\n",
       "      <td>181.572693</td>\n",
       "      <td>57462000</td>\n",
       "    </tr>\n",
       "    <tr>\n",
       "      <th>2</th>\n",
       "      <td>2014-09-04</td>\n",
       "      <td>200.839996</td>\n",
       "      <td>201.580002</td>\n",
       "      <td>199.660004</td>\n",
       "      <td>200.210007</td>\n",
       "      <td>181.310104</td>\n",
       "      <td>85236000</td>\n",
       "    </tr>\n",
       "    <tr>\n",
       "      <th>3</th>\n",
       "      <td>2014-09-05</td>\n",
       "      <td>200.169998</td>\n",
       "      <td>201.190002</td>\n",
       "      <td>199.410004</td>\n",
       "      <td>201.110001</td>\n",
       "      <td>182.125122</td>\n",
       "      <td>102177000</td>\n",
       "    </tr>\n",
       "    <tr>\n",
       "      <th>4</th>\n",
       "      <td>2014-09-08</td>\n",
       "      <td>200.919998</td>\n",
       "      <td>201.210007</td>\n",
       "      <td>200.000000</td>\n",
       "      <td>200.589996</td>\n",
       "      <td>181.654205</td>\n",
       "      <td>64146000</td>\n",
       "    </tr>\n",
       "  </tbody>\n",
       "</table>\n",
       "</div>"
      ],
      "text/plain": [
       "         Date        Open        High         Low       Close   Adj Close  \\\n",
       "0  2014-09-02  200.970001  201.000000  199.860001  200.610001  181.672318   \n",
       "1  2014-09-03  201.380005  201.410004  200.220001  200.500000  181.572693   \n",
       "2  2014-09-04  200.839996  201.580002  199.660004  200.210007  181.310104   \n",
       "3  2014-09-05  200.169998  201.190002  199.410004  201.110001  182.125122   \n",
       "4  2014-09-08  200.919998  201.210007  200.000000  200.589996  181.654205   \n",
       "\n",
       "      Volume  \n",
       "0   72426000  \n",
       "1   57462000  \n",
       "2   85236000  \n",
       "3  102177000  \n",
       "4   64146000  "
      ]
     },
     "metadata": {},
     "output_type": "display_data"
    },
    {
     "data": {
      "text/html": [
       "<div>\n",
       "<style scoped>\n",
       "    .dataframe tbody tr th:only-of-type {\n",
       "        vertical-align: middle;\n",
       "    }\n",
       "\n",
       "    .dataframe tbody tr th {\n",
       "        vertical-align: top;\n",
       "    }\n",
       "\n",
       "    .dataframe thead th {\n",
       "        text-align: right;\n",
       "    }\n",
       "</style>\n",
       "<table border=\"1\" class=\"dataframe\">\n",
       "  <thead>\n",
       "    <tr style=\"text-align: right;\">\n",
       "      <th></th>\n",
       "      <th>Date</th>\n",
       "      <th>Open</th>\n",
       "      <th>High</th>\n",
       "      <th>Low</th>\n",
       "      <th>Close</th>\n",
       "      <th>Adj Close</th>\n",
       "      <th>Volume</th>\n",
       "    </tr>\n",
       "  </thead>\n",
       "  <tbody>\n",
       "    <tr>\n",
       "      <th>1254</th>\n",
       "      <td>2019-08-26</td>\n",
       "      <td>287.269989</td>\n",
       "      <td>288.000000</td>\n",
       "      <td>285.579987</td>\n",
       "      <td>288.000000</td>\n",
       "      <td>288.000000</td>\n",
       "      <td>72423800</td>\n",
       "    </tr>\n",
       "    <tr>\n",
       "      <th>1255</th>\n",
       "      <td>2019-08-27</td>\n",
       "      <td>289.540009</td>\n",
       "      <td>289.950012</td>\n",
       "      <td>286.029999</td>\n",
       "      <td>286.869995</td>\n",
       "      <td>286.869995</td>\n",
       "      <td>66668900</td>\n",
       "    </tr>\n",
       "    <tr>\n",
       "      <th>1256</th>\n",
       "      <td>2019-08-28</td>\n",
       "      <td>286.140015</td>\n",
       "      <td>289.070007</td>\n",
       "      <td>285.250000</td>\n",
       "      <td>288.890015</td>\n",
       "      <td>288.890015</td>\n",
       "      <td>59696700</td>\n",
       "    </tr>\n",
       "    <tr>\n",
       "      <th>1257</th>\n",
       "      <td>2019-08-29</td>\n",
       "      <td>291.720001</td>\n",
       "      <td>293.160004</td>\n",
       "      <td>290.609985</td>\n",
       "      <td>292.579987</td>\n",
       "      <td>292.579987</td>\n",
       "      <td>57899400</td>\n",
       "    </tr>\n",
       "    <tr>\n",
       "      <th>1258</th>\n",
       "      <td>2019-08-30</td>\n",
       "      <td>294.220001</td>\n",
       "      <td>294.239990</td>\n",
       "      <td>291.420013</td>\n",
       "      <td>292.450012</td>\n",
       "      <td>292.450012</td>\n",
       "      <td>62901200</td>\n",
       "    </tr>\n",
       "  </tbody>\n",
       "</table>\n",
       "</div>"
      ],
      "text/plain": [
       "            Date        Open        High         Low       Close   Adj Close  \\\n",
       "1254  2019-08-26  287.269989  288.000000  285.579987  288.000000  288.000000   \n",
       "1255  2019-08-27  289.540009  289.950012  286.029999  286.869995  286.869995   \n",
       "1256  2019-08-28  286.140015  289.070007  285.250000  288.890015  288.890015   \n",
       "1257  2019-08-29  291.720001  293.160004  290.609985  292.579987  292.579987   \n",
       "1258  2019-08-30  294.220001  294.239990  291.420013  292.450012  292.450012   \n",
       "\n",
       "        Volume  \n",
       "1254  72423800  \n",
       "1255  66668900  \n",
       "1256  59696700  \n",
       "1257  57899400  \n",
       "1258  62901200  "
      ]
     },
     "metadata": {},
     "output_type": "display_data"
    }
   ],
   "source": [
    "display( df1.head() )\n",
    "display( df1.tail() )"
   ]
  },
  {
   "cell_type": "markdown",
   "metadata": {},
   "source": [
    "## Look at summary stats for each column"
   ]
  },
  {
   "cell_type": "code",
   "execution_count": 12,
   "metadata": {},
   "outputs": [
    {
     "data": {
      "text/html": [
       "<div>\n",
       "<style scoped>\n",
       "    .dataframe tbody tr th:only-of-type {\n",
       "        vertical-align: middle;\n",
       "    }\n",
       "\n",
       "    .dataframe tbody tr th {\n",
       "        vertical-align: top;\n",
       "    }\n",
       "\n",
       "    .dataframe thead th {\n",
       "        text-align: right;\n",
       "    }\n",
       "</style>\n",
       "<table border=\"1\" class=\"dataframe\">\n",
       "  <thead>\n",
       "    <tr style=\"text-align: right;\">\n",
       "      <th></th>\n",
       "      <th>Open</th>\n",
       "      <th>High</th>\n",
       "      <th>Low</th>\n",
       "      <th>Close</th>\n",
       "      <th>Adj Close</th>\n",
       "      <th>Volume</th>\n",
       "    </tr>\n",
       "  </thead>\n",
       "  <tbody>\n",
       "    <tr>\n",
       "      <th>count</th>\n",
       "      <td>1259.000000</td>\n",
       "      <td>1259.000000</td>\n",
       "      <td>1259.000000</td>\n",
       "      <td>1259.000000</td>\n",
       "      <td>1259.000000</td>\n",
       "      <td>1.259000e+03</td>\n",
       "    </tr>\n",
       "    <tr>\n",
       "      <th>mean</th>\n",
       "      <td>238.054504</td>\n",
       "      <td>239.109960</td>\n",
       "      <td>236.870643</td>\n",
       "      <td>238.073113</td>\n",
       "      <td>228.011337</td>\n",
       "      <td>9.763064e+07</td>\n",
       "    </tr>\n",
       "    <tr>\n",
       "      <th>std</th>\n",
       "      <td>33.250520</td>\n",
       "      <td>33.311494</td>\n",
       "      <td>33.115727</td>\n",
       "      <td>33.208969</td>\n",
       "      <td>38.054250</td>\n",
       "      <td>4.937996e+07</td>\n",
       "    </tr>\n",
       "    <tr>\n",
       "      <th>min</th>\n",
       "      <td>182.339996</td>\n",
       "      <td>184.100006</td>\n",
       "      <td>181.020004</td>\n",
       "      <td>182.860001</td>\n",
       "      <td>169.474533</td>\n",
       "      <td>2.785650e+07</td>\n",
       "    </tr>\n",
       "    <tr>\n",
       "      <th>25%</th>\n",
       "      <td>208.115005</td>\n",
       "      <td>209.164993</td>\n",
       "      <td>207.194999</td>\n",
       "      <td>208.350006</td>\n",
       "      <td>192.876449</td>\n",
       "      <td>6.468810e+07</td>\n",
       "    </tr>\n",
       "    <tr>\n",
       "      <th>50%</th>\n",
       "      <td>234.380005</td>\n",
       "      <td>235.160004</td>\n",
       "      <td>233.580002</td>\n",
       "      <td>234.570007</td>\n",
       "      <td>224.225021</td>\n",
       "      <td>8.523600e+07</td>\n",
       "    </tr>\n",
       "    <tr>\n",
       "      <th>75%</th>\n",
       "      <td>270.794998</td>\n",
       "      <td>272.440002</td>\n",
       "      <td>268.864990</td>\n",
       "      <td>270.470001</td>\n",
       "      <td>264.976593</td>\n",
       "      <td>1.160798e+08</td>\n",
       "    </tr>\n",
       "    <tr>\n",
       "      <th>max</th>\n",
       "      <td>301.880005</td>\n",
       "      <td>302.230011</td>\n",
       "      <td>300.850006</td>\n",
       "      <td>302.010010</td>\n",
       "      <td>302.010010</td>\n",
       "      <td>5.072443e+08</td>\n",
       "    </tr>\n",
       "  </tbody>\n",
       "</table>\n",
       "</div>"
      ],
      "text/plain": [
       "              Open         High          Low        Close    Adj Close  \\\n",
       "count  1259.000000  1259.000000  1259.000000  1259.000000  1259.000000   \n",
       "mean    238.054504   239.109960   236.870643   238.073113   228.011337   \n",
       "std      33.250520    33.311494    33.115727    33.208969    38.054250   \n",
       "min     182.339996   184.100006   181.020004   182.860001   169.474533   \n",
       "25%     208.115005   209.164993   207.194999   208.350006   192.876449   \n",
       "50%     234.380005   235.160004   233.580002   234.570007   224.225021   \n",
       "75%     270.794998   272.440002   268.864990   270.470001   264.976593   \n",
       "max     301.880005   302.230011   300.850006   302.010010   302.010010   \n",
       "\n",
       "             Volume  \n",
       "count  1.259000e+03  \n",
       "mean   9.763064e+07  \n",
       "std    4.937996e+07  \n",
       "min    2.785650e+07  \n",
       "25%    6.468810e+07  \n",
       "50%    8.523600e+07  \n",
       "75%    1.160798e+08  \n",
       "max    5.072443e+08  "
      ]
     },
     "execution_count": 12,
     "metadata": {},
     "output_type": "execute_result"
    }
   ],
   "source": [
    "df1.describe()"
   ]
  },
  {
   "cell_type": "markdown",
   "metadata": {},
   "source": [
    "## Reload the data, this time parse the Date column as a datetime type"
   ]
  },
  {
   "cell_type": "code",
   "execution_count": 13,
   "metadata": {},
   "outputs": [],
   "source": [
    "df1 = pd.read_csv(f'{datadir}/spy/SPY.csv', parse_dates=['Date'])"
   ]
  },
  {
   "cell_type": "code",
   "execution_count": 14,
   "metadata": {},
   "outputs": [
    {
     "data": {
      "text/plain": [
       "Date         datetime64[ns]\n",
       "Open                float64\n",
       "High                float64\n",
       "Low                 float64\n",
       "Close               float64\n",
       "Adj Close           float64\n",
       "Volume                int64\n",
       "dtype: object"
      ]
     },
     "execution_count": 14,
     "metadata": {},
     "output_type": "execute_result"
    }
   ],
   "source": [
    "df1.dtypes"
   ]
  },
  {
   "cell_type": "code",
   "execution_count": 15,
   "metadata": {},
   "outputs": [
    {
     "data": {
      "text/html": [
       "<div>\n",
       "<style scoped>\n",
       "    .dataframe tbody tr th:only-of-type {\n",
       "        vertical-align: middle;\n",
       "    }\n",
       "\n",
       "    .dataframe tbody tr th {\n",
       "        vertical-align: top;\n",
       "    }\n",
       "\n",
       "    .dataframe thead th {\n",
       "        text-align: right;\n",
       "    }\n",
       "</style>\n",
       "<table border=\"1\" class=\"dataframe\">\n",
       "  <thead>\n",
       "    <tr style=\"text-align: right;\">\n",
       "      <th></th>\n",
       "      <th>Date</th>\n",
       "      <th>Open</th>\n",
       "      <th>High</th>\n",
       "      <th>Low</th>\n",
       "      <th>Close</th>\n",
       "      <th>Adj Close</th>\n",
       "      <th>Volume</th>\n",
       "    </tr>\n",
       "  </thead>\n",
       "  <tbody>\n",
       "    <tr>\n",
       "      <th>0</th>\n",
       "      <td>2014-09-02</td>\n",
       "      <td>200.970001</td>\n",
       "      <td>201.000000</td>\n",
       "      <td>199.860001</td>\n",
       "      <td>200.610001</td>\n",
       "      <td>181.672318</td>\n",
       "      <td>72426000</td>\n",
       "    </tr>\n",
       "    <tr>\n",
       "      <th>1</th>\n",
       "      <td>2014-09-03</td>\n",
       "      <td>201.380005</td>\n",
       "      <td>201.410004</td>\n",
       "      <td>200.220001</td>\n",
       "      <td>200.500000</td>\n",
       "      <td>181.572693</td>\n",
       "      <td>57462000</td>\n",
       "    </tr>\n",
       "    <tr>\n",
       "      <th>2</th>\n",
       "      <td>2014-09-04</td>\n",
       "      <td>200.839996</td>\n",
       "      <td>201.580002</td>\n",
       "      <td>199.660004</td>\n",
       "      <td>200.210007</td>\n",
       "      <td>181.310104</td>\n",
       "      <td>85236000</td>\n",
       "    </tr>\n",
       "    <tr>\n",
       "      <th>3</th>\n",
       "      <td>2014-09-05</td>\n",
       "      <td>200.169998</td>\n",
       "      <td>201.190002</td>\n",
       "      <td>199.410004</td>\n",
       "      <td>201.110001</td>\n",
       "      <td>182.125122</td>\n",
       "      <td>102177000</td>\n",
       "    </tr>\n",
       "    <tr>\n",
       "      <th>4</th>\n",
       "      <td>2014-09-08</td>\n",
       "      <td>200.919998</td>\n",
       "      <td>201.210007</td>\n",
       "      <td>200.000000</td>\n",
       "      <td>200.589996</td>\n",
       "      <td>181.654205</td>\n",
       "      <td>64146000</td>\n",
       "    </tr>\n",
       "  </tbody>\n",
       "</table>\n",
       "</div>"
      ],
      "text/plain": [
       "        Date        Open        High         Low       Close   Adj Close  \\\n",
       "0 2014-09-02  200.970001  201.000000  199.860001  200.610001  181.672318   \n",
       "1 2014-09-03  201.380005  201.410004  200.220001  200.500000  181.572693   \n",
       "2 2014-09-04  200.839996  201.580002  199.660004  200.210007  181.310104   \n",
       "3 2014-09-05  200.169998  201.190002  199.410004  201.110001  182.125122   \n",
       "4 2014-09-08  200.919998  201.210007  200.000000  200.589996  181.654205   \n",
       "\n",
       "      Volume  \n",
       "0   72426000  \n",
       "1   57462000  \n",
       "2   85236000  \n",
       "3  102177000  \n",
       "4   64146000  "
      ]
     },
     "execution_count": 15,
     "metadata": {},
     "output_type": "execute_result"
    }
   ],
   "source": [
    "df1.head()"
   ]
  },
  {
   "cell_type": "markdown",
   "metadata": {},
   "source": []
  },
  {
   "cell_type": "markdown",
   "metadata": {},
   "source": [
    "## Create a year column by using apply and creating a lambda function that uses datetime.datetime.strftime"
   ]
  },
  {
   "cell_type": "code",
   "execution_count": 16,
   "metadata": {},
   "outputs": [],
   "source": [
    "import datetime\n",
    "df1['year'] = df1['Date'].apply( lambda x: int(datetime.datetime.strftime(x, '%Y')) )"
   ]
  },
  {
   "cell_type": "code",
   "execution_count": 17,
   "metadata": {},
   "outputs": [],
   "source": [
    "# You can also do it this way\n",
    "# df1['Date'].dt.year"
   ]
  },
  {
   "cell_type": "code",
   "execution_count": 18,
   "metadata": {},
   "outputs": [
    {
     "data": {
      "text/html": [
       "<div>\n",
       "<style scoped>\n",
       "    .dataframe tbody tr th:only-of-type {\n",
       "        vertical-align: middle;\n",
       "    }\n",
       "\n",
       "    .dataframe tbody tr th {\n",
       "        vertical-align: top;\n",
       "    }\n",
       "\n",
       "    .dataframe thead th {\n",
       "        text-align: right;\n",
       "    }\n",
       "</style>\n",
       "<table border=\"1\" class=\"dataframe\">\n",
       "  <thead>\n",
       "    <tr style=\"text-align: right;\">\n",
       "      <th></th>\n",
       "      <th>Date</th>\n",
       "      <th>Open</th>\n",
       "      <th>High</th>\n",
       "      <th>Low</th>\n",
       "      <th>Close</th>\n",
       "      <th>Adj Close</th>\n",
       "      <th>Volume</th>\n",
       "      <th>year</th>\n",
       "    </tr>\n",
       "  </thead>\n",
       "  <tbody>\n",
       "    <tr>\n",
       "      <th>0</th>\n",
       "      <td>2014-09-02</td>\n",
       "      <td>200.970001</td>\n",
       "      <td>201.000000</td>\n",
       "      <td>199.860001</td>\n",
       "      <td>200.610001</td>\n",
       "      <td>181.672318</td>\n",
       "      <td>72426000</td>\n",
       "      <td>2014</td>\n",
       "    </tr>\n",
       "    <tr>\n",
       "      <th>1</th>\n",
       "      <td>2014-09-03</td>\n",
       "      <td>201.380005</td>\n",
       "      <td>201.410004</td>\n",
       "      <td>200.220001</td>\n",
       "      <td>200.500000</td>\n",
       "      <td>181.572693</td>\n",
       "      <td>57462000</td>\n",
       "      <td>2014</td>\n",
       "    </tr>\n",
       "    <tr>\n",
       "      <th>2</th>\n",
       "      <td>2014-09-04</td>\n",
       "      <td>200.839996</td>\n",
       "      <td>201.580002</td>\n",
       "      <td>199.660004</td>\n",
       "      <td>200.210007</td>\n",
       "      <td>181.310104</td>\n",
       "      <td>85236000</td>\n",
       "      <td>2014</td>\n",
       "    </tr>\n",
       "    <tr>\n",
       "      <th>3</th>\n",
       "      <td>2014-09-05</td>\n",
       "      <td>200.169998</td>\n",
       "      <td>201.190002</td>\n",
       "      <td>199.410004</td>\n",
       "      <td>201.110001</td>\n",
       "      <td>182.125122</td>\n",
       "      <td>102177000</td>\n",
       "      <td>2014</td>\n",
       "    </tr>\n",
       "    <tr>\n",
       "      <th>4</th>\n",
       "      <td>2014-09-08</td>\n",
       "      <td>200.919998</td>\n",
       "      <td>201.210007</td>\n",
       "      <td>200.000000</td>\n",
       "      <td>200.589996</td>\n",
       "      <td>181.654205</td>\n",
       "      <td>64146000</td>\n",
       "      <td>2014</td>\n",
       "    </tr>\n",
       "  </tbody>\n",
       "</table>\n",
       "</div>"
      ],
      "text/plain": [
       "        Date        Open        High         Low       Close   Adj Close  \\\n",
       "0 2014-09-02  200.970001  201.000000  199.860001  200.610001  181.672318   \n",
       "1 2014-09-03  201.380005  201.410004  200.220001  200.500000  181.572693   \n",
       "2 2014-09-04  200.839996  201.580002  199.660004  200.210007  181.310104   \n",
       "3 2014-09-05  200.169998  201.190002  199.410004  201.110001  182.125122   \n",
       "4 2014-09-08  200.919998  201.210007  200.000000  200.589996  181.654205   \n",
       "\n",
       "      Volume  year  \n",
       "0   72426000  2014  \n",
       "1   57462000  2014  \n",
       "2   85236000  2014  \n",
       "3  102177000  2014  \n",
       "4   64146000  2014  "
      ]
     },
     "execution_count": 18,
     "metadata": {},
     "output_type": "execute_result"
    }
   ],
   "source": [
    "df1.head()"
   ]
  },
  {
   "cell_type": "code",
   "execution_count": 19,
   "metadata": {},
   "outputs": [
    {
     "data": {
      "text/plain": [
       "Date         datetime64[ns]\n",
       "Open                float64\n",
       "High                float64\n",
       "Low                 float64\n",
       "Close               float64\n",
       "Adj Close           float64\n",
       "Volume                int64\n",
       "year                  int64\n",
       "dtype: object"
      ]
     },
     "execution_count": 19,
     "metadata": {},
     "output_type": "execute_result"
    }
   ],
   "source": [
    "df1.dtypes"
   ]
  },
  {
   "cell_type": "markdown",
   "metadata": {},
   "source": [
    "## Group by year and compute the minimum Close price per year\n",
    "\n",
    "### Note that we are not assigning this to a variable but if we want to use it later, we should"
   ]
  },
  {
   "cell_type": "code",
   "execution_count": 20,
   "metadata": {},
   "outputs": [
    {
     "data": {
      "text/html": [
       "<div>\n",
       "<style scoped>\n",
       "    .dataframe tbody tr th:only-of-type {\n",
       "        vertical-align: middle;\n",
       "    }\n",
       "\n",
       "    .dataframe tbody tr th {\n",
       "        vertical-align: top;\n",
       "    }\n",
       "\n",
       "    .dataframe thead th {\n",
       "        text-align: right;\n",
       "    }\n",
       "</style>\n",
       "<table border=\"1\" class=\"dataframe\">\n",
       "  <thead>\n",
       "    <tr style=\"text-align: right;\">\n",
       "      <th></th>\n",
       "      <th>Close</th>\n",
       "    </tr>\n",
       "    <tr>\n",
       "      <th>year</th>\n",
       "      <th></th>\n",
       "    </tr>\n",
       "  </thead>\n",
       "  <tbody>\n",
       "    <tr>\n",
       "      <th>2014</th>\n",
       "      <td>186.270004</td>\n",
       "    </tr>\n",
       "    <tr>\n",
       "      <th>2015</th>\n",
       "      <td>187.270004</td>\n",
       "    </tr>\n",
       "    <tr>\n",
       "      <th>2016</th>\n",
       "      <td>182.860001</td>\n",
       "    </tr>\n",
       "    <tr>\n",
       "      <th>2017</th>\n",
       "      <td>225.240005</td>\n",
       "    </tr>\n",
       "    <tr>\n",
       "      <th>2018</th>\n",
       "      <td>234.339996</td>\n",
       "    </tr>\n",
       "    <tr>\n",
       "      <th>2019</th>\n",
       "      <td>244.210007</td>\n",
       "    </tr>\n",
       "  </tbody>\n",
       "</table>\n",
       "</div>"
      ],
      "text/plain": [
       "           Close\n",
       "year            \n",
       "2014  186.270004\n",
       "2015  187.270004\n",
       "2016  182.860001\n",
       "2017  225.240005\n",
       "2018  234.339996\n",
       "2019  244.210007"
      ]
     },
     "execution_count": 20,
     "metadata": {},
     "output_type": "execute_result"
    }
   ],
   "source": [
    "df1[['year','Close']].groupby('year').min()"
   ]
  },
  {
   "cell_type": "code",
   "execution_count": 21,
   "metadata": {},
   "outputs": [
    {
     "data": {
      "text/html": [
       "<div>\n",
       "<style scoped>\n",
       "    .dataframe tbody tr th:only-of-type {\n",
       "        vertical-align: middle;\n",
       "    }\n",
       "\n",
       "    .dataframe tbody tr th {\n",
       "        vertical-align: top;\n",
       "    }\n",
       "\n",
       "    .dataframe thead th {\n",
       "        text-align: right;\n",
       "    }\n",
       "</style>\n",
       "<table border=\"1\" class=\"dataframe\">\n",
       "  <thead>\n",
       "    <tr style=\"text-align: right;\">\n",
       "      <th></th>\n",
       "      <th>year</th>\n",
       "      <th>Close</th>\n",
       "    </tr>\n",
       "    <tr>\n",
       "      <th>year</th>\n",
       "      <th></th>\n",
       "      <th></th>\n",
       "    </tr>\n",
       "  </thead>\n",
       "  <tbody>\n",
       "    <tr>\n",
       "      <th>2014</th>\n",
       "      <td>1914.0</td>\n",
       "      <td>86.270004</td>\n",
       "    </tr>\n",
       "    <tr>\n",
       "      <th>2015</th>\n",
       "      <td>1915.0</td>\n",
       "      <td>87.270004</td>\n",
       "    </tr>\n",
       "    <tr>\n",
       "      <th>2016</th>\n",
       "      <td>1916.0</td>\n",
       "      <td>82.860001</td>\n",
       "    </tr>\n",
       "    <tr>\n",
       "      <th>2017</th>\n",
       "      <td>1917.0</td>\n",
       "      <td>125.240005</td>\n",
       "    </tr>\n",
       "    <tr>\n",
       "      <th>2018</th>\n",
       "      <td>1918.0</td>\n",
       "      <td>134.339996</td>\n",
       "    </tr>\n",
       "    <tr>\n",
       "      <th>2019</th>\n",
       "      <td>1919.0</td>\n",
       "      <td>144.210007</td>\n",
       "    </tr>\n",
       "  </tbody>\n",
       "</table>\n",
       "</div>"
      ],
      "text/plain": [
       "        year       Close\n",
       "year                    \n",
       "2014  1914.0   86.270004\n",
       "2015  1915.0   87.270004\n",
       "2016  1916.0   82.860001\n",
       "2017  1917.0  125.240005\n",
       "2018  1918.0  134.339996\n",
       "2019  1919.0  144.210007"
      ]
     },
     "execution_count": 21,
     "metadata": {},
     "output_type": "execute_result"
    }
   ],
   "source": [
    "\n",
    "df1[['year','Close']].groupby('year').apply(lambda x: x.min()-100)"
   ]
  },
  {
   "cell_type": "code",
   "execution_count": 22,
   "metadata": {},
   "outputs": [],
   "source": [
    "df1['return'] = (df1['Adj Close'].diff()/df1['Adj Close'].shift(1)).fillna(0)"
   ]
  },
  {
   "cell_type": "code",
   "execution_count": 23,
   "metadata": {},
   "outputs": [
    {
     "data": {
      "text/html": [
       "<div>\n",
       "<style scoped>\n",
       "    .dataframe tbody tr th:only-of-type {\n",
       "        vertical-align: middle;\n",
       "    }\n",
       "\n",
       "    .dataframe tbody tr th {\n",
       "        vertical-align: top;\n",
       "    }\n",
       "\n",
       "    .dataframe thead th {\n",
       "        text-align: right;\n",
       "    }\n",
       "</style>\n",
       "<table border=\"1\" class=\"dataframe\">\n",
       "  <thead>\n",
       "    <tr style=\"text-align: right;\">\n",
       "      <th></th>\n",
       "      <th>Date</th>\n",
       "      <th>Open</th>\n",
       "      <th>High</th>\n",
       "      <th>Low</th>\n",
       "      <th>Close</th>\n",
       "      <th>Adj Close</th>\n",
       "      <th>Volume</th>\n",
       "      <th>year</th>\n",
       "      <th>return</th>\n",
       "    </tr>\n",
       "  </thead>\n",
       "  <tbody>\n",
       "    <tr>\n",
       "      <th>0</th>\n",
       "      <td>2014-09-02</td>\n",
       "      <td>200.970001</td>\n",
       "      <td>201.000000</td>\n",
       "      <td>199.860001</td>\n",
       "      <td>200.610001</td>\n",
       "      <td>181.672318</td>\n",
       "      <td>72426000</td>\n",
       "      <td>2014</td>\n",
       "      <td>0.000000</td>\n",
       "    </tr>\n",
       "    <tr>\n",
       "      <th>1</th>\n",
       "      <td>2014-09-03</td>\n",
       "      <td>201.380005</td>\n",
       "      <td>201.410004</td>\n",
       "      <td>200.220001</td>\n",
       "      <td>200.500000</td>\n",
       "      <td>181.572693</td>\n",
       "      <td>57462000</td>\n",
       "      <td>2014</td>\n",
       "      <td>-0.000548</td>\n",
       "    </tr>\n",
       "    <tr>\n",
       "      <th>2</th>\n",
       "      <td>2014-09-04</td>\n",
       "      <td>200.839996</td>\n",
       "      <td>201.580002</td>\n",
       "      <td>199.660004</td>\n",
       "      <td>200.210007</td>\n",
       "      <td>181.310104</td>\n",
       "      <td>85236000</td>\n",
       "      <td>2014</td>\n",
       "      <td>-0.001446</td>\n",
       "    </tr>\n",
       "    <tr>\n",
       "      <th>3</th>\n",
       "      <td>2014-09-05</td>\n",
       "      <td>200.169998</td>\n",
       "      <td>201.190002</td>\n",
       "      <td>199.410004</td>\n",
       "      <td>201.110001</td>\n",
       "      <td>182.125122</td>\n",
       "      <td>102177000</td>\n",
       "      <td>2014</td>\n",
       "      <td>0.004495</td>\n",
       "    </tr>\n",
       "    <tr>\n",
       "      <th>4</th>\n",
       "      <td>2014-09-08</td>\n",
       "      <td>200.919998</td>\n",
       "      <td>201.210007</td>\n",
       "      <td>200.000000</td>\n",
       "      <td>200.589996</td>\n",
       "      <td>181.654205</td>\n",
       "      <td>64146000</td>\n",
       "      <td>2014</td>\n",
       "      <td>-0.002586</td>\n",
       "    </tr>\n",
       "  </tbody>\n",
       "</table>\n",
       "</div>"
      ],
      "text/plain": [
       "        Date        Open        High         Low       Close   Adj Close  \\\n",
       "0 2014-09-02  200.970001  201.000000  199.860001  200.610001  181.672318   \n",
       "1 2014-09-03  201.380005  201.410004  200.220001  200.500000  181.572693   \n",
       "2 2014-09-04  200.839996  201.580002  199.660004  200.210007  181.310104   \n",
       "3 2014-09-05  200.169998  201.190002  199.410004  201.110001  182.125122   \n",
       "4 2014-09-08  200.919998  201.210007  200.000000  200.589996  181.654205   \n",
       "\n",
       "      Volume  year    return  \n",
       "0   72426000  2014  0.000000  \n",
       "1   57462000  2014 -0.000548  \n",
       "2   85236000  2014 -0.001446  \n",
       "3  102177000  2014  0.004495  \n",
       "4   64146000  2014 -0.002586  "
      ]
     },
     "execution_count": 23,
     "metadata": {},
     "output_type": "execute_result"
    }
   ],
   "source": [
    "df1.head()"
   ]
  },
  {
   "cell_type": "code",
   "execution_count": 24,
   "metadata": {},
   "outputs": [
    {
     "data": {
      "text/plain": [
       "(1259, 9)"
      ]
     },
     "execution_count": 24,
     "metadata": {},
     "output_type": "execute_result"
    }
   ],
   "source": [
    "df1.shape "
   ]
  },
  {
   "cell_type": "code",
   "execution_count": 25,
   "metadata": {},
   "outputs": [],
   "source": [
    "df1['std'] = df1[['year', 'return']].groupby('year').transform(lambda x: x.std())"
   ]
  },
  {
   "cell_type": "code",
   "execution_count": 26,
   "metadata": {},
   "outputs": [
    {
     "data": {
      "text/html": [
       "<div>\n",
       "<style scoped>\n",
       "    .dataframe tbody tr th:only-of-type {\n",
       "        vertical-align: middle;\n",
       "    }\n",
       "\n",
       "    .dataframe tbody tr th {\n",
       "        vertical-align: top;\n",
       "    }\n",
       "\n",
       "    .dataframe thead th {\n",
       "        text-align: right;\n",
       "    }\n",
       "</style>\n",
       "<table border=\"1\" class=\"dataframe\">\n",
       "  <thead>\n",
       "    <tr style=\"text-align: right;\">\n",
       "      <th></th>\n",
       "      <th>Date</th>\n",
       "      <th>Open</th>\n",
       "      <th>High</th>\n",
       "      <th>Low</th>\n",
       "      <th>Close</th>\n",
       "      <th>Adj Close</th>\n",
       "      <th>Volume</th>\n",
       "      <th>year</th>\n",
       "      <th>return</th>\n",
       "      <th>std</th>\n",
       "    </tr>\n",
       "  </thead>\n",
       "  <tbody>\n",
       "    <tr>\n",
       "      <th>0</th>\n",
       "      <td>2014-09-02</td>\n",
       "      <td>200.970001</td>\n",
       "      <td>201.000000</td>\n",
       "      <td>199.860001</td>\n",
       "      <td>200.610001</td>\n",
       "      <td>181.672318</td>\n",
       "      <td>72426000</td>\n",
       "      <td>2014</td>\n",
       "      <td>0.000000</td>\n",
       "      <td>0.008242</td>\n",
       "    </tr>\n",
       "    <tr>\n",
       "      <th>1</th>\n",
       "      <td>2014-09-03</td>\n",
       "      <td>201.380005</td>\n",
       "      <td>201.410004</td>\n",
       "      <td>200.220001</td>\n",
       "      <td>200.500000</td>\n",
       "      <td>181.572693</td>\n",
       "      <td>57462000</td>\n",
       "      <td>2014</td>\n",
       "      <td>-0.000548</td>\n",
       "      <td>0.008242</td>\n",
       "    </tr>\n",
       "    <tr>\n",
       "      <th>2</th>\n",
       "      <td>2014-09-04</td>\n",
       "      <td>200.839996</td>\n",
       "      <td>201.580002</td>\n",
       "      <td>199.660004</td>\n",
       "      <td>200.210007</td>\n",
       "      <td>181.310104</td>\n",
       "      <td>85236000</td>\n",
       "      <td>2014</td>\n",
       "      <td>-0.001446</td>\n",
       "      <td>0.008242</td>\n",
       "    </tr>\n",
       "    <tr>\n",
       "      <th>3</th>\n",
       "      <td>2014-09-05</td>\n",
       "      <td>200.169998</td>\n",
       "      <td>201.190002</td>\n",
       "      <td>199.410004</td>\n",
       "      <td>201.110001</td>\n",
       "      <td>182.125122</td>\n",
       "      <td>102177000</td>\n",
       "      <td>2014</td>\n",
       "      <td>0.004495</td>\n",
       "      <td>0.008242</td>\n",
       "    </tr>\n",
       "    <tr>\n",
       "      <th>4</th>\n",
       "      <td>2014-09-08</td>\n",
       "      <td>200.919998</td>\n",
       "      <td>201.210007</td>\n",
       "      <td>200.000000</td>\n",
       "      <td>200.589996</td>\n",
       "      <td>181.654205</td>\n",
       "      <td>64146000</td>\n",
       "      <td>2014</td>\n",
       "      <td>-0.002586</td>\n",
       "      <td>0.008242</td>\n",
       "    </tr>\n",
       "  </tbody>\n",
       "</table>\n",
       "</div>"
      ],
      "text/plain": [
       "        Date        Open        High         Low       Close   Adj Close  \\\n",
       "0 2014-09-02  200.970001  201.000000  199.860001  200.610001  181.672318   \n",
       "1 2014-09-03  201.380005  201.410004  200.220001  200.500000  181.572693   \n",
       "2 2014-09-04  200.839996  201.580002  199.660004  200.210007  181.310104   \n",
       "3 2014-09-05  200.169998  201.190002  199.410004  201.110001  182.125122   \n",
       "4 2014-09-08  200.919998  201.210007  200.000000  200.589996  181.654205   \n",
       "\n",
       "      Volume  year    return       std  \n",
       "0   72426000  2014  0.000000  0.008242  \n",
       "1   57462000  2014 -0.000548  0.008242  \n",
       "2   85236000  2014 -0.001446  0.008242  \n",
       "3  102177000  2014  0.004495  0.008242  \n",
       "4   64146000  2014 -0.002586  0.008242  "
      ]
     },
     "execution_count": 26,
     "metadata": {},
     "output_type": "execute_result"
    }
   ],
   "source": [
    "df1.head()\n"
   ]
  },
  {
   "cell_type": "code",
   "execution_count": 27,
   "metadata": {},
   "outputs": [
    {
     "data": {
      "text/html": [
       "<div>\n",
       "<style scoped>\n",
       "    .dataframe tbody tr th:only-of-type {\n",
       "        vertical-align: middle;\n",
       "    }\n",
       "\n",
       "    .dataframe tbody tr th {\n",
       "        vertical-align: top;\n",
       "    }\n",
       "\n",
       "    .dataframe thead th {\n",
       "        text-align: right;\n",
       "    }\n",
       "</style>\n",
       "<table border=\"1\" class=\"dataframe\">\n",
       "  <thead>\n",
       "    <tr style=\"text-align: right;\">\n",
       "      <th></th>\n",
       "      <th>Date</th>\n",
       "      <th>Open</th>\n",
       "      <th>High</th>\n",
       "      <th>Low</th>\n",
       "      <th>Close</th>\n",
       "      <th>Adj Close</th>\n",
       "      <th>Volume</th>\n",
       "      <th>year</th>\n",
       "      <th>return</th>\n",
       "      <th>std</th>\n",
       "    </tr>\n",
       "  </thead>\n",
       "  <tbody>\n",
       "    <tr>\n",
       "      <th>0</th>\n",
       "      <td>2014-09-02</td>\n",
       "      <td>200.970001</td>\n",
       "      <td>201.000000</td>\n",
       "      <td>199.860001</td>\n",
       "      <td>200.610001</td>\n",
       "      <td>181.672318</td>\n",
       "      <td>72426000</td>\n",
       "      <td>2014</td>\n",
       "      <td>0.000000</td>\n",
       "      <td>0.008242</td>\n",
       "    </tr>\n",
       "    <tr>\n",
       "      <th>1</th>\n",
       "      <td>2014-09-03</td>\n",
       "      <td>201.380005</td>\n",
       "      <td>201.410004</td>\n",
       "      <td>200.220001</td>\n",
       "      <td>200.500000</td>\n",
       "      <td>181.572693</td>\n",
       "      <td>57462000</td>\n",
       "      <td>2014</td>\n",
       "      <td>-0.000548</td>\n",
       "      <td>0.008242</td>\n",
       "    </tr>\n",
       "    <tr>\n",
       "      <th>2</th>\n",
       "      <td>2014-09-04</td>\n",
       "      <td>200.839996</td>\n",
       "      <td>201.580002</td>\n",
       "      <td>199.660004</td>\n",
       "      <td>200.210007</td>\n",
       "      <td>181.310104</td>\n",
       "      <td>85236000</td>\n",
       "      <td>2014</td>\n",
       "      <td>-0.001446</td>\n",
       "      <td>0.008242</td>\n",
       "    </tr>\n",
       "    <tr>\n",
       "      <th>3</th>\n",
       "      <td>2014-09-05</td>\n",
       "      <td>200.169998</td>\n",
       "      <td>201.190002</td>\n",
       "      <td>199.410004</td>\n",
       "      <td>201.110001</td>\n",
       "      <td>182.125122</td>\n",
       "      <td>102177000</td>\n",
       "      <td>2014</td>\n",
       "      <td>0.004495</td>\n",
       "      <td>0.008242</td>\n",
       "    </tr>\n",
       "    <tr>\n",
       "      <th>4</th>\n",
       "      <td>2014-09-08</td>\n",
       "      <td>200.919998</td>\n",
       "      <td>201.210007</td>\n",
       "      <td>200.000000</td>\n",
       "      <td>200.589996</td>\n",
       "      <td>181.654205</td>\n",
       "      <td>64146000</td>\n",
       "      <td>2014</td>\n",
       "      <td>-0.002586</td>\n",
       "      <td>0.008242</td>\n",
       "    </tr>\n",
       "    <tr>\n",
       "      <th>...</th>\n",
       "      <td>...</td>\n",
       "      <td>...</td>\n",
       "      <td>...</td>\n",
       "      <td>...</td>\n",
       "      <td>...</td>\n",
       "      <td>...</td>\n",
       "      <td>...</td>\n",
       "      <td>...</td>\n",
       "      <td>...</td>\n",
       "      <td>...</td>\n",
       "    </tr>\n",
       "    <tr>\n",
       "      <th>1254</th>\n",
       "      <td>2019-08-26</td>\n",
       "      <td>287.269989</td>\n",
       "      <td>288.000000</td>\n",
       "      <td>285.579987</td>\n",
       "      <td>288.000000</td>\n",
       "      <td>288.000000</td>\n",
       "      <td>72423800</td>\n",
       "      <td>2019</td>\n",
       "      <td>0.011058</td>\n",
       "      <td>0.008782</td>\n",
       "    </tr>\n",
       "    <tr>\n",
       "      <th>1255</th>\n",
       "      <td>2019-08-27</td>\n",
       "      <td>289.540009</td>\n",
       "      <td>289.950012</td>\n",
       "      <td>286.029999</td>\n",
       "      <td>286.869995</td>\n",
       "      <td>286.869995</td>\n",
       "      <td>66668900</td>\n",
       "      <td>2019</td>\n",
       "      <td>-0.003924</td>\n",
       "      <td>0.008782</td>\n",
       "    </tr>\n",
       "    <tr>\n",
       "      <th>1256</th>\n",
       "      <td>2019-08-28</td>\n",
       "      <td>286.140015</td>\n",
       "      <td>289.070007</td>\n",
       "      <td>285.250000</td>\n",
       "      <td>288.890015</td>\n",
       "      <td>288.890015</td>\n",
       "      <td>59696700</td>\n",
       "      <td>2019</td>\n",
       "      <td>0.007042</td>\n",
       "      <td>0.008782</td>\n",
       "    </tr>\n",
       "    <tr>\n",
       "      <th>1257</th>\n",
       "      <td>2019-08-29</td>\n",
       "      <td>291.720001</td>\n",
       "      <td>293.160004</td>\n",
       "      <td>290.609985</td>\n",
       "      <td>292.579987</td>\n",
       "      <td>292.579987</td>\n",
       "      <td>57899400</td>\n",
       "      <td>2019</td>\n",
       "      <td>0.012773</td>\n",
       "      <td>0.008782</td>\n",
       "    </tr>\n",
       "    <tr>\n",
       "      <th>1258</th>\n",
       "      <td>2019-08-30</td>\n",
       "      <td>294.220001</td>\n",
       "      <td>294.239990</td>\n",
       "      <td>291.420013</td>\n",
       "      <td>292.450012</td>\n",
       "      <td>292.450012</td>\n",
       "      <td>62901200</td>\n",
       "      <td>2019</td>\n",
       "      <td>-0.000444</td>\n",
       "      <td>0.008782</td>\n",
       "    </tr>\n",
       "  </tbody>\n",
       "</table>\n",
       "<p>1259 rows × 10 columns</p>\n",
       "</div>"
      ],
      "text/plain": [
       "           Date        Open        High         Low       Close   Adj Close  \\\n",
       "0    2014-09-02  200.970001  201.000000  199.860001  200.610001  181.672318   \n",
       "1    2014-09-03  201.380005  201.410004  200.220001  200.500000  181.572693   \n",
       "2    2014-09-04  200.839996  201.580002  199.660004  200.210007  181.310104   \n",
       "3    2014-09-05  200.169998  201.190002  199.410004  201.110001  182.125122   \n",
       "4    2014-09-08  200.919998  201.210007  200.000000  200.589996  181.654205   \n",
       "...         ...         ...         ...         ...         ...         ...   \n",
       "1254 2019-08-26  287.269989  288.000000  285.579987  288.000000  288.000000   \n",
       "1255 2019-08-27  289.540009  289.950012  286.029999  286.869995  286.869995   \n",
       "1256 2019-08-28  286.140015  289.070007  285.250000  288.890015  288.890015   \n",
       "1257 2019-08-29  291.720001  293.160004  290.609985  292.579987  292.579987   \n",
       "1258 2019-08-30  294.220001  294.239990  291.420013  292.450012  292.450012   \n",
       "\n",
       "         Volume  year    return       std  \n",
       "0      72426000  2014  0.000000  0.008242  \n",
       "1      57462000  2014 -0.000548  0.008242  \n",
       "2      85236000  2014 -0.001446  0.008242  \n",
       "3     102177000  2014  0.004495  0.008242  \n",
       "4      64146000  2014 -0.002586  0.008242  \n",
       "...         ...   ...       ...       ...  \n",
       "1254   72423800  2019  0.011058  0.008782  \n",
       "1255   66668900  2019 -0.003924  0.008782  \n",
       "1256   59696700  2019  0.007042  0.008782  \n",
       "1257   57899400  2019  0.012773  0.008782  \n",
       "1258   62901200  2019 -0.000444  0.008782  \n",
       "\n",
       "[1259 rows x 10 columns]"
      ]
     },
     "execution_count": 27,
     "metadata": {},
     "output_type": "execute_result"
    }
   ],
   "source": [
    "df1"
   ]
  },
  {
   "cell_type": "markdown",
   "metadata": {},
   "source": [
    "## sorting: in-place vs out-of-place"
   ]
  },
  {
   "cell_type": "code",
   "execution_count": 28,
   "metadata": {},
   "outputs": [
    {
     "name": "stdout",
     "output_type": "stream",
     "text": [
      "[11, 2, 3, 4, 5]\n",
      "[2, 3, 4, 5, 11]\n"
     ]
    }
   ],
   "source": [
    "mylist = [11,2,3,4,5]\n",
    "print(mylist)\n",
    "mylist.sort()\n",
    "print(mylist)"
   ]
  },
  {
   "cell_type": "code",
   "execution_count": null,
   "metadata": {},
   "outputs": [],
   "source": []
  },
  {
   "cell_type": "code",
   "execution_count": 29,
   "metadata": {},
   "outputs": [
    {
     "name": "stdout",
     "output_type": "stream",
     "text": [
      "[11, 2, 3, 4, 5]\n",
      "[2, 3, 4, 5, 11]\n"
     ]
    }
   ],
   "source": [
    "mylist =  [11,2,3,4,5]\n",
    "sorted(mylist)\n",
    "print(mylist)\n",
    "mylist =sorted(mylist)\n",
    "print(mylist)\n"
   ]
  },
  {
   "cell_type": "markdown",
   "metadata": {},
   "source": [
    "## Group by year and apply multiple functions (min, max, median)"
   ]
  },
  {
   "cell_type": "code",
   "execution_count": 30,
   "metadata": {},
   "outputs": [
    {
     "data": {
      "text/html": [
       "<div>\n",
       "<style scoped>\n",
       "    .dataframe tbody tr th:only-of-type {\n",
       "        vertical-align: middle;\n",
       "    }\n",
       "\n",
       "    .dataframe tbody tr th {\n",
       "        vertical-align: top;\n",
       "    }\n",
       "\n",
       "    .dataframe thead tr th {\n",
       "        text-align: left;\n",
       "    }\n",
       "\n",
       "    .dataframe thead tr:last-of-type th {\n",
       "        text-align: right;\n",
       "    }\n",
       "</style>\n",
       "<table border=\"1\" class=\"dataframe\">\n",
       "  <thead>\n",
       "    <tr>\n",
       "      <th></th>\n",
       "      <th colspan=\"3\" halign=\"left\">Close</th>\n",
       "    </tr>\n",
       "    <tr>\n",
       "      <th></th>\n",
       "      <th>min</th>\n",
       "      <th>max</th>\n",
       "      <th>median</th>\n",
       "    </tr>\n",
       "    <tr>\n",
       "      <th>year</th>\n",
       "      <th></th>\n",
       "      <th></th>\n",
       "      <th></th>\n",
       "    </tr>\n",
       "  </thead>\n",
       "  <tbody>\n",
       "    <tr>\n",
       "      <th>2014</th>\n",
       "      <td>186.270004</td>\n",
       "      <td>208.720001</td>\n",
       "      <td>200.750000</td>\n",
       "    </tr>\n",
       "    <tr>\n",
       "      <th>2015</th>\n",
       "      <td>187.270004</td>\n",
       "      <td>213.500000</td>\n",
       "      <td>208.010002</td>\n",
       "    </tr>\n",
       "    <tr>\n",
       "      <th>2016</th>\n",
       "      <td>182.860001</td>\n",
       "      <td>227.759995</td>\n",
       "      <td>210.544999</td>\n",
       "    </tr>\n",
       "    <tr>\n",
       "      <th>2017</th>\n",
       "      <td>225.240005</td>\n",
       "      <td>268.200012</td>\n",
       "      <td>243.490005</td>\n",
       "    </tr>\n",
       "    <tr>\n",
       "      <th>2018</th>\n",
       "      <td>234.339996</td>\n",
       "      <td>293.579987</td>\n",
       "      <td>273.980011</td>\n",
       "    </tr>\n",
       "    <tr>\n",
       "      <th>2019</th>\n",
       "      <td>244.210007</td>\n",
       "      <td>302.010010</td>\n",
       "      <td>286.465012</td>\n",
       "    </tr>\n",
       "  </tbody>\n",
       "</table>\n",
       "</div>"
      ],
      "text/plain": [
       "           Close                        \n",
       "             min         max      median\n",
       "year                                    \n",
       "2014  186.270004  208.720001  200.750000\n",
       "2015  187.270004  213.500000  208.010002\n",
       "2016  182.860001  227.759995  210.544999\n",
       "2017  225.240005  268.200012  243.490005\n",
       "2018  234.339996  293.579987  273.980011\n",
       "2019  244.210007  302.010010  286.465012"
      ]
     },
     "execution_count": 30,
     "metadata": {},
     "output_type": "execute_result"
    }
   ],
   "source": [
    "df1[['year','Close']].groupby('year').agg(['min','max', 'median'])"
   ]
  },
  {
   "cell_type": "markdown",
   "metadata": {},
   "source": [
    "## Count the number of rows with Close price less than 200"
   ]
  },
  {
   "cell_type": "code",
   "execution_count": 31,
   "metadata": {},
   "outputs": [],
   "source": [
    "low_close_mask = df1['Close']<200\n",
    "lowpricedays = df1[low_close_mask]"
   ]
  },
  {
   "cell_type": "code",
   "execution_count": 32,
   "metadata": {},
   "outputs": [],
   "source": [
    "my_big_df = pd.concat( [df1, df1] )\n",
    "my_big_df = my_big_df.reset_index()"
   ]
  },
  {
   "cell_type": "code",
   "execution_count": 33,
   "metadata": {},
   "outputs": [
    {
     "data": {
      "text/plain": [
       "(2518,)"
      ]
     },
     "execution_count": 33,
     "metadata": {},
     "output_type": "execute_result"
    }
   ],
   "source": [
    "my_big_df['Date'].shape"
   ]
  },
  {
   "cell_type": "code",
   "execution_count": 34,
   "metadata": {},
   "outputs": [
    {
     "data": {
      "text/plain": [
       "(1259,)"
      ]
     },
     "execution_count": 34,
     "metadata": {},
     "output_type": "execute_result"
    }
   ],
   "source": [
    "my_big_df['Date'].unique().shape"
   ]
  },
  {
   "cell_type": "code",
   "execution_count": 35,
   "metadata": {},
   "outputs": [
    {
     "data": {
      "text/html": [
       "<div>\n",
       "<style scoped>\n",
       "    .dataframe tbody tr th:only-of-type {\n",
       "        vertical-align: middle;\n",
       "    }\n",
       "\n",
       "    .dataframe tbody tr th {\n",
       "        vertical-align: top;\n",
       "    }\n",
       "\n",
       "    .dataframe thead th {\n",
       "        text-align: right;\n",
       "    }\n",
       "</style>\n",
       "<table border=\"1\" class=\"dataframe\">\n",
       "  <thead>\n",
       "    <tr style=\"text-align: right;\">\n",
       "      <th></th>\n",
       "      <th>index</th>\n",
       "      <th>Date</th>\n",
       "      <th>Open</th>\n",
       "      <th>High</th>\n",
       "      <th>Low</th>\n",
       "      <th>Close</th>\n",
       "      <th>Adj Close</th>\n",
       "      <th>Volume</th>\n",
       "      <th>year</th>\n",
       "      <th>return</th>\n",
       "      <th>std</th>\n",
       "    </tr>\n",
       "  </thead>\n",
       "  <tbody>\n",
       "    <tr>\n",
       "      <th>20</th>\n",
       "      <td>20</td>\n",
       "      <td>2014-09-30</td>\n",
       "      <td>197.690002</td>\n",
       "      <td>198.300003</td>\n",
       "      <td>196.610001</td>\n",
       "      <td>197.020004</td>\n",
       "      <td>179.255264</td>\n",
       "      <td>131302000</td>\n",
       "      <td>2014</td>\n",
       "      <td>-0.002632</td>\n",
       "      <td>0.008242</td>\n",
       "    </tr>\n",
       "  </tbody>\n",
       "</table>\n",
       "</div>"
      ],
      "text/plain": [
       "    index       Date        Open        High         Low       Close  \\\n",
       "20     20 2014-09-30  197.690002  198.300003  196.610001  197.020004   \n",
       "\n",
       "     Adj Close     Volume  year    return       std  \n",
       "20  179.255264  131302000  2014 -0.002632  0.008242  "
      ]
     },
     "execution_count": 35,
     "metadata": {},
     "output_type": "execute_result"
    }
   ],
   "source": [
    "my_big_df.loc[[20]]"
   ]
  },
  {
   "cell_type": "code",
   "execution_count": 36,
   "metadata": {},
   "outputs": [],
   "source": [
    "df1['Close_floor'] = df1['Close']"
   ]
  },
  {
   "cell_type": "code",
   "execution_count": 37,
   "metadata": {},
   "outputs": [],
   "source": [
    "df1.loc[df1['Close']<200, 'Close_floor'] = 200.00"
   ]
  },
  {
   "cell_type": "code",
   "execution_count": 38,
   "metadata": {},
   "outputs": [
    {
     "data": {
      "text/html": [
       "<div>\n",
       "<style scoped>\n",
       "    .dataframe tbody tr th:only-of-type {\n",
       "        vertical-align: middle;\n",
       "    }\n",
       "\n",
       "    .dataframe tbody tr th {\n",
       "        vertical-align: top;\n",
       "    }\n",
       "\n",
       "    .dataframe thead th {\n",
       "        text-align: right;\n",
       "    }\n",
       "</style>\n",
       "<table border=\"1\" class=\"dataframe\">\n",
       "  <thead>\n",
       "    <tr style=\"text-align: right;\">\n",
       "      <th></th>\n",
       "      <th>Date</th>\n",
       "      <th>Open</th>\n",
       "      <th>High</th>\n",
       "      <th>Low</th>\n",
       "      <th>Close</th>\n",
       "      <th>Adj Close</th>\n",
       "      <th>Volume</th>\n",
       "      <th>year</th>\n",
       "      <th>return</th>\n",
       "      <th>std</th>\n",
       "      <th>Close_floor</th>\n",
       "    </tr>\n",
       "  </thead>\n",
       "  <tbody>\n",
       "    <tr>\n",
       "      <th>0</th>\n",
       "      <td>2014-09-02</td>\n",
       "      <td>200.970001</td>\n",
       "      <td>201.000000</td>\n",
       "      <td>199.860001</td>\n",
       "      <td>200.610001</td>\n",
       "      <td>181.672318</td>\n",
       "      <td>72426000</td>\n",
       "      <td>2014</td>\n",
       "      <td>0.000000</td>\n",
       "      <td>0.008242</td>\n",
       "      <td>200.610001</td>\n",
       "    </tr>\n",
       "    <tr>\n",
       "      <th>1</th>\n",
       "      <td>2014-09-03</td>\n",
       "      <td>201.380005</td>\n",
       "      <td>201.410004</td>\n",
       "      <td>200.220001</td>\n",
       "      <td>200.500000</td>\n",
       "      <td>181.572693</td>\n",
       "      <td>57462000</td>\n",
       "      <td>2014</td>\n",
       "      <td>-0.000548</td>\n",
       "      <td>0.008242</td>\n",
       "      <td>200.500000</td>\n",
       "    </tr>\n",
       "    <tr>\n",
       "      <th>2</th>\n",
       "      <td>2014-09-04</td>\n",
       "      <td>200.839996</td>\n",
       "      <td>201.580002</td>\n",
       "      <td>199.660004</td>\n",
       "      <td>200.210007</td>\n",
       "      <td>181.310104</td>\n",
       "      <td>85236000</td>\n",
       "      <td>2014</td>\n",
       "      <td>-0.001446</td>\n",
       "      <td>0.008242</td>\n",
       "      <td>200.210007</td>\n",
       "    </tr>\n",
       "    <tr>\n",
       "      <th>3</th>\n",
       "      <td>2014-09-05</td>\n",
       "      <td>200.169998</td>\n",
       "      <td>201.190002</td>\n",
       "      <td>199.410004</td>\n",
       "      <td>201.110001</td>\n",
       "      <td>182.125122</td>\n",
       "      <td>102177000</td>\n",
       "      <td>2014</td>\n",
       "      <td>0.004495</td>\n",
       "      <td>0.008242</td>\n",
       "      <td>201.110001</td>\n",
       "    </tr>\n",
       "    <tr>\n",
       "      <th>4</th>\n",
       "      <td>2014-09-08</td>\n",
       "      <td>200.919998</td>\n",
       "      <td>201.210007</td>\n",
       "      <td>200.000000</td>\n",
       "      <td>200.589996</td>\n",
       "      <td>181.654205</td>\n",
       "      <td>64146000</td>\n",
       "      <td>2014</td>\n",
       "      <td>-0.002586</td>\n",
       "      <td>0.008242</td>\n",
       "      <td>200.589996</td>\n",
       "    </tr>\n",
       "    <tr>\n",
       "      <th>5</th>\n",
       "      <td>2014-09-09</td>\n",
       "      <td>200.410004</td>\n",
       "      <td>200.550003</td>\n",
       "      <td>198.910004</td>\n",
       "      <td>199.320007</td>\n",
       "      <td>180.504135</td>\n",
       "      <td>88591000</td>\n",
       "      <td>2014</td>\n",
       "      <td>-0.006331</td>\n",
       "      <td>0.008242</td>\n",
       "      <td>200.000000</td>\n",
       "    </tr>\n",
       "    <tr>\n",
       "      <th>6</th>\n",
       "      <td>2014-09-10</td>\n",
       "      <td>199.429993</td>\n",
       "      <td>200.199997</td>\n",
       "      <td>198.770004</td>\n",
       "      <td>200.070007</td>\n",
       "      <td>181.183319</td>\n",
       "      <td>67251000</td>\n",
       "      <td>2014</td>\n",
       "      <td>0.003763</td>\n",
       "      <td>0.008242</td>\n",
       "      <td>200.070007</td>\n",
       "    </tr>\n",
       "    <tr>\n",
       "      <th>7</th>\n",
       "      <td>2014-09-11</td>\n",
       "      <td>199.270004</td>\n",
       "      <td>200.330002</td>\n",
       "      <td>199.119995</td>\n",
       "      <td>200.300003</td>\n",
       "      <td>181.391602</td>\n",
       "      <td>66774400</td>\n",
       "      <td>2014</td>\n",
       "      <td>0.001150</td>\n",
       "      <td>0.008242</td>\n",
       "      <td>200.300003</td>\n",
       "    </tr>\n",
       "    <tr>\n",
       "      <th>8</th>\n",
       "      <td>2014-09-12</td>\n",
       "      <td>200.100006</td>\n",
       "      <td>200.119995</td>\n",
       "      <td>198.559998</td>\n",
       "      <td>199.130005</td>\n",
       "      <td>180.332031</td>\n",
       "      <td>117409300</td>\n",
       "      <td>2014</td>\n",
       "      <td>-0.005841</td>\n",
       "      <td>0.008242</td>\n",
       "      <td>200.000000</td>\n",
       "    </tr>\n",
       "    <tr>\n",
       "      <th>9</th>\n",
       "      <td>2014-09-15</td>\n",
       "      <td>199.160004</td>\n",
       "      <td>199.320007</td>\n",
       "      <td>198.380005</td>\n",
       "      <td>198.979996</td>\n",
       "      <td>180.196198</td>\n",
       "      <td>76401000</td>\n",
       "      <td>2014</td>\n",
       "      <td>-0.000753</td>\n",
       "      <td>0.008242</td>\n",
       "      <td>200.000000</td>\n",
       "    </tr>\n",
       "  </tbody>\n",
       "</table>\n",
       "</div>"
      ],
      "text/plain": [
       "        Date        Open        High         Low       Close   Adj Close  \\\n",
       "0 2014-09-02  200.970001  201.000000  199.860001  200.610001  181.672318   \n",
       "1 2014-09-03  201.380005  201.410004  200.220001  200.500000  181.572693   \n",
       "2 2014-09-04  200.839996  201.580002  199.660004  200.210007  181.310104   \n",
       "3 2014-09-05  200.169998  201.190002  199.410004  201.110001  182.125122   \n",
       "4 2014-09-08  200.919998  201.210007  200.000000  200.589996  181.654205   \n",
       "5 2014-09-09  200.410004  200.550003  198.910004  199.320007  180.504135   \n",
       "6 2014-09-10  199.429993  200.199997  198.770004  200.070007  181.183319   \n",
       "7 2014-09-11  199.270004  200.330002  199.119995  200.300003  181.391602   \n",
       "8 2014-09-12  200.100006  200.119995  198.559998  199.130005  180.332031   \n",
       "9 2014-09-15  199.160004  199.320007  198.380005  198.979996  180.196198   \n",
       "\n",
       "      Volume  year    return       std  Close_floor  \n",
       "0   72426000  2014  0.000000  0.008242   200.610001  \n",
       "1   57462000  2014 -0.000548  0.008242   200.500000  \n",
       "2   85236000  2014 -0.001446  0.008242   200.210007  \n",
       "3  102177000  2014  0.004495  0.008242   201.110001  \n",
       "4   64146000  2014 -0.002586  0.008242   200.589996  \n",
       "5   88591000  2014 -0.006331  0.008242   200.000000  \n",
       "6   67251000  2014  0.003763  0.008242   200.070007  \n",
       "7   66774400  2014  0.001150  0.008242   200.300003  \n",
       "8  117409300  2014 -0.005841  0.008242   200.000000  \n",
       "9   76401000  2014 -0.000753  0.008242   200.000000  "
      ]
     },
     "execution_count": 38,
     "metadata": {},
     "output_type": "execute_result"
    }
   ],
   "source": [
    "df1.head(10)"
   ]
  },
  {
   "cell_type": "markdown",
   "metadata": {},
   "source": [
    "## Median Close price"
   ]
  },
  {
   "cell_type": "code",
   "execution_count": 39,
   "metadata": {},
   "outputs": [
    {
     "data": {
      "text/plain": [
       "234.57000699999998"
      ]
     },
     "execution_count": 39,
     "metadata": {},
     "output_type": "execute_result"
    }
   ],
   "source": [
    "df1['Close'].median()"
   ]
  },
  {
   "cell_type": "code",
   "execution_count": 40,
   "metadata": {},
   "outputs": [],
   "source": [
    "spy_median = df1['Close'].median()"
   ]
  },
  {
   "cell_type": "markdown",
   "metadata": {},
   "source": [
    "#### What type of variable is \"spy_median\"?"
   ]
  },
  {
   "cell_type": "code",
   "execution_count": 41,
   "metadata": {},
   "outputs": [
    {
     "data": {
      "text/plain": [
       "float"
      ]
     },
     "execution_count": 41,
     "metadata": {},
     "output_type": "execute_result"
    }
   ],
   "source": [
    "type(spy_median)"
   ]
  },
  {
   "cell_type": "markdown",
   "metadata": {},
   "source": [
    "### Dictionaries example\n",
    "#### we have multiple symbols and want to store some value for each symbol"
   ]
  },
  {
   "cell_type": "code",
   "execution_count": 42,
   "metadata": {},
   "outputs": [],
   "source": [
    "my_dict = dict()"
   ]
  },
  {
   "cell_type": "code",
   "execution_count": 43,
   "metadata": {},
   "outputs": [],
   "source": [
    "my_dict['SPY'] = 200\n",
    "my_dict['LYFT'] = 45\n"
   ]
  },
  {
   "cell_type": "code",
   "execution_count": 44,
   "metadata": {},
   "outputs": [
    {
     "data": {
      "text/plain": [
       "dict_keys(['SPY', 'LYFT'])"
      ]
     },
     "execution_count": 44,
     "metadata": {},
     "output_type": "execute_result"
    }
   ],
   "source": [
    "my_dict.keys()"
   ]
  },
  {
   "cell_type": "code",
   "execution_count": 45,
   "metadata": {},
   "outputs": [
    {
     "data": {
      "text/plain": [
       "float"
      ]
     },
     "execution_count": 45,
     "metadata": {},
     "output_type": "execute_result"
    }
   ],
   "source": [
    "type(spy_median)"
   ]
  },
  {
   "cell_type": "markdown",
   "metadata": {},
   "source": [
    "## Calculate the change in price\n",
    "\n",
    "## $pricechange_{t} = price_{t} - price_{t-1}$"
   ]
  },
  {
   "cell_type": "code",
   "execution_count": 46,
   "metadata": {},
   "outputs": [
    {
     "data": {
      "text/html": [
       "<div>\n",
       "<style scoped>\n",
       "    .dataframe tbody tr th:only-of-type {\n",
       "        vertical-align: middle;\n",
       "    }\n",
       "\n",
       "    .dataframe tbody tr th {\n",
       "        vertical-align: top;\n",
       "    }\n",
       "\n",
       "    .dataframe thead th {\n",
       "        text-align: right;\n",
       "    }\n",
       "</style>\n",
       "<table border=\"1\" class=\"dataframe\">\n",
       "  <thead>\n",
       "    <tr style=\"text-align: right;\">\n",
       "      <th></th>\n",
       "      <th>Date</th>\n",
       "      <th>Open</th>\n",
       "      <th>High</th>\n",
       "      <th>Low</th>\n",
       "      <th>Close</th>\n",
       "      <th>Adj Close</th>\n",
       "      <th>Volume</th>\n",
       "      <th>year</th>\n",
       "      <th>return</th>\n",
       "      <th>std</th>\n",
       "      <th>Close_floor</th>\n",
       "      <th>price_change</th>\n",
       "    </tr>\n",
       "  </thead>\n",
       "  <tbody>\n",
       "    <tr>\n",
       "      <th>0</th>\n",
       "      <td>2014-09-02</td>\n",
       "      <td>200.970001</td>\n",
       "      <td>201.000000</td>\n",
       "      <td>199.860001</td>\n",
       "      <td>200.610001</td>\n",
       "      <td>181.672318</td>\n",
       "      <td>72426000</td>\n",
       "      <td>2014</td>\n",
       "      <td>0.000000</td>\n",
       "      <td>0.008242</td>\n",
       "      <td>200.610001</td>\n",
       "      <td>NaN</td>\n",
       "    </tr>\n",
       "    <tr>\n",
       "      <th>1</th>\n",
       "      <td>2014-09-03</td>\n",
       "      <td>201.380005</td>\n",
       "      <td>201.410004</td>\n",
       "      <td>200.220001</td>\n",
       "      <td>200.500000</td>\n",
       "      <td>181.572693</td>\n",
       "      <td>57462000</td>\n",
       "      <td>2014</td>\n",
       "      <td>-0.000548</td>\n",
       "      <td>0.008242</td>\n",
       "      <td>200.500000</td>\n",
       "      <td>-0.110001</td>\n",
       "    </tr>\n",
       "    <tr>\n",
       "      <th>2</th>\n",
       "      <td>2014-09-04</td>\n",
       "      <td>200.839996</td>\n",
       "      <td>201.580002</td>\n",
       "      <td>199.660004</td>\n",
       "      <td>200.210007</td>\n",
       "      <td>181.310104</td>\n",
       "      <td>85236000</td>\n",
       "      <td>2014</td>\n",
       "      <td>-0.001446</td>\n",
       "      <td>0.008242</td>\n",
       "      <td>200.210007</td>\n",
       "      <td>-0.289993</td>\n",
       "    </tr>\n",
       "    <tr>\n",
       "      <th>3</th>\n",
       "      <td>2014-09-05</td>\n",
       "      <td>200.169998</td>\n",
       "      <td>201.190002</td>\n",
       "      <td>199.410004</td>\n",
       "      <td>201.110001</td>\n",
       "      <td>182.125122</td>\n",
       "      <td>102177000</td>\n",
       "      <td>2014</td>\n",
       "      <td>0.004495</td>\n",
       "      <td>0.008242</td>\n",
       "      <td>201.110001</td>\n",
       "      <td>0.899994</td>\n",
       "    </tr>\n",
       "    <tr>\n",
       "      <th>4</th>\n",
       "      <td>2014-09-08</td>\n",
       "      <td>200.919998</td>\n",
       "      <td>201.210007</td>\n",
       "      <td>200.000000</td>\n",
       "      <td>200.589996</td>\n",
       "      <td>181.654205</td>\n",
       "      <td>64146000</td>\n",
       "      <td>2014</td>\n",
       "      <td>-0.002586</td>\n",
       "      <td>0.008242</td>\n",
       "      <td>200.589996</td>\n",
       "      <td>-0.520005</td>\n",
       "    </tr>\n",
       "  </tbody>\n",
       "</table>\n",
       "</div>"
      ],
      "text/plain": [
       "        Date        Open        High         Low       Close   Adj Close  \\\n",
       "0 2014-09-02  200.970001  201.000000  199.860001  200.610001  181.672318   \n",
       "1 2014-09-03  201.380005  201.410004  200.220001  200.500000  181.572693   \n",
       "2 2014-09-04  200.839996  201.580002  199.660004  200.210007  181.310104   \n",
       "3 2014-09-05  200.169998  201.190002  199.410004  201.110001  182.125122   \n",
       "4 2014-09-08  200.919998  201.210007  200.000000  200.589996  181.654205   \n",
       "\n",
       "      Volume  year    return       std  Close_floor  price_change  \n",
       "0   72426000  2014  0.000000  0.008242   200.610001           NaN  \n",
       "1   57462000  2014 -0.000548  0.008242   200.500000     -0.110001  \n",
       "2   85236000  2014 -0.001446  0.008242   200.210007     -0.289993  \n",
       "3  102177000  2014  0.004495  0.008242   201.110001      0.899994  \n",
       "4   64146000  2014 -0.002586  0.008242   200.589996     -0.520005  "
      ]
     },
     "metadata": {},
     "output_type": "display_data"
    }
   ],
   "source": [
    "df1['price_change']  = df1['Close'].diff()\n",
    "display( df1.head() )"
   ]
  },
  {
   "cell_type": "markdown",
   "metadata": {},
   "source": [
    "### <font color='red'> Notice the Nan in the first row of the price_change column</font>"
   ]
  },
  {
   "cell_type": "code",
   "execution_count": 47,
   "metadata": {},
   "outputs": [
    {
     "data": {
      "text/html": [
       "<div>\n",
       "<style scoped>\n",
       "    .dataframe tbody tr th:only-of-type {\n",
       "        vertical-align: middle;\n",
       "    }\n",
       "\n",
       "    .dataframe tbody tr th {\n",
       "        vertical-align: top;\n",
       "    }\n",
       "\n",
       "    .dataframe thead th {\n",
       "        text-align: right;\n",
       "    }\n",
       "</style>\n",
       "<table border=\"1\" class=\"dataframe\">\n",
       "  <thead>\n",
       "    <tr style=\"text-align: right;\">\n",
       "      <th></th>\n",
       "      <th>Date</th>\n",
       "      <th>Open</th>\n",
       "      <th>High</th>\n",
       "      <th>Low</th>\n",
       "      <th>Close</th>\n",
       "      <th>Adj Close</th>\n",
       "      <th>Volume</th>\n",
       "      <th>year</th>\n",
       "      <th>return</th>\n",
       "      <th>std</th>\n",
       "      <th>Close_floor</th>\n",
       "      <th>price_change</th>\n",
       "    </tr>\n",
       "  </thead>\n",
       "  <tbody>\n",
       "    <tr>\n",
       "      <th>0</th>\n",
       "      <td>2014-09-02</td>\n",
       "      <td>200.970001</td>\n",
       "      <td>201.000000</td>\n",
       "      <td>199.860001</td>\n",
       "      <td>200.610001</td>\n",
       "      <td>181.672318</td>\n",
       "      <td>72426000</td>\n",
       "      <td>2014</td>\n",
       "      <td>0.000000</td>\n",
       "      <td>0.008242</td>\n",
       "      <td>200.610001</td>\n",
       "      <td>0.000000</td>\n",
       "    </tr>\n",
       "    <tr>\n",
       "      <th>1</th>\n",
       "      <td>2014-09-03</td>\n",
       "      <td>201.380005</td>\n",
       "      <td>201.410004</td>\n",
       "      <td>200.220001</td>\n",
       "      <td>200.500000</td>\n",
       "      <td>181.572693</td>\n",
       "      <td>57462000</td>\n",
       "      <td>2014</td>\n",
       "      <td>-0.000548</td>\n",
       "      <td>0.008242</td>\n",
       "      <td>200.500000</td>\n",
       "      <td>-0.110001</td>\n",
       "    </tr>\n",
       "    <tr>\n",
       "      <th>2</th>\n",
       "      <td>2014-09-04</td>\n",
       "      <td>200.839996</td>\n",
       "      <td>201.580002</td>\n",
       "      <td>199.660004</td>\n",
       "      <td>200.210007</td>\n",
       "      <td>181.310104</td>\n",
       "      <td>85236000</td>\n",
       "      <td>2014</td>\n",
       "      <td>-0.001446</td>\n",
       "      <td>0.008242</td>\n",
       "      <td>200.210007</td>\n",
       "      <td>-0.289993</td>\n",
       "    </tr>\n",
       "    <tr>\n",
       "      <th>3</th>\n",
       "      <td>2014-09-05</td>\n",
       "      <td>200.169998</td>\n",
       "      <td>201.190002</td>\n",
       "      <td>199.410004</td>\n",
       "      <td>201.110001</td>\n",
       "      <td>182.125122</td>\n",
       "      <td>102177000</td>\n",
       "      <td>2014</td>\n",
       "      <td>0.004495</td>\n",
       "      <td>0.008242</td>\n",
       "      <td>201.110001</td>\n",
       "      <td>0.899994</td>\n",
       "    </tr>\n",
       "    <tr>\n",
       "      <th>4</th>\n",
       "      <td>2014-09-08</td>\n",
       "      <td>200.919998</td>\n",
       "      <td>201.210007</td>\n",
       "      <td>200.000000</td>\n",
       "      <td>200.589996</td>\n",
       "      <td>181.654205</td>\n",
       "      <td>64146000</td>\n",
       "      <td>2014</td>\n",
       "      <td>-0.002586</td>\n",
       "      <td>0.008242</td>\n",
       "      <td>200.589996</td>\n",
       "      <td>-0.520005</td>\n",
       "    </tr>\n",
       "  </tbody>\n",
       "</table>\n",
       "</div>"
      ],
      "text/plain": [
       "        Date        Open        High         Low       Close   Adj Close  \\\n",
       "0 2014-09-02  200.970001  201.000000  199.860001  200.610001  181.672318   \n",
       "1 2014-09-03  201.380005  201.410004  200.220001  200.500000  181.572693   \n",
       "2 2014-09-04  200.839996  201.580002  199.660004  200.210007  181.310104   \n",
       "3 2014-09-05  200.169998  201.190002  199.410004  201.110001  182.125122   \n",
       "4 2014-09-08  200.919998  201.210007  200.000000  200.589996  181.654205   \n",
       "\n",
       "      Volume  year    return       std  Close_floor  price_change  \n",
       "0   72426000  2014  0.000000  0.008242   200.610001      0.000000  \n",
       "1   57462000  2014 -0.000548  0.008242   200.500000     -0.110001  \n",
       "2   85236000  2014 -0.001446  0.008242   200.210007     -0.289993  \n",
       "3  102177000  2014  0.004495  0.008242   201.110001      0.899994  \n",
       "4   64146000  2014 -0.002586  0.008242   200.589996     -0.520005  "
      ]
     },
     "metadata": {},
     "output_type": "display_data"
    }
   ],
   "source": [
    "df1['price_change']  = df1['Close'].diff().fillna(0)\n",
    "display( df1.head() )"
   ]
  },
  {
   "cell_type": "code",
   "execution_count": 48,
   "metadata": {},
   "outputs": [],
   "source": [
    "#If you need help on fillna() usage\n",
    "#?df1.fillna"
   ]
  },
  {
   "cell_type": "markdown",
   "metadata": {},
   "source": [
    "## Calculate the return\n",
    "## $return_{t} = \\frac{price_{t} - price_{t-1}}{price_{t-1}} = \\frac{pricechange_{t}}{price_{t-1}}$"
   ]
  },
  {
   "cell_type": "code",
   "execution_count": 49,
   "metadata": {},
   "outputs": [
    {
     "data": {
      "text/html": [
       "<div>\n",
       "<style scoped>\n",
       "    .dataframe tbody tr th:only-of-type {\n",
       "        vertical-align: middle;\n",
       "    }\n",
       "\n",
       "    .dataframe tbody tr th {\n",
       "        vertical-align: top;\n",
       "    }\n",
       "\n",
       "    .dataframe thead th {\n",
       "        text-align: right;\n",
       "    }\n",
       "</style>\n",
       "<table border=\"1\" class=\"dataframe\">\n",
       "  <thead>\n",
       "    <tr style=\"text-align: right;\">\n",
       "      <th></th>\n",
       "      <th>Date</th>\n",
       "      <th>Open</th>\n",
       "      <th>High</th>\n",
       "      <th>Low</th>\n",
       "      <th>Close</th>\n",
       "      <th>Adj Close</th>\n",
       "      <th>Volume</th>\n",
       "      <th>year</th>\n",
       "      <th>return</th>\n",
       "      <th>std</th>\n",
       "      <th>Close_floor</th>\n",
       "      <th>price_change</th>\n",
       "    </tr>\n",
       "  </thead>\n",
       "  <tbody>\n",
       "    <tr>\n",
       "      <th>0</th>\n",
       "      <td>2014-09-02</td>\n",
       "      <td>200.970001</td>\n",
       "      <td>201.000000</td>\n",
       "      <td>199.860001</td>\n",
       "      <td>200.610001</td>\n",
       "      <td>181.672318</td>\n",
       "      <td>72426000</td>\n",
       "      <td>2014</td>\n",
       "      <td>0.000000</td>\n",
       "      <td>0.008242</td>\n",
       "      <td>200.610001</td>\n",
       "      <td>0.000000</td>\n",
       "    </tr>\n",
       "    <tr>\n",
       "      <th>1</th>\n",
       "      <td>2014-09-03</td>\n",
       "      <td>201.380005</td>\n",
       "      <td>201.410004</td>\n",
       "      <td>200.220001</td>\n",
       "      <td>200.500000</td>\n",
       "      <td>181.572693</td>\n",
       "      <td>57462000</td>\n",
       "      <td>2014</td>\n",
       "      <td>-0.000548</td>\n",
       "      <td>0.008242</td>\n",
       "      <td>200.500000</td>\n",
       "      <td>-0.110001</td>\n",
       "    </tr>\n",
       "    <tr>\n",
       "      <th>2</th>\n",
       "      <td>2014-09-04</td>\n",
       "      <td>200.839996</td>\n",
       "      <td>201.580002</td>\n",
       "      <td>199.660004</td>\n",
       "      <td>200.210007</td>\n",
       "      <td>181.310104</td>\n",
       "      <td>85236000</td>\n",
       "      <td>2014</td>\n",
       "      <td>-0.001446</td>\n",
       "      <td>0.008242</td>\n",
       "      <td>200.210007</td>\n",
       "      <td>-0.289993</td>\n",
       "    </tr>\n",
       "    <tr>\n",
       "      <th>3</th>\n",
       "      <td>2014-09-05</td>\n",
       "      <td>200.169998</td>\n",
       "      <td>201.190002</td>\n",
       "      <td>199.410004</td>\n",
       "      <td>201.110001</td>\n",
       "      <td>182.125122</td>\n",
       "      <td>102177000</td>\n",
       "      <td>2014</td>\n",
       "      <td>0.004495</td>\n",
       "      <td>0.008242</td>\n",
       "      <td>201.110001</td>\n",
       "      <td>0.899994</td>\n",
       "    </tr>\n",
       "    <tr>\n",
       "      <th>4</th>\n",
       "      <td>2014-09-08</td>\n",
       "      <td>200.919998</td>\n",
       "      <td>201.210007</td>\n",
       "      <td>200.000000</td>\n",
       "      <td>200.589996</td>\n",
       "      <td>181.654205</td>\n",
       "      <td>64146000</td>\n",
       "      <td>2014</td>\n",
       "      <td>-0.002586</td>\n",
       "      <td>0.008242</td>\n",
       "      <td>200.589996</td>\n",
       "      <td>-0.520005</td>\n",
       "    </tr>\n",
       "  </tbody>\n",
       "</table>\n",
       "</div>"
      ],
      "text/plain": [
       "        Date        Open        High         Low       Close   Adj Close  \\\n",
       "0 2014-09-02  200.970001  201.000000  199.860001  200.610001  181.672318   \n",
       "1 2014-09-03  201.380005  201.410004  200.220001  200.500000  181.572693   \n",
       "2 2014-09-04  200.839996  201.580002  199.660004  200.210007  181.310104   \n",
       "3 2014-09-05  200.169998  201.190002  199.410004  201.110001  182.125122   \n",
       "4 2014-09-08  200.919998  201.210007  200.000000  200.589996  181.654205   \n",
       "\n",
       "      Volume  year    return       std  Close_floor  price_change  \n",
       "0   72426000  2014  0.000000  0.008242   200.610001      0.000000  \n",
       "1   57462000  2014 -0.000548  0.008242   200.500000     -0.110001  \n",
       "2   85236000  2014 -0.001446  0.008242   200.210007     -0.289993  \n",
       "3  102177000  2014  0.004495  0.008242   201.110001      0.899994  \n",
       "4   64146000  2014 -0.002586  0.008242   200.589996     -0.520005  "
      ]
     },
     "metadata": {},
     "output_type": "display_data"
    }
   ],
   "source": [
    "df1['return'] = (df1['price_change'] / df1['Close'].shift(1)).fillna(0)\n",
    "display(df1.head())"
   ]
  },
  {
   "cell_type": "markdown",
   "metadata": {},
   "source": [
    "### <font color='red'> Why did we apply <i>shift(1)</i> to the Close column??</font>"
   ]
  },
  {
   "cell_type": "code",
   "execution_count": 50,
   "metadata": {},
   "outputs": [],
   "source": [
    "#You can shift forward, backward, or nowhere\n",
    "#df1['Close'].shift(-5)\n",
    "#df1['Close'].shift(0)\n",
    "#df1['Close'].shift(5)"
   ]
  },
  {
   "cell_type": "markdown",
   "metadata": {},
   "source": [
    "### Alternatively ..."
   ]
  },
  {
   "cell_type": "code",
   "execution_count": 51,
   "metadata": {},
   "outputs": [],
   "source": [
    "df1['return2'] = df1['Close'].pct_change()    ###.fillna(0)\n"
   ]
  },
  {
   "cell_type": "code",
   "execution_count": 52,
   "metadata": {},
   "outputs": [
    {
     "data": {
      "text/html": [
       "<div>\n",
       "<style scoped>\n",
       "    .dataframe tbody tr th:only-of-type {\n",
       "        vertical-align: middle;\n",
       "    }\n",
       "\n",
       "    .dataframe tbody tr th {\n",
       "        vertical-align: top;\n",
       "    }\n",
       "\n",
       "    .dataframe thead th {\n",
       "        text-align: right;\n",
       "    }\n",
       "</style>\n",
       "<table border=\"1\" class=\"dataframe\">\n",
       "  <thead>\n",
       "    <tr style=\"text-align: right;\">\n",
       "      <th></th>\n",
       "      <th>Date</th>\n",
       "      <th>Open</th>\n",
       "      <th>High</th>\n",
       "      <th>Low</th>\n",
       "      <th>Close</th>\n",
       "      <th>Adj Close</th>\n",
       "      <th>Volume</th>\n",
       "      <th>year</th>\n",
       "      <th>return</th>\n",
       "      <th>std</th>\n",
       "      <th>Close_floor</th>\n",
       "      <th>price_change</th>\n",
       "      <th>return2</th>\n",
       "    </tr>\n",
       "  </thead>\n",
       "  <tbody>\n",
       "    <tr>\n",
       "      <th>0</th>\n",
       "      <td>2014-09-02</td>\n",
       "      <td>200.970001</td>\n",
       "      <td>201.000000</td>\n",
       "      <td>199.860001</td>\n",
       "      <td>200.610001</td>\n",
       "      <td>181.672318</td>\n",
       "      <td>72426000</td>\n",
       "      <td>2014</td>\n",
       "      <td>0.000000</td>\n",
       "      <td>0.008242</td>\n",
       "      <td>200.610001</td>\n",
       "      <td>0.000000</td>\n",
       "      <td>NaN</td>\n",
       "    </tr>\n",
       "    <tr>\n",
       "      <th>1</th>\n",
       "      <td>2014-09-03</td>\n",
       "      <td>201.380005</td>\n",
       "      <td>201.410004</td>\n",
       "      <td>200.220001</td>\n",
       "      <td>200.500000</td>\n",
       "      <td>181.572693</td>\n",
       "      <td>57462000</td>\n",
       "      <td>2014</td>\n",
       "      <td>-0.000548</td>\n",
       "      <td>0.008242</td>\n",
       "      <td>200.500000</td>\n",
       "      <td>-0.110001</td>\n",
       "      <td>-0.000548</td>\n",
       "    </tr>\n",
       "    <tr>\n",
       "      <th>2</th>\n",
       "      <td>2014-09-04</td>\n",
       "      <td>200.839996</td>\n",
       "      <td>201.580002</td>\n",
       "      <td>199.660004</td>\n",
       "      <td>200.210007</td>\n",
       "      <td>181.310104</td>\n",
       "      <td>85236000</td>\n",
       "      <td>2014</td>\n",
       "      <td>-0.001446</td>\n",
       "      <td>0.008242</td>\n",
       "      <td>200.210007</td>\n",
       "      <td>-0.289993</td>\n",
       "      <td>-0.001446</td>\n",
       "    </tr>\n",
       "    <tr>\n",
       "      <th>3</th>\n",
       "      <td>2014-09-05</td>\n",
       "      <td>200.169998</td>\n",
       "      <td>201.190002</td>\n",
       "      <td>199.410004</td>\n",
       "      <td>201.110001</td>\n",
       "      <td>182.125122</td>\n",
       "      <td>102177000</td>\n",
       "      <td>2014</td>\n",
       "      <td>0.004495</td>\n",
       "      <td>0.008242</td>\n",
       "      <td>201.110001</td>\n",
       "      <td>0.899994</td>\n",
       "      <td>0.004495</td>\n",
       "    </tr>\n",
       "    <tr>\n",
       "      <th>4</th>\n",
       "      <td>2014-09-08</td>\n",
       "      <td>200.919998</td>\n",
       "      <td>201.210007</td>\n",
       "      <td>200.000000</td>\n",
       "      <td>200.589996</td>\n",
       "      <td>181.654205</td>\n",
       "      <td>64146000</td>\n",
       "      <td>2014</td>\n",
       "      <td>-0.002586</td>\n",
       "      <td>0.008242</td>\n",
       "      <td>200.589996</td>\n",
       "      <td>-0.520005</td>\n",
       "      <td>-0.002586</td>\n",
       "    </tr>\n",
       "  </tbody>\n",
       "</table>\n",
       "</div>"
      ],
      "text/plain": [
       "        Date        Open        High         Low       Close   Adj Close  \\\n",
       "0 2014-09-02  200.970001  201.000000  199.860001  200.610001  181.672318   \n",
       "1 2014-09-03  201.380005  201.410004  200.220001  200.500000  181.572693   \n",
       "2 2014-09-04  200.839996  201.580002  199.660004  200.210007  181.310104   \n",
       "3 2014-09-05  200.169998  201.190002  199.410004  201.110001  182.125122   \n",
       "4 2014-09-08  200.919998  201.210007  200.000000  200.589996  181.654205   \n",
       "\n",
       "      Volume  year    return       std  Close_floor  price_change   return2  \n",
       "0   72426000  2014  0.000000  0.008242   200.610001      0.000000       NaN  \n",
       "1   57462000  2014 -0.000548  0.008242   200.500000     -0.110001 -0.000548  \n",
       "2   85236000  2014 -0.001446  0.008242   200.210007     -0.289993 -0.001446  \n",
       "3  102177000  2014  0.004495  0.008242   201.110001      0.899994  0.004495  \n",
       "4   64146000  2014 -0.002586  0.008242   200.589996     -0.520005 -0.002586  "
      ]
     },
     "metadata": {},
     "output_type": "display_data"
    },
    {
     "name": "stdout",
     "output_type": "stream",
     "text": [
      "-----------\n"
     ]
    },
    {
     "data": {
      "text/html": [
       "<div>\n",
       "<style scoped>\n",
       "    .dataframe tbody tr th:only-of-type {\n",
       "        vertical-align: middle;\n",
       "    }\n",
       "\n",
       "    .dataframe tbody tr th {\n",
       "        vertical-align: top;\n",
       "    }\n",
       "\n",
       "    .dataframe thead th {\n",
       "        text-align: right;\n",
       "    }\n",
       "</style>\n",
       "<table border=\"1\" class=\"dataframe\">\n",
       "  <thead>\n",
       "    <tr style=\"text-align: right;\">\n",
       "      <th></th>\n",
       "      <th>Date</th>\n",
       "      <th>Open</th>\n",
       "      <th>High</th>\n",
       "      <th>Low</th>\n",
       "      <th>Close</th>\n",
       "      <th>Adj Close</th>\n",
       "      <th>Volume</th>\n",
       "      <th>year</th>\n",
       "      <th>return</th>\n",
       "      <th>std</th>\n",
       "      <th>Close_floor</th>\n",
       "      <th>price_change</th>\n",
       "      <th>return2</th>\n",
       "    </tr>\n",
       "  </thead>\n",
       "  <tbody>\n",
       "    <tr>\n",
       "      <th>1254</th>\n",
       "      <td>2019-08-26</td>\n",
       "      <td>287.269989</td>\n",
       "      <td>288.000000</td>\n",
       "      <td>285.579987</td>\n",
       "      <td>288.000000</td>\n",
       "      <td>288.000000</td>\n",
       "      <td>72423800</td>\n",
       "      <td>2019</td>\n",
       "      <td>0.011058</td>\n",
       "      <td>0.008782</td>\n",
       "      <td>288.000000</td>\n",
       "      <td>3.149994</td>\n",
       "      <td>0.011058</td>\n",
       "    </tr>\n",
       "    <tr>\n",
       "      <th>1255</th>\n",
       "      <td>2019-08-27</td>\n",
       "      <td>289.540009</td>\n",
       "      <td>289.950012</td>\n",
       "      <td>286.029999</td>\n",
       "      <td>286.869995</td>\n",
       "      <td>286.869995</td>\n",
       "      <td>66668900</td>\n",
       "      <td>2019</td>\n",
       "      <td>-0.003924</td>\n",
       "      <td>0.008782</td>\n",
       "      <td>286.869995</td>\n",
       "      <td>-1.130005</td>\n",
       "      <td>-0.003924</td>\n",
       "    </tr>\n",
       "    <tr>\n",
       "      <th>1256</th>\n",
       "      <td>2019-08-28</td>\n",
       "      <td>286.140015</td>\n",
       "      <td>289.070007</td>\n",
       "      <td>285.250000</td>\n",
       "      <td>288.890015</td>\n",
       "      <td>288.890015</td>\n",
       "      <td>59696700</td>\n",
       "      <td>2019</td>\n",
       "      <td>0.007042</td>\n",
       "      <td>0.008782</td>\n",
       "      <td>288.890015</td>\n",
       "      <td>2.020020</td>\n",
       "      <td>0.007042</td>\n",
       "    </tr>\n",
       "    <tr>\n",
       "      <th>1257</th>\n",
       "      <td>2019-08-29</td>\n",
       "      <td>291.720001</td>\n",
       "      <td>293.160004</td>\n",
       "      <td>290.609985</td>\n",
       "      <td>292.579987</td>\n",
       "      <td>292.579987</td>\n",
       "      <td>57899400</td>\n",
       "      <td>2019</td>\n",
       "      <td>0.012773</td>\n",
       "      <td>0.008782</td>\n",
       "      <td>292.579987</td>\n",
       "      <td>3.689972</td>\n",
       "      <td>0.012773</td>\n",
       "    </tr>\n",
       "    <tr>\n",
       "      <th>1258</th>\n",
       "      <td>2019-08-30</td>\n",
       "      <td>294.220001</td>\n",
       "      <td>294.239990</td>\n",
       "      <td>291.420013</td>\n",
       "      <td>292.450012</td>\n",
       "      <td>292.450012</td>\n",
       "      <td>62901200</td>\n",
       "      <td>2019</td>\n",
       "      <td>-0.000444</td>\n",
       "      <td>0.008782</td>\n",
       "      <td>292.450012</td>\n",
       "      <td>-0.129975</td>\n",
       "      <td>-0.000444</td>\n",
       "    </tr>\n",
       "  </tbody>\n",
       "</table>\n",
       "</div>"
      ],
      "text/plain": [
       "           Date        Open        High         Low       Close   Adj Close  \\\n",
       "1254 2019-08-26  287.269989  288.000000  285.579987  288.000000  288.000000   \n",
       "1255 2019-08-27  289.540009  289.950012  286.029999  286.869995  286.869995   \n",
       "1256 2019-08-28  286.140015  289.070007  285.250000  288.890015  288.890015   \n",
       "1257 2019-08-29  291.720001  293.160004  290.609985  292.579987  292.579987   \n",
       "1258 2019-08-30  294.220001  294.239990  291.420013  292.450012  292.450012   \n",
       "\n",
       "        Volume  year    return       std  Close_floor  price_change   return2  \n",
       "1254  72423800  2019  0.011058  0.008782   288.000000      3.149994  0.011058  \n",
       "1255  66668900  2019 -0.003924  0.008782   286.869995     -1.130005 -0.003924  \n",
       "1256  59696700  2019  0.007042  0.008782   288.890015      2.020020  0.007042  \n",
       "1257  57899400  2019  0.012773  0.008782   292.579987      3.689972  0.012773  \n",
       "1258  62901200  2019 -0.000444  0.008782   292.450012     -0.129975 -0.000444  "
      ]
     },
     "metadata": {},
     "output_type": "display_data"
    }
   ],
   "source": [
    "display(df1.head())\n",
    "\n",
    "print('-----------')\n",
    "display(df1.tail())\n"
   ]
  },
  {
   "cell_type": "code",
   "execution_count": null,
   "metadata": {},
   "outputs": [],
   "source": []
  },
  {
   "cell_type": "markdown",
   "metadata": {},
   "source": [
    "### <font color='red'> Why did we use \"display\" above?</font>"
   ]
  },
  {
   "cell_type": "markdown",
   "metadata": {},
   "source": [
    "### Average daily return"
   ]
  },
  {
   "cell_type": "code",
   "execution_count": 53,
   "metadata": {},
   "outputs": [
    {
     "name": "stdout",
     "output_type": "stream",
     "text": [
      "0.00033679504647385474\n"
     ]
    }
   ],
   "source": [
    "mean_ret =  df1['return'].mean() \n",
    "print(mean_ret)"
   ]
  },
  {
   "cell_type": "markdown",
   "metadata": {},
   "source": [
    "### Print the above with nice formatting"
   ]
  },
  {
   "cell_type": "code",
   "execution_count": 54,
   "metadata": {},
   "outputs": [
    {
     "name": "stdout",
     "output_type": "stream",
     "text": [
      "0.0003\n"
     ]
    }
   ],
   "source": [
    "print('{:.4f}'.format(mean_ret))"
   ]
  },
  {
   "cell_type": "code",
   "execution_count": 55,
   "metadata": {},
   "outputs": [
    {
     "name": "stdout",
     "output_type": "stream",
     "text": [
      "Average daily return is 0.03%\n"
     ]
    }
   ],
   "source": [
    "print(f'Average daily return is {100*mean_ret:.2f}%')"
   ]
  },
  {
   "cell_type": "markdown",
   "metadata": {},
   "source": [
    "### What is that \"f\" in front of the string??"
   ]
  },
  {
   "cell_type": "markdown",
   "metadata": {},
   "source": [
    "### <font color='red'> print vs. display?</font>"
   ]
  },
  {
   "cell_type": "code",
   "execution_count": 56,
   "metadata": {},
   "outputs": [
    {
     "name": "stdout",
     "output_type": "stream",
     "text": [
      "0.00033679504647385474\n"
     ]
    },
    {
     "data": {
      "text/plain": [
       "0.00033679504647385474"
      ]
     },
     "metadata": {},
     "output_type": "display_data"
    }
   ],
   "source": [
    "print(mean_ret)\n",
    "display(mean_ret)"
   ]
  },
  {
   "cell_type": "markdown",
   "metadata": {},
   "source": [
    "### <font color='red'>Looks the same! </font>"
   ]
  },
  {
   "cell_type": "code",
   "execution_count": 57,
   "metadata": {},
   "outputs": [
    {
     "name": "stdout",
     "output_type": "stream",
     "text": [
      "        Date        Open        High         Low       Close   Adj Close  \\\n",
      "0 2014-09-02  200.970001  201.000000  199.860001  200.610001  181.672318   \n",
      "1 2014-09-03  201.380005  201.410004  200.220001  200.500000  181.572693   \n",
      "2 2014-09-04  200.839996  201.580002  199.660004  200.210007  181.310104   \n",
      "3 2014-09-05  200.169998  201.190002  199.410004  201.110001  182.125122   \n",
      "4 2014-09-08  200.919998  201.210007  200.000000  200.589996  181.654205   \n",
      "\n",
      "      Volume  year    return       std  Close_floor  price_change   return2  \n",
      "0   72426000  2014  0.000000  0.008242   200.610001      0.000000       NaN  \n",
      "1   57462000  2014 -0.000548  0.008242   200.500000     -0.110001 -0.000548  \n",
      "2   85236000  2014 -0.001446  0.008242   200.210007     -0.289993 -0.001446  \n",
      "3  102177000  2014  0.004495  0.008242   201.110001      0.899994  0.004495  \n",
      "4   64146000  2014 -0.002586  0.008242   200.589996     -0.520005 -0.002586  \n"
     ]
    }
   ],
   "source": [
    "print(df1.head())"
   ]
  },
  {
   "cell_type": "markdown",
   "metadata": {},
   "source": [
    "### Where does \"display\" come from?"
   ]
  },
  {
   "cell_type": "code",
   "execution_count": 58,
   "metadata": {
    "scrolled": false
   },
   "outputs": [
    {
     "data": {
      "text/html": [
       "<div>\n",
       "<style scoped>\n",
       "    .dataframe tbody tr th:only-of-type {\n",
       "        vertical-align: middle;\n",
       "    }\n",
       "\n",
       "    .dataframe tbody tr th {\n",
       "        vertical-align: top;\n",
       "    }\n",
       "\n",
       "    .dataframe thead th {\n",
       "        text-align: right;\n",
       "    }\n",
       "</style>\n",
       "<table border=\"1\" class=\"dataframe\">\n",
       "  <thead>\n",
       "    <tr style=\"text-align: right;\">\n",
       "      <th></th>\n",
       "      <th>Date</th>\n",
       "      <th>Open</th>\n",
       "      <th>High</th>\n",
       "      <th>Low</th>\n",
       "      <th>Close</th>\n",
       "      <th>Adj Close</th>\n",
       "      <th>Volume</th>\n",
       "      <th>year</th>\n",
       "      <th>return</th>\n",
       "      <th>std</th>\n",
       "      <th>Close_floor</th>\n",
       "      <th>price_change</th>\n",
       "      <th>return2</th>\n",
       "    </tr>\n",
       "  </thead>\n",
       "  <tbody>\n",
       "    <tr>\n",
       "      <th>0</th>\n",
       "      <td>2014-09-02</td>\n",
       "      <td>200.970001</td>\n",
       "      <td>201.000000</td>\n",
       "      <td>199.860001</td>\n",
       "      <td>200.610001</td>\n",
       "      <td>181.672318</td>\n",
       "      <td>72426000</td>\n",
       "      <td>2014</td>\n",
       "      <td>0.000000</td>\n",
       "      <td>0.008242</td>\n",
       "      <td>200.610001</td>\n",
       "      <td>0.000000</td>\n",
       "      <td>NaN</td>\n",
       "    </tr>\n",
       "    <tr>\n",
       "      <th>1</th>\n",
       "      <td>2014-09-03</td>\n",
       "      <td>201.380005</td>\n",
       "      <td>201.410004</td>\n",
       "      <td>200.220001</td>\n",
       "      <td>200.500000</td>\n",
       "      <td>181.572693</td>\n",
       "      <td>57462000</td>\n",
       "      <td>2014</td>\n",
       "      <td>-0.000548</td>\n",
       "      <td>0.008242</td>\n",
       "      <td>200.500000</td>\n",
       "      <td>-0.110001</td>\n",
       "      <td>-0.000548</td>\n",
       "    </tr>\n",
       "    <tr>\n",
       "      <th>2</th>\n",
       "      <td>2014-09-04</td>\n",
       "      <td>200.839996</td>\n",
       "      <td>201.580002</td>\n",
       "      <td>199.660004</td>\n",
       "      <td>200.210007</td>\n",
       "      <td>181.310104</td>\n",
       "      <td>85236000</td>\n",
       "      <td>2014</td>\n",
       "      <td>-0.001446</td>\n",
       "      <td>0.008242</td>\n",
       "      <td>200.210007</td>\n",
       "      <td>-0.289993</td>\n",
       "      <td>-0.001446</td>\n",
       "    </tr>\n",
       "    <tr>\n",
       "      <th>3</th>\n",
       "      <td>2014-09-05</td>\n",
       "      <td>200.169998</td>\n",
       "      <td>201.190002</td>\n",
       "      <td>199.410004</td>\n",
       "      <td>201.110001</td>\n",
       "      <td>182.125122</td>\n",
       "      <td>102177000</td>\n",
       "      <td>2014</td>\n",
       "      <td>0.004495</td>\n",
       "      <td>0.008242</td>\n",
       "      <td>201.110001</td>\n",
       "      <td>0.899994</td>\n",
       "      <td>0.004495</td>\n",
       "    </tr>\n",
       "    <tr>\n",
       "      <th>4</th>\n",
       "      <td>2014-09-08</td>\n",
       "      <td>200.919998</td>\n",
       "      <td>201.210007</td>\n",
       "      <td>200.000000</td>\n",
       "      <td>200.589996</td>\n",
       "      <td>181.654205</td>\n",
       "      <td>64146000</td>\n",
       "      <td>2014</td>\n",
       "      <td>-0.002586</td>\n",
       "      <td>0.008242</td>\n",
       "      <td>200.589996</td>\n",
       "      <td>-0.520005</td>\n",
       "      <td>-0.002586</td>\n",
       "    </tr>\n",
       "  </tbody>\n",
       "</table>\n",
       "</div>"
      ],
      "text/plain": [
       "        Date        Open        High         Low       Close   Adj Close  \\\n",
       "0 2014-09-02  200.970001  201.000000  199.860001  200.610001  181.672318   \n",
       "1 2014-09-03  201.380005  201.410004  200.220001  200.500000  181.572693   \n",
       "2 2014-09-04  200.839996  201.580002  199.660004  200.210007  181.310104   \n",
       "3 2014-09-05  200.169998  201.190002  199.410004  201.110001  182.125122   \n",
       "4 2014-09-08  200.919998  201.210007  200.000000  200.589996  181.654205   \n",
       "\n",
       "      Volume  year    return       std  Close_floor  price_change   return2  \n",
       "0   72426000  2014  0.000000  0.008242   200.610001      0.000000       NaN  \n",
       "1   57462000  2014 -0.000548  0.008242   200.500000     -0.110001 -0.000548  \n",
       "2   85236000  2014 -0.001446  0.008242   200.210007     -0.289993 -0.001446  \n",
       "3  102177000  2014  0.004495  0.008242   201.110001      0.899994  0.004495  \n",
       "4   64146000  2014 -0.002586  0.008242   200.589996     -0.520005 -0.002586  "
      ]
     },
     "metadata": {},
     "output_type": "display_data"
    }
   ],
   "source": [
    "from IPython.display import display\n",
    "\n",
    "display(df1.head())\n",
    "\n"
   ]
  },
  {
   "cell_type": "markdown",
   "metadata": {},
   "source": [
    "#### In newer versions of Jupyter Notebook, you no longer need to import display"
   ]
  },
  {
   "cell_type": "markdown",
   "metadata": {},
   "source": [
    "### Average daily standard deviation"
   ]
  },
  {
   "cell_type": "code",
   "execution_count": 59,
   "metadata": {},
   "outputs": [
    {
     "name": "stdout",
     "output_type": "stream",
     "text": [
      "0.008637591815752636\n"
     ]
    }
   ],
   "source": [
    "std_ret =  df1['return'].std()\n",
    "print(std_ret)\n",
    "\n"
   ]
  },
  {
   "cell_type": "markdown",
   "metadata": {},
   "source": [
    "### And now, nicely formatted"
   ]
  },
  {
   "cell_type": "code",
   "execution_count": 60,
   "metadata": {},
   "outputs": [
    {
     "name": "stdout",
     "output_type": "stream",
     "text": [
      "Mean return: 0.0337, Std Dev: 0.0086\n"
     ]
    }
   ],
   "source": [
    "\n",
    "print(f'Mean return: {100*mean_ret:.4f}, Std Dev: {std_ret:.4f}')\n",
    "\n",
    "##What if I want to convert to a percentage?"
   ]
  },
  {
   "cell_type": "markdown",
   "metadata": {},
   "source": [
    "### Let's take a detour - histogram of returns\n"
   ]
  },
  {
   "cell_type": "code",
   "execution_count": 61,
   "metadata": {},
   "outputs": [
    {
     "data": {
      "text/plain": [
       " 1.0    0.534551\n",
       "-1.0    0.461477\n",
       " 0.0    0.003971\n",
       "Name: return, dtype: float64"
      ]
     },
     "execution_count": 61,
     "metadata": {},
     "output_type": "execute_result"
    }
   ],
   "source": [
    "import numpy as np\n",
    "df1['return'].apply(np.sign).value_counts()/np.sum(df1['return'].apply(np.sign).value_counts())"
   ]
  },
  {
   "cell_type": "code",
   "execution_count": 62,
   "metadata": {},
   "outputs": [
    {
     "data": {
      "image/png": "[encoded data removed]",
      "text/plain": [
       "<Figure size 720x432 with 1 Axes>"
      ]
     },
     "metadata": {
      "needs_background": "light"
     },
     "output_type": "display_data"
    }
   ],
   "source": [
    "#### %matplotlib inline\n",
    "import numpy as np\n",
    "import matplotlib.pyplot as plt\n",
    "from scipy import stats\n",
    "\n",
    "this_mean = df1['return'].mean()\n",
    "this_median = df1['return'].median()\n",
    "this_skew = stats.skew(df1['return'] )\n",
    "\n",
    "my_bins= np.linspace(-0.05, 0.05, 50)\n",
    "\n",
    "fig,ax = plt.subplots(figsize=(10,6))\n",
    "plt.hist(df1['return'], bins=my_bins)\n",
    "plt.axvline(this_mean, color='black', lw=0.8)\n",
    "plt.axvline(this_median, color='red', lw=0.8)\n",
    "#plt.xlim(-0.005, 0.005)\n",
    "plt.title(f'hist of SPY returns mean={this_mean*1e4:.2f}, median={this_median*1e4:.2f}')\n",
    "plt.grid()\n",
    "plt.savefig('/home/pbatra/spy_hist.png')\n",
    "plt.show()"
   ]
  },
  {
   "cell_type": "markdown",
   "metadata": {},
   "source": [
    "Several things above:\n",
    " - positional and keyword arguments\n",
    " - np.linspace\n",
    " - plt.show\n",
    " - what if we want to save the figure?\n",
    " - titles, legend, size, axes, colors, grids, axis-parallel lines"
   ]
  },
  {
   "cell_type": "markdown",
   "metadata": {},
   "source": [
    "### Distribution looks skewed, is it?"
   ]
  },
  {
   "cell_type": "code",
   "execution_count": 63,
   "metadata": {},
   "outputs": [
    {
     "data": {
      "text/plain": [
       "0.0015017574477240666"
      ]
     },
     "execution_count": 63,
     "metadata": {},
     "output_type": "execute_result"
    }
   ],
   "source": [
    "rnorms = np.random.normal(0, 1.0, 100000)\n",
    "from scipy import stats\n",
    "stats.skew(rnorms)"
   ]
  },
  {
   "cell_type": "code",
   "execution_count": 64,
   "metadata": {},
   "outputs": [
    {
     "data": {
      "text/plain": [
       "-0.4228525710211258"
      ]
     },
     "execution_count": 64,
     "metadata": {},
     "output_type": "execute_result"
    }
   ],
   "source": [
    "stats.skew(df1['return'])"
   ]
  },
  {
   "cell_type": "code",
   "execution_count": 65,
   "metadata": {},
   "outputs": [
    {
     "data": {
      "text/plain": [
       "nan"
      ]
     },
     "execution_count": 65,
     "metadata": {},
     "output_type": "execute_result"
    }
   ],
   "source": [
    "stats.skew(df1['return2'])"
   ]
  },
  {
   "cell_type": "markdown",
   "metadata": {},
   "source": [
    "### Why is my skew NaN! \n",
    "\n",
    " - Negative skew and positive mean?\n",
    " - what does this imply about the mean vs. the median?\n",
    " - do you care about the mean or the median?\n",
    " - sem\n",
    "\n"
   ]
  },
  {
   "cell_type": "markdown",
   "metadata": {},
   "source": [
    "### Let's get back on track"
   ]
  },
  {
   "cell_type": "markdown",
   "metadata": {},
   "source": [
    "### Winsorize"
   ]
  },
  {
   "cell_type": "code",
   "execution_count": 66,
   "metadata": {},
   "outputs": [
    {
     "name": "stdout",
     "output_type": "stream",
     "text": [
      "-0.01445109670807664\n",
      "0.01331348046521716\n"
     ]
    }
   ],
   "source": [
    "ret_05 = df1['return'].quantile(0.05)\n",
    "ret_95 = df1['return'].quantile(0.95)\n",
    "\n",
    "print(ret_05)\n",
    "print(ret_95)"
   ]
  },
  {
   "cell_type": "code",
   "execution_count": 67,
   "metadata": {},
   "outputs": [
    {
     "data": {
      "text/plain": [
       "-0.01445109670807664"
      ]
     },
     "execution_count": 67,
     "metadata": {},
     "output_type": "execute_result"
    }
   ],
   "source": [
    "np.percentile(df1['return'], 5)"
   ]
  },
  {
   "cell_type": "code",
   "execution_count": 68,
   "metadata": {},
   "outputs": [
    {
     "name": "stdout",
     "output_type": "stream",
     "text": [
      "5th percentile: -1.45%, 95th percentile: 1.33\n"
     ]
    }
   ],
   "source": [
    "print(f'5th percentile: {100*ret_05:.2f}%, 95th percentile: {100*ret_95:.2f}')\n",
    "df1['winsorized_return'] = df1['return']\n",
    "\n",
    "df1.loc[ df1['return'] > ret_95, 'winsorized_return' ] = ret_95\n",
    "df1.loc[ df1['return'] < ret_05, 'winsorized_return' ] = ret_05"
   ]
  },
  {
   "cell_type": "code",
   "execution_count": 69,
   "metadata": {},
   "outputs": [
    {
     "name": "stdout",
     "output_type": "stream",
     "text": [
      "Examples of returns winsorized at 95th percentile\n"
     ]
    },
    {
     "data": {
      "text/html": [
       "<div>\n",
       "<style scoped>\n",
       "    .dataframe tbody tr th:only-of-type {\n",
       "        vertical-align: middle;\n",
       "    }\n",
       "\n",
       "    .dataframe tbody tr th {\n",
       "        vertical-align: top;\n",
       "    }\n",
       "\n",
       "    .dataframe thead th {\n",
       "        text-align: right;\n",
       "    }\n",
       "</style>\n",
       "<table border=\"1\" class=\"dataframe\">\n",
       "  <thead>\n",
       "    <tr style=\"text-align: right;\">\n",
       "      <th></th>\n",
       "      <th>Date</th>\n",
       "      <th>Open</th>\n",
       "      <th>High</th>\n",
       "      <th>Low</th>\n",
       "      <th>Close</th>\n",
       "      <th>Adj Close</th>\n",
       "      <th>Volume</th>\n",
       "      <th>year</th>\n",
       "      <th>return</th>\n",
       "      <th>std</th>\n",
       "      <th>Close_floor</th>\n",
       "      <th>price_change</th>\n",
       "      <th>return2</th>\n",
       "      <th>winsorized_return</th>\n",
       "    </tr>\n",
       "  </thead>\n",
       "  <tbody>\n",
       "    <tr>\n",
       "      <th>26</th>\n",
       "      <td>2014-10-08</td>\n",
       "      <td>193.369995</td>\n",
       "      <td>196.919998</td>\n",
       "      <td>192.360001</td>\n",
       "      <td>196.639999</td>\n",
       "      <td>178.909515</td>\n",
       "      <td>186461000</td>\n",
       "      <td>2014</td>\n",
       "      <td>0.017489</td>\n",
       "      <td>0.008242</td>\n",
       "      <td>200.000000</td>\n",
       "      <td>3.380004</td>\n",
       "      <td>0.017489</td>\n",
       "      <td>0.013313</td>\n",
       "    </tr>\n",
       "    <tr>\n",
       "      <th>35</th>\n",
       "      <td>2014-10-21</td>\n",
       "      <td>191.679993</td>\n",
       "      <td>194.199997</td>\n",
       "      <td>191.479996</td>\n",
       "      <td>194.070007</td>\n",
       "      <td>176.571259</td>\n",
       "      <td>154949000</td>\n",
       "      <td>2014</td>\n",
       "      <td>0.019811</td>\n",
       "      <td>0.008242</td>\n",
       "      <td>200.000000</td>\n",
       "      <td>3.770004</td>\n",
       "      <td>0.019811</td>\n",
       "      <td>0.013313</td>\n",
       "    </tr>\n",
       "    <tr>\n",
       "      <th>75</th>\n",
       "      <td>2014-12-17</td>\n",
       "      <td>198.440002</td>\n",
       "      <td>202.339996</td>\n",
       "      <td>198.289993</td>\n",
       "      <td>201.789993</td>\n",
       "      <td>183.595123</td>\n",
       "      <td>253910100</td>\n",
       "      <td>2014</td>\n",
       "      <td>0.019605</td>\n",
       "      <td>0.008242</td>\n",
       "      <td>201.789993</td>\n",
       "      <td>3.879989</td>\n",
       "      <td>0.019605</td>\n",
       "      <td>0.013313</td>\n",
       "    </tr>\n",
       "    <tr>\n",
       "      <th>76</th>\n",
       "      <td>2014-12-18</td>\n",
       "      <td>204.740005</td>\n",
       "      <td>212.970001</td>\n",
       "      <td>203.919998</td>\n",
       "      <td>206.779999</td>\n",
       "      <td>188.135208</td>\n",
       "      <td>257633900</td>\n",
       "      <td>2014</td>\n",
       "      <td>0.024729</td>\n",
       "      <td>0.008242</td>\n",
       "      <td>206.779999</td>\n",
       "      <td>4.990006</td>\n",
       "      <td>0.024729</td>\n",
       "      <td>0.013313</td>\n",
       "    </tr>\n",
       "    <tr>\n",
       "      <th>89</th>\n",
       "      <td>2015-01-08</td>\n",
       "      <td>204.009995</td>\n",
       "      <td>206.160004</td>\n",
       "      <td>203.990005</td>\n",
       "      <td>205.899994</td>\n",
       "      <td>188.368454</td>\n",
       "      <td>147217800</td>\n",
       "      <td>2015</td>\n",
       "      <td>0.017745</td>\n",
       "      <td>0.009721</td>\n",
       "      <td>205.899994</td>\n",
       "      <td>3.589996</td>\n",
       "      <td>0.017745</td>\n",
       "      <td>0.013313</td>\n",
       "    </tr>\n",
       "  </tbody>\n",
       "</table>\n",
       "</div>"
      ],
      "text/plain": [
       "         Date        Open        High         Low       Close   Adj Close  \\\n",
       "26 2014-10-08  193.369995  196.919998  192.360001  196.639999  178.909515   \n",
       "35 2014-10-21  191.679993  194.199997  191.479996  194.070007  176.571259   \n",
       "75 2014-12-17  198.440002  202.339996  198.289993  201.789993  183.595123   \n",
       "76 2014-12-18  204.740005  212.970001  203.919998  206.779999  188.135208   \n",
       "89 2015-01-08  204.009995  206.160004  203.990005  205.899994  188.368454   \n",
       "\n",
       "       Volume  year    return       std  Close_floor  price_change   return2  \\\n",
       "26  186461000  2014  0.017489  0.008242   200.000000      3.380004  0.017489   \n",
       "35  154949000  2014  0.019811  0.008242   200.000000      3.770004  0.019811   \n",
       "75  253910100  2014  0.019605  0.008242   201.789993      3.879989  0.019605   \n",
       "76  257633900  2014  0.024729  0.008242   206.779999      4.990006  0.024729   \n",
       "89  147217800  2015  0.017745  0.009721   205.899994      3.589996  0.017745   \n",
       "\n",
       "    winsorized_return  \n",
       "26           0.013313  \n",
       "35           0.013313  \n",
       "75           0.013313  \n",
       "76           0.013313  \n",
       "89           0.013313  "
      ]
     },
     "metadata": {},
     "output_type": "display_data"
    },
    {
     "name": "stdout",
     "output_type": "stream",
     "text": [
      "Examples of returns winsorized at 5th percentile\n"
     ]
    },
    {
     "data": {
      "text/html": [
       "<div>\n",
       "<style scoped>\n",
       "    .dataframe tbody tr th:only-of-type {\n",
       "        vertical-align: middle;\n",
       "    }\n",
       "\n",
       "    .dataframe tbody tr th {\n",
       "        vertical-align: top;\n",
       "    }\n",
       "\n",
       "    .dataframe thead th {\n",
       "        text-align: right;\n",
       "    }\n",
       "</style>\n",
       "<table border=\"1\" class=\"dataframe\">\n",
       "  <thead>\n",
       "    <tr style=\"text-align: right;\">\n",
       "      <th></th>\n",
       "      <th>Date</th>\n",
       "      <th>Open</th>\n",
       "      <th>High</th>\n",
       "      <th>Low</th>\n",
       "      <th>Close</th>\n",
       "      <th>Adj Close</th>\n",
       "      <th>Volume</th>\n",
       "      <th>year</th>\n",
       "      <th>return</th>\n",
       "      <th>std</th>\n",
       "      <th>Close_floor</th>\n",
       "      <th>price_change</th>\n",
       "      <th>return2</th>\n",
       "      <th>winsorized_return</th>\n",
       "    </tr>\n",
       "  </thead>\n",
       "  <tbody>\n",
       "    <tr>\n",
       "      <th>17</th>\n",
       "      <td>2014-09-25</td>\n",
       "      <td>199.039993</td>\n",
       "      <td>199.050003</td>\n",
       "      <td>196.270004</td>\n",
       "      <td>196.339996</td>\n",
       "      <td>178.636536</td>\n",
       "      <td>150300000</td>\n",
       "      <td>2014</td>\n",
       "      <td>-0.016136</td>\n",
       "      <td>0.008242</td>\n",
       "      <td>200.000000</td>\n",
       "      <td>-3.220002</td>\n",
       "      <td>-0.016136</td>\n",
       "      <td>-0.014451</td>\n",
       "    </tr>\n",
       "    <tr>\n",
       "      <th>25</th>\n",
       "      <td>2014-10-07</td>\n",
       "      <td>195.279999</td>\n",
       "      <td>195.720001</td>\n",
       "      <td>193.220001</td>\n",
       "      <td>193.259995</td>\n",
       "      <td>175.834244</td>\n",
       "      <td>147913000</td>\n",
       "      <td>2014</td>\n",
       "      <td>-0.015436</td>\n",
       "      <td>0.008242</td>\n",
       "      <td>200.000000</td>\n",
       "      <td>-3.029998</td>\n",
       "      <td>-0.015436</td>\n",
       "      <td>-0.014451</td>\n",
       "    </tr>\n",
       "    <tr>\n",
       "      <th>27</th>\n",
       "      <td>2014-10-09</td>\n",
       "      <td>196.330002</td>\n",
       "      <td>196.600006</td>\n",
       "      <td>192.580002</td>\n",
       "      <td>192.740005</td>\n",
       "      <td>175.361160</td>\n",
       "      <td>210705000</td>\n",
       "      <td>2014</td>\n",
       "      <td>-0.019833</td>\n",
       "      <td>0.008242</td>\n",
       "      <td>200.000000</td>\n",
       "      <td>-3.899994</td>\n",
       "      <td>-0.019833</td>\n",
       "      <td>-0.014451</td>\n",
       "    </tr>\n",
       "    <tr>\n",
       "      <th>29</th>\n",
       "      <td>2014-10-13</td>\n",
       "      <td>190.460007</td>\n",
       "      <td>191.149994</td>\n",
       "      <td>187.300003</td>\n",
       "      <td>187.410004</td>\n",
       "      <td>170.511734</td>\n",
       "      <td>230939000</td>\n",
       "      <td>2014</td>\n",
       "      <td>-0.016427</td>\n",
       "      <td>0.008242</td>\n",
       "      <td>200.000000</td>\n",
       "      <td>-3.129989</td>\n",
       "      <td>-0.016427</td>\n",
       "      <td>-0.014451</td>\n",
       "    </tr>\n",
       "    <tr>\n",
       "      <th>70</th>\n",
       "      <td>2014-12-10</td>\n",
       "      <td>205.910004</td>\n",
       "      <td>205.979996</td>\n",
       "      <td>202.929993</td>\n",
       "      <td>203.160004</td>\n",
       "      <td>184.841614</td>\n",
       "      <td>159856400</td>\n",
       "      <td>2014</td>\n",
       "      <td>-0.016031</td>\n",
       "      <td>0.008242</td>\n",
       "      <td>203.160004</td>\n",
       "      <td>-3.309997</td>\n",
       "      <td>-0.016031</td>\n",
       "      <td>-0.014451</td>\n",
       "    </tr>\n",
       "  </tbody>\n",
       "</table>\n",
       "</div>"
      ],
      "text/plain": [
       "         Date        Open        High         Low       Close   Adj Close  \\\n",
       "17 2014-09-25  199.039993  199.050003  196.270004  196.339996  178.636536   \n",
       "25 2014-10-07  195.279999  195.720001  193.220001  193.259995  175.834244   \n",
       "27 2014-10-09  196.330002  196.600006  192.580002  192.740005  175.361160   \n",
       "29 2014-10-13  190.460007  191.149994  187.300003  187.410004  170.511734   \n",
       "70 2014-12-10  205.910004  205.979996  202.929993  203.160004  184.841614   \n",
       "\n",
       "       Volume  year    return       std  Close_floor  price_change   return2  \\\n",
       "17  150300000  2014 -0.016136  0.008242   200.000000     -3.220002 -0.016136   \n",
       "25  147913000  2014 -0.015436  0.008242   200.000000     -3.029998 -0.015436   \n",
       "27  210705000  2014 -0.019833  0.008242   200.000000     -3.899994 -0.019833   \n",
       "29  230939000  2014 -0.016427  0.008242   200.000000     -3.129989 -0.016427   \n",
       "70  159856400  2014 -0.016031  0.008242   203.160004     -3.309997 -0.016031   \n",
       "\n",
       "    winsorized_return  \n",
       "17          -0.014451  \n",
       "25          -0.014451  \n",
       "27          -0.014451  \n",
       "29          -0.014451  \n",
       "70          -0.014451  "
      ]
     },
     "metadata": {},
     "output_type": "display_data"
    },
    {
     "name": "stdout",
     "output_type": "stream",
     "text": [
      "Examples of returns not winsorized, 1133 rows\n"
     ]
    },
    {
     "data": {
      "text/html": [
       "<div>\n",
       "<style scoped>\n",
       "    .dataframe tbody tr th:only-of-type {\n",
       "        vertical-align: middle;\n",
       "    }\n",
       "\n",
       "    .dataframe tbody tr th {\n",
       "        vertical-align: top;\n",
       "    }\n",
       "\n",
       "    .dataframe thead th {\n",
       "        text-align: right;\n",
       "    }\n",
       "</style>\n",
       "<table border=\"1\" class=\"dataframe\">\n",
       "  <thead>\n",
       "    <tr style=\"text-align: right;\">\n",
       "      <th></th>\n",
       "      <th>Date</th>\n",
       "      <th>Open</th>\n",
       "      <th>High</th>\n",
       "      <th>Low</th>\n",
       "      <th>Close</th>\n",
       "      <th>Adj Close</th>\n",
       "      <th>Volume</th>\n",
       "      <th>year</th>\n",
       "      <th>return</th>\n",
       "      <th>std</th>\n",
       "      <th>Close_floor</th>\n",
       "      <th>price_change</th>\n",
       "      <th>return2</th>\n",
       "      <th>winsorized_return</th>\n",
       "    </tr>\n",
       "  </thead>\n",
       "  <tbody>\n",
       "    <tr>\n",
       "      <th>0</th>\n",
       "      <td>2014-09-02</td>\n",
       "      <td>200.970001</td>\n",
       "      <td>201.000000</td>\n",
       "      <td>199.860001</td>\n",
       "      <td>200.610001</td>\n",
       "      <td>181.672318</td>\n",
       "      <td>72426000</td>\n",
       "      <td>2014</td>\n",
       "      <td>0.000000</td>\n",
       "      <td>0.008242</td>\n",
       "      <td>200.610001</td>\n",
       "      <td>0.000000</td>\n",
       "      <td>NaN</td>\n",
       "      <td>0.000000</td>\n",
       "    </tr>\n",
       "    <tr>\n",
       "      <th>1</th>\n",
       "      <td>2014-09-03</td>\n",
       "      <td>201.380005</td>\n",
       "      <td>201.410004</td>\n",
       "      <td>200.220001</td>\n",
       "      <td>200.500000</td>\n",
       "      <td>181.572693</td>\n",
       "      <td>57462000</td>\n",
       "      <td>2014</td>\n",
       "      <td>-0.000548</td>\n",
       "      <td>0.008242</td>\n",
       "      <td>200.500000</td>\n",
       "      <td>-0.110001</td>\n",
       "      <td>-0.000548</td>\n",
       "      <td>-0.000548</td>\n",
       "    </tr>\n",
       "    <tr>\n",
       "      <th>2</th>\n",
       "      <td>2014-09-04</td>\n",
       "      <td>200.839996</td>\n",
       "      <td>201.580002</td>\n",
       "      <td>199.660004</td>\n",
       "      <td>200.210007</td>\n",
       "      <td>181.310104</td>\n",
       "      <td>85236000</td>\n",
       "      <td>2014</td>\n",
       "      <td>-0.001446</td>\n",
       "      <td>0.008242</td>\n",
       "      <td>200.210007</td>\n",
       "      <td>-0.289993</td>\n",
       "      <td>-0.001446</td>\n",
       "      <td>-0.001446</td>\n",
       "    </tr>\n",
       "    <tr>\n",
       "      <th>3</th>\n",
       "      <td>2014-09-05</td>\n",
       "      <td>200.169998</td>\n",
       "      <td>201.190002</td>\n",
       "      <td>199.410004</td>\n",
       "      <td>201.110001</td>\n",
       "      <td>182.125122</td>\n",
       "      <td>102177000</td>\n",
       "      <td>2014</td>\n",
       "      <td>0.004495</td>\n",
       "      <td>0.008242</td>\n",
       "      <td>201.110001</td>\n",
       "      <td>0.899994</td>\n",
       "      <td>0.004495</td>\n",
       "      <td>0.004495</td>\n",
       "    </tr>\n",
       "    <tr>\n",
       "      <th>4</th>\n",
       "      <td>2014-09-08</td>\n",
       "      <td>200.919998</td>\n",
       "      <td>201.210007</td>\n",
       "      <td>200.000000</td>\n",
       "      <td>200.589996</td>\n",
       "      <td>181.654205</td>\n",
       "      <td>64146000</td>\n",
       "      <td>2014</td>\n",
       "      <td>-0.002586</td>\n",
       "      <td>0.008242</td>\n",
       "      <td>200.589996</td>\n",
       "      <td>-0.520005</td>\n",
       "      <td>-0.002586</td>\n",
       "      <td>-0.002586</td>\n",
       "    </tr>\n",
       "  </tbody>\n",
       "</table>\n",
       "</div>"
      ],
      "text/plain": [
       "        Date        Open        High         Low       Close   Adj Close  \\\n",
       "0 2014-09-02  200.970001  201.000000  199.860001  200.610001  181.672318   \n",
       "1 2014-09-03  201.380005  201.410004  200.220001  200.500000  181.572693   \n",
       "2 2014-09-04  200.839996  201.580002  199.660004  200.210007  181.310104   \n",
       "3 2014-09-05  200.169998  201.190002  199.410004  201.110001  182.125122   \n",
       "4 2014-09-08  200.919998  201.210007  200.000000  200.589996  181.654205   \n",
       "\n",
       "      Volume  year    return       std  Close_floor  price_change   return2  \\\n",
       "0   72426000  2014  0.000000  0.008242   200.610001      0.000000       NaN   \n",
       "1   57462000  2014 -0.000548  0.008242   200.500000     -0.110001 -0.000548   \n",
       "2   85236000  2014 -0.001446  0.008242   200.210007     -0.289993 -0.001446   \n",
       "3  102177000  2014  0.004495  0.008242   201.110001      0.899994  0.004495   \n",
       "4   64146000  2014 -0.002586  0.008242   200.589996     -0.520005 -0.002586   \n",
       "\n",
       "   winsorized_return  \n",
       "0           0.000000  \n",
       "1          -0.000548  \n",
       "2          -0.001446  \n",
       "3           0.004495  \n",
       "4          -0.002586  "
      ]
     },
     "metadata": {},
     "output_type": "display_data"
    }
   ],
   "source": [
    "print('Examples of returns winsorized at 95th percentile')\n",
    "display( df1[df1['return']>ret_95].head() )\n",
    "\n",
    "print('Examples of returns winsorized at 5th percentile')\n",
    "display( df1[df1['return']<ret_05].head() )\n",
    "\n",
    "num_non_winsorized = df1[(df1['return']>ret_05) & (df1['return']< ret_95) ].shape[0]\n",
    "print(f'Examples of returns not winsorized, {num_non_winsorized} rows')\n",
    "display( df1[(df1['return']>ret_05) & (df1['return']< ret_95) ].head() )\n"
   ]
  },
  {
   "cell_type": "markdown",
   "metadata": {},
   "source": [
    "### Create a yyyymm column from the date column\n"
   ]
  },
  {
   "cell_type": "code",
   "execution_count": 70,
   "metadata": {},
   "outputs": [],
   "source": [
    "df1['yyyymm'] = df1['Date'].apply(lambda x: int(datetime.datetime.strftime(x, '%Y%m')) )"
   ]
  },
  {
   "cell_type": "code",
   "execution_count": 71,
   "metadata": {},
   "outputs": [
    {
     "data": {
      "text/html": [
       "<div>\n",
       "<style scoped>\n",
       "    .dataframe tbody tr th:only-of-type {\n",
       "        vertical-align: middle;\n",
       "    }\n",
       "\n",
       "    .dataframe tbody tr th {\n",
       "        vertical-align: top;\n",
       "    }\n",
       "\n",
       "    .dataframe thead th {\n",
       "        text-align: right;\n",
       "    }\n",
       "</style>\n",
       "<table border=\"1\" class=\"dataframe\">\n",
       "  <thead>\n",
       "    <tr style=\"text-align: right;\">\n",
       "      <th></th>\n",
       "      <th>Date</th>\n",
       "      <th>Open</th>\n",
       "      <th>High</th>\n",
       "      <th>Low</th>\n",
       "      <th>Close</th>\n",
       "      <th>Adj Close</th>\n",
       "      <th>Volume</th>\n",
       "      <th>year</th>\n",
       "      <th>return</th>\n",
       "      <th>std</th>\n",
       "      <th>Close_floor</th>\n",
       "      <th>price_change</th>\n",
       "      <th>return2</th>\n",
       "      <th>winsorized_return</th>\n",
       "      <th>yyyymm</th>\n",
       "    </tr>\n",
       "  </thead>\n",
       "  <tbody>\n",
       "    <tr>\n",
       "      <th>0</th>\n",
       "      <td>2014-09-02</td>\n",
       "      <td>200.970001</td>\n",
       "      <td>201.000000</td>\n",
       "      <td>199.860001</td>\n",
       "      <td>200.610001</td>\n",
       "      <td>181.672318</td>\n",
       "      <td>72426000</td>\n",
       "      <td>2014</td>\n",
       "      <td>0.000000</td>\n",
       "      <td>0.008242</td>\n",
       "      <td>200.610001</td>\n",
       "      <td>0.000000</td>\n",
       "      <td>NaN</td>\n",
       "      <td>0.000000</td>\n",
       "      <td>201409</td>\n",
       "    </tr>\n",
       "    <tr>\n",
       "      <th>1</th>\n",
       "      <td>2014-09-03</td>\n",
       "      <td>201.380005</td>\n",
       "      <td>201.410004</td>\n",
       "      <td>200.220001</td>\n",
       "      <td>200.500000</td>\n",
       "      <td>181.572693</td>\n",
       "      <td>57462000</td>\n",
       "      <td>2014</td>\n",
       "      <td>-0.000548</td>\n",
       "      <td>0.008242</td>\n",
       "      <td>200.500000</td>\n",
       "      <td>-0.110001</td>\n",
       "      <td>-0.000548</td>\n",
       "      <td>-0.000548</td>\n",
       "      <td>201409</td>\n",
       "    </tr>\n",
       "    <tr>\n",
       "      <th>2</th>\n",
       "      <td>2014-09-04</td>\n",
       "      <td>200.839996</td>\n",
       "      <td>201.580002</td>\n",
       "      <td>199.660004</td>\n",
       "      <td>200.210007</td>\n",
       "      <td>181.310104</td>\n",
       "      <td>85236000</td>\n",
       "      <td>2014</td>\n",
       "      <td>-0.001446</td>\n",
       "      <td>0.008242</td>\n",
       "      <td>200.210007</td>\n",
       "      <td>-0.289993</td>\n",
       "      <td>-0.001446</td>\n",
       "      <td>-0.001446</td>\n",
       "      <td>201409</td>\n",
       "    </tr>\n",
       "    <tr>\n",
       "      <th>3</th>\n",
       "      <td>2014-09-05</td>\n",
       "      <td>200.169998</td>\n",
       "      <td>201.190002</td>\n",
       "      <td>199.410004</td>\n",
       "      <td>201.110001</td>\n",
       "      <td>182.125122</td>\n",
       "      <td>102177000</td>\n",
       "      <td>2014</td>\n",
       "      <td>0.004495</td>\n",
       "      <td>0.008242</td>\n",
       "      <td>201.110001</td>\n",
       "      <td>0.899994</td>\n",
       "      <td>0.004495</td>\n",
       "      <td>0.004495</td>\n",
       "      <td>201409</td>\n",
       "    </tr>\n",
       "    <tr>\n",
       "      <th>4</th>\n",
       "      <td>2014-09-08</td>\n",
       "      <td>200.919998</td>\n",
       "      <td>201.210007</td>\n",
       "      <td>200.000000</td>\n",
       "      <td>200.589996</td>\n",
       "      <td>181.654205</td>\n",
       "      <td>64146000</td>\n",
       "      <td>2014</td>\n",
       "      <td>-0.002586</td>\n",
       "      <td>0.008242</td>\n",
       "      <td>200.589996</td>\n",
       "      <td>-0.520005</td>\n",
       "      <td>-0.002586</td>\n",
       "      <td>-0.002586</td>\n",
       "      <td>201409</td>\n",
       "    </tr>\n",
       "  </tbody>\n",
       "</table>\n",
       "</div>"
      ],
      "text/plain": [
       "        Date        Open        High         Low       Close   Adj Close  \\\n",
       "0 2014-09-02  200.970001  201.000000  199.860001  200.610001  181.672318   \n",
       "1 2014-09-03  201.380005  201.410004  200.220001  200.500000  181.572693   \n",
       "2 2014-09-04  200.839996  201.580002  199.660004  200.210007  181.310104   \n",
       "3 2014-09-05  200.169998  201.190002  199.410004  201.110001  182.125122   \n",
       "4 2014-09-08  200.919998  201.210007  200.000000  200.589996  181.654205   \n",
       "\n",
       "      Volume  year    return       std  Close_floor  price_change   return2  \\\n",
       "0   72426000  2014  0.000000  0.008242   200.610001      0.000000       NaN   \n",
       "1   57462000  2014 -0.000548  0.008242   200.500000     -0.110001 -0.000548   \n",
       "2   85236000  2014 -0.001446  0.008242   200.210007     -0.289993 -0.001446   \n",
       "3  102177000  2014  0.004495  0.008242   201.110001      0.899994  0.004495   \n",
       "4   64146000  2014 -0.002586  0.008242   200.589996     -0.520005 -0.002586   \n",
       "\n",
       "   winsorized_return  yyyymm  \n",
       "0           0.000000  201409  \n",
       "1          -0.000548  201409  \n",
       "2          -0.001446  201409  \n",
       "3           0.004495  201409  \n",
       "4          -0.002586  201409  "
      ]
     },
     "execution_count": 71,
     "metadata": {},
     "output_type": "execute_result"
    }
   ],
   "source": [
    "df1.head()"
   ]
  },
  {
   "cell_type": "markdown",
   "metadata": {},
   "source": [
    "### <font color='red'> Why int? </font>"
   ]
  },
  {
   "cell_type": "markdown",
   "metadata": {},
   "source": [
    "Use groupby to create a sum of return values per month (these are roughly monthly returns, but not quite) assigned to a new dataframe. Which month in the data period had the worst return and how much and which month had the best return and how much? Find the worst and the best by using pandas methods, not by manually looking at the returns.\n"
   ]
  },
  {
   "cell_type": "code",
   "execution_count": 72,
   "metadata": {},
   "outputs": [],
   "source": [
    "monthly_returns = df1[['yyyymm','winsorized_return']].groupby('yyyymm').sum()"
   ]
  },
  {
   "cell_type": "code",
   "execution_count": 73,
   "metadata": {},
   "outputs": [
    {
     "data": {
      "text/html": [
       "<div>\n",
       "<style scoped>\n",
       "    .dataframe tbody tr th:only-of-type {\n",
       "        vertical-align: middle;\n",
       "    }\n",
       "\n",
       "    .dataframe tbody tr th {\n",
       "        vertical-align: top;\n",
       "    }\n",
       "\n",
       "    .dataframe thead th {\n",
       "        text-align: right;\n",
       "    }\n",
       "</style>\n",
       "<table border=\"1\" class=\"dataframe\">\n",
       "  <thead>\n",
       "    <tr style=\"text-align: right;\">\n",
       "      <th></th>\n",
       "      <th>winsorized_return</th>\n",
       "    </tr>\n",
       "    <tr>\n",
       "      <th>yyyymm</th>\n",
       "      <th></th>\n",
       "    </tr>\n",
       "  </thead>\n",
       "  <tbody>\n",
       "    <tr>\n",
       "      <th>201811</th>\n",
       "      <td>0.009901</td>\n",
       "    </tr>\n",
       "    <tr>\n",
       "      <th>201812</th>\n",
       "      <td>-0.069701</td>\n",
       "    </tr>\n",
       "    <tr>\n",
       "      <th>201901</th>\n",
       "      <td>0.065190</td>\n",
       "    </tr>\n",
       "    <tr>\n",
       "      <th>201902</th>\n",
       "      <td>0.032163</td>\n",
       "    </tr>\n",
       "    <tr>\n",
       "      <th>201903</th>\n",
       "      <td>0.017698</td>\n",
       "    </tr>\n",
       "    <tr>\n",
       "      <th>201904</th>\n",
       "      <td>0.040229</td>\n",
       "    </tr>\n",
       "    <tr>\n",
       "      <th>201905</th>\n",
       "      <td>-0.051973</td>\n",
       "    </tr>\n",
       "    <tr>\n",
       "      <th>201906</th>\n",
       "      <td>0.054583</td>\n",
       "    </tr>\n",
       "    <tr>\n",
       "      <th>201907</th>\n",
       "      <td>0.015312</td>\n",
       "    </tr>\n",
       "    <tr>\n",
       "      <th>201908</th>\n",
       "      <td>0.016629</td>\n",
       "    </tr>\n",
       "  </tbody>\n",
       "</table>\n",
       "</div>"
      ],
      "text/plain": [
       "        winsorized_return\n",
       "yyyymm                   \n",
       "201811           0.009901\n",
       "201812          -0.069701\n",
       "201901           0.065190\n",
       "201902           0.032163\n",
       "201903           0.017698\n",
       "201904           0.040229\n",
       "201905          -0.051973\n",
       "201906           0.054583\n",
       "201907           0.015312\n",
       "201908           0.016629"
      ]
     },
     "execution_count": 73,
     "metadata": {},
     "output_type": "execute_result"
    }
   ],
   "source": [
    "monthly_returns.tail(10)"
   ]
  },
  {
   "cell_type": "code",
   "execution_count": 74,
   "metadata": {},
   "outputs": [],
   "source": [
    "#pd.set_option('precision', 8)"
   ]
  },
  {
   "cell_type": "markdown",
   "metadata": {},
   "source": [
    "- what are those double brackets?\n",
    "- iloc, loc?\n",
    "- index?\n",
    "\n",
    "\n",
    "<a href='https://pandas.pydata.org/pandas-docs/stable/user_guide/options.html'>pandas options</a>"
   ]
  },
  {
   "cell_type": "markdown",
   "metadata": {},
   "source": [
    "## Best and worst months"
   ]
  },
  {
   "cell_type": "code",
   "execution_count": 75,
   "metadata": {},
   "outputs": [
    {
     "data": {
      "text/plain": [
       "0.07071677478477276"
      ]
     },
     "execution_count": 75,
     "metadata": {},
     "output_type": "execute_result"
    }
   ],
   "source": [
    "\n",
    "monthly_returns['winsorized_return'].max()"
   ]
  },
  {
   "cell_type": "code",
   "execution_count": 76,
   "metadata": {},
   "outputs": [
    {
     "data": {
      "text/plain": [
       "-0.06970073895016393"
      ]
     },
     "execution_count": 76,
     "metadata": {},
     "output_type": "execute_result"
    }
   ],
   "source": [
    "\n",
    "monthly_returns['winsorized_return'].min()"
   ]
  },
  {
   "cell_type": "markdown",
   "metadata": {},
   "source": [
    "### But we want to know which month"
   ]
  },
  {
   "cell_type": "code",
   "execution_count": 77,
   "metadata": {},
   "outputs": [
    {
     "data": {
      "text/plain": [
       "201510"
      ]
     },
     "execution_count": 77,
     "metadata": {},
     "output_type": "execute_result"
    }
   ],
   "source": [
    "monthly_returns['winsorized_return'].idxmax()"
   ]
  },
  {
   "cell_type": "code",
   "execution_count": 78,
   "metadata": {},
   "outputs": [
    {
     "data": {
      "text/html": [
       "<div>\n",
       "<style scoped>\n",
       "    .dataframe tbody tr th:only-of-type {\n",
       "        vertical-align: middle;\n",
       "    }\n",
       "\n",
       "    .dataframe tbody tr th {\n",
       "        vertical-align: top;\n",
       "    }\n",
       "\n",
       "    .dataframe thead th {\n",
       "        text-align: right;\n",
       "    }\n",
       "</style>\n",
       "<table border=\"1\" class=\"dataframe\">\n",
       "  <thead>\n",
       "    <tr style=\"text-align: right;\">\n",
       "      <th></th>\n",
       "      <th>winsorized_return</th>\n",
       "    </tr>\n",
       "    <tr>\n",
       "      <th>yyyymm</th>\n",
       "      <th></th>\n",
       "    </tr>\n",
       "  </thead>\n",
       "  <tbody>\n",
       "    <tr>\n",
       "      <th>201510</th>\n",
       "      <td>0.070717</td>\n",
       "    </tr>\n",
       "  </tbody>\n",
       "</table>\n",
       "</div>"
      ],
      "text/plain": [
       "        winsorized_return\n",
       "yyyymm                   \n",
       "201510           0.070717"
      ]
     },
     "metadata": {},
     "output_type": "display_data"
    }
   ],
   "source": [
    "display( monthly_returns.loc[ [monthly_returns['winsorized_return'].idxmax() ]] )"
   ]
  },
  {
   "cell_type": "code",
   "execution_count": 79,
   "metadata": {},
   "outputs": [
    {
     "data": {
      "text/html": [
       "<div>\n",
       "<style scoped>\n",
       "    .dataframe tbody tr th:only-of-type {\n",
       "        vertical-align: middle;\n",
       "    }\n",
       "\n",
       "    .dataframe tbody tr th {\n",
       "        vertical-align: top;\n",
       "    }\n",
       "\n",
       "    .dataframe thead th {\n",
       "        text-align: right;\n",
       "    }\n",
       "</style>\n",
       "<table border=\"1\" class=\"dataframe\">\n",
       "  <thead>\n",
       "    <tr style=\"text-align: right;\">\n",
       "      <th></th>\n",
       "      <th>winsorized_return</th>\n",
       "    </tr>\n",
       "    <tr>\n",
       "      <th>yyyymm</th>\n",
       "      <th></th>\n",
       "    </tr>\n",
       "  </thead>\n",
       "  <tbody>\n",
       "    <tr>\n",
       "      <th>201812</th>\n",
       "      <td>-0.069701</td>\n",
       "    </tr>\n",
       "  </tbody>\n",
       "</table>\n",
       "</div>"
      ],
      "text/plain": [
       "        winsorized_return\n",
       "yyyymm                   \n",
       "201812          -0.069701"
      ]
     },
     "metadata": {},
     "output_type": "display_data"
    }
   ],
   "source": [
    "display( monthly_returns.loc[ [monthly_returns['winsorized_return'].idxmin()] ] )"
   ]
  },
  {
   "cell_type": "markdown",
   "metadata": {},
   "source": [
    "### Why is display not formatting this nicely??"
   ]
  },
  {
   "cell_type": "code",
   "execution_count": 80,
   "metadata": {},
   "outputs": [
    {
     "data": {
      "text/html": [
       "<div>\n",
       "<style scoped>\n",
       "    .dataframe tbody tr th:only-of-type {\n",
       "        vertical-align: middle;\n",
       "    }\n",
       "\n",
       "    .dataframe tbody tr th {\n",
       "        vertical-align: top;\n",
       "    }\n",
       "\n",
       "    .dataframe thead th {\n",
       "        text-align: right;\n",
       "    }\n",
       "</style>\n",
       "<table border=\"1\" class=\"dataframe\">\n",
       "  <thead>\n",
       "    <tr style=\"text-align: right;\">\n",
       "      <th></th>\n",
       "      <th>winsorized_return</th>\n",
       "    </tr>\n",
       "    <tr>\n",
       "      <th>yyyymm</th>\n",
       "      <th></th>\n",
       "    </tr>\n",
       "  </thead>\n",
       "  <tbody>\n",
       "    <tr>\n",
       "      <th>201812</th>\n",
       "      <td>-0.069701</td>\n",
       "    </tr>\n",
       "    <tr>\n",
       "      <th>201510</th>\n",
       "      <td>0.070717</td>\n",
       "    </tr>\n",
       "  </tbody>\n",
       "</table>\n",
       "</div>"
      ],
      "text/plain": [
       "        winsorized_return\n",
       "yyyymm                   \n",
       "201812          -0.069701\n",
       "201510           0.070717"
      ]
     },
     "metadata": {},
     "output_type": "display_data"
    }
   ],
   "source": [
    "display( monthly_returns.loc[ \n",
    "    [ monthly_returns['winsorized_return'].idxmin(), monthly_returns['winsorized_return'].idxmax() ] \n",
    "         ] )"
   ]
  },
  {
   "cell_type": "markdown",
   "metadata": {},
   "source": [
    "### LYFT"
   ]
  },
  {
   "cell_type": "code",
   "execution_count": 81,
   "metadata": {},
   "outputs": [],
   "source": [
    "df2 = pd.read_csv(f'{datadir}/LYFT.csv', parse_dates=['Date'])"
   ]
  },
  {
   "cell_type": "code",
   "execution_count": 82,
   "metadata": {},
   "outputs": [
    {
     "name": "stdout",
     "output_type": "stream",
     "text": [
      "LYFT: 108 rows, SPY: 1259 rows\n"
     ]
    }
   ],
   "source": [
    "\n",
    "print(f'LYFT: {df2.shape[0]} rows, SPY: {df1.shape[0]} rows')"
   ]
  },
  {
   "cell_type": "markdown",
   "metadata": {},
   "source": [
    "### Calculate the return"
   ]
  },
  {
   "cell_type": "code",
   "execution_count": 83,
   "metadata": {},
   "outputs": [],
   "source": [
    "df2['price_change']  = df2['Close'].diff()\n",
    "df2['return'] = (df2['price_change'] / df2['Close'].shift(1)).fillna(0)\n"
   ]
  },
  {
   "cell_type": "code",
   "execution_count": 84,
   "metadata": {},
   "outputs": [
    {
     "data": {
      "text/html": [
       "<div>\n",
       "<style scoped>\n",
       "    .dataframe tbody tr th:only-of-type {\n",
       "        vertical-align: middle;\n",
       "    }\n",
       "\n",
       "    .dataframe tbody tr th {\n",
       "        vertical-align: top;\n",
       "    }\n",
       "\n",
       "    .dataframe thead th {\n",
       "        text-align: right;\n",
       "    }\n",
       "</style>\n",
       "<table border=\"1\" class=\"dataframe\">\n",
       "  <thead>\n",
       "    <tr style=\"text-align: right;\">\n",
       "      <th></th>\n",
       "      <th>Date</th>\n",
       "      <th>Open</th>\n",
       "      <th>High</th>\n",
       "      <th>Low</th>\n",
       "      <th>Close</th>\n",
       "      <th>Adj Close</th>\n",
       "      <th>Volume</th>\n",
       "      <th>price_change</th>\n",
       "      <th>return</th>\n",
       "    </tr>\n",
       "  </thead>\n",
       "  <tbody>\n",
       "    <tr>\n",
       "      <th>0</th>\n",
       "      <td>2019-03-29</td>\n",
       "      <td>87.330002</td>\n",
       "      <td>88.599998</td>\n",
       "      <td>78.019997</td>\n",
       "      <td>78.290001</td>\n",
       "      <td>78.290001</td>\n",
       "      <td>71485200</td>\n",
       "      <td>NaN</td>\n",
       "      <td>0.000000</td>\n",
       "    </tr>\n",
       "    <tr>\n",
       "      <th>1</th>\n",
       "      <td>2019-04-01</td>\n",
       "      <td>74.900002</td>\n",
       "      <td>75.000000</td>\n",
       "      <td>67.779999</td>\n",
       "      <td>69.010002</td>\n",
       "      <td>69.010002</td>\n",
       "      <td>41799300</td>\n",
       "      <td>-9.279999</td>\n",
       "      <td>-0.118534</td>\n",
       "    </tr>\n",
       "    <tr>\n",
       "      <th>2</th>\n",
       "      <td>2019-04-02</td>\n",
       "      <td>66.900002</td>\n",
       "      <td>70.199997</td>\n",
       "      <td>66.099998</td>\n",
       "      <td>68.970001</td>\n",
       "      <td>68.970001</td>\n",
       "      <td>22483300</td>\n",
       "      <td>-0.040001</td>\n",
       "      <td>-0.000580</td>\n",
       "    </tr>\n",
       "    <tr>\n",
       "      <th>3</th>\n",
       "      <td>2019-04-03</td>\n",
       "      <td>70.059998</td>\n",
       "      <td>72.000000</td>\n",
       "      <td>69.120003</td>\n",
       "      <td>70.000000</td>\n",
       "      <td>70.000000</td>\n",
       "      <td>15648300</td>\n",
       "      <td>1.029999</td>\n",
       "      <td>0.014934</td>\n",
       "    </tr>\n",
       "    <tr>\n",
       "      <th>4</th>\n",
       "      <td>2019-04-04</td>\n",
       "      <td>70.480003</td>\n",
       "      <td>72.889999</td>\n",
       "      <td>70.220001</td>\n",
       "      <td>72.000000</td>\n",
       "      <td>72.000000</td>\n",
       "      <td>9229300</td>\n",
       "      <td>2.000000</td>\n",
       "      <td>0.028571</td>\n",
       "    </tr>\n",
       "  </tbody>\n",
       "</table>\n",
       "</div>"
      ],
      "text/plain": [
       "        Date       Open       High        Low      Close  Adj Close    Volume  \\\n",
       "0 2019-03-29  87.330002  88.599998  78.019997  78.290001  78.290001  71485200   \n",
       "1 2019-04-01  74.900002  75.000000  67.779999  69.010002  69.010002  41799300   \n",
       "2 2019-04-02  66.900002  70.199997  66.099998  68.970001  68.970001  22483300   \n",
       "3 2019-04-03  70.059998  72.000000  69.120003  70.000000  70.000000  15648300   \n",
       "4 2019-04-04  70.480003  72.889999  70.220001  72.000000  72.000000   9229300   \n",
       "\n",
       "   price_change    return  \n",
       "0           NaN  0.000000  \n",
       "1     -9.279999 -0.118534  \n",
       "2     -0.040001 -0.000580  \n",
       "3      1.029999  0.014934  \n",
       "4      2.000000  0.028571  "
      ]
     },
     "execution_count": 84,
     "metadata": {},
     "output_type": "execute_result"
    }
   ],
   "source": [
    "df2.head()"
   ]
  },
  {
   "cell_type": "markdown",
   "metadata": {},
   "source": [
    "### This copying and pasting of code is repetitive and error-prone. Let's make it a method?\n",
    "\n",
    "- Value/reference"
   ]
  },
  {
   "cell_type": "code",
   "execution_count": 85,
   "metadata": {},
   "outputs": [
    {
     "data": {
      "text/html": [
       "<div>\n",
       "<style scoped>\n",
       "    .dataframe tbody tr th:only-of-type {\n",
       "        vertical-align: middle;\n",
       "    }\n",
       "\n",
       "    .dataframe tbody tr th {\n",
       "        vertical-align: top;\n",
       "    }\n",
       "\n",
       "    .dataframe thead th {\n",
       "        text-align: right;\n",
       "    }\n",
       "</style>\n",
       "<table border=\"1\" class=\"dataframe\">\n",
       "  <thead>\n",
       "    <tr style=\"text-align: right;\">\n",
       "      <th></th>\n",
       "      <th>Date</th>\n",
       "      <th>Open</th>\n",
       "      <th>High</th>\n",
       "      <th>Low</th>\n",
       "      <th>Close</th>\n",
       "      <th>Adj Close</th>\n",
       "      <th>Volume</th>\n",
       "      <th>price_change</th>\n",
       "      <th>return</th>\n",
       "    </tr>\n",
       "  </thead>\n",
       "  <tbody>\n",
       "    <tr>\n",
       "      <th>0</th>\n",
       "      <td>2019-03-29</td>\n",
       "      <td>87.330002</td>\n",
       "      <td>88.599998</td>\n",
       "      <td>78.019997</td>\n",
       "      <td>78.290001</td>\n",
       "      <td>78.290001</td>\n",
       "      <td>71485200</td>\n",
       "      <td>NaN</td>\n",
       "      <td>0.000000</td>\n",
       "    </tr>\n",
       "    <tr>\n",
       "      <th>1</th>\n",
       "      <td>2019-04-01</td>\n",
       "      <td>74.900002</td>\n",
       "      <td>75.000000</td>\n",
       "      <td>67.779999</td>\n",
       "      <td>69.010002</td>\n",
       "      <td>69.010002</td>\n",
       "      <td>41799300</td>\n",
       "      <td>-9.279999</td>\n",
       "      <td>-0.118534</td>\n",
       "    </tr>\n",
       "    <tr>\n",
       "      <th>2</th>\n",
       "      <td>2019-04-02</td>\n",
       "      <td>66.900002</td>\n",
       "      <td>70.199997</td>\n",
       "      <td>66.099998</td>\n",
       "      <td>68.970001</td>\n",
       "      <td>68.970001</td>\n",
       "      <td>22483300</td>\n",
       "      <td>-0.040001</td>\n",
       "      <td>-0.000580</td>\n",
       "    </tr>\n",
       "    <tr>\n",
       "      <th>3</th>\n",
       "      <td>2019-04-03</td>\n",
       "      <td>70.059998</td>\n",
       "      <td>72.000000</td>\n",
       "      <td>69.120003</td>\n",
       "      <td>70.000000</td>\n",
       "      <td>70.000000</td>\n",
       "      <td>15648300</td>\n",
       "      <td>1.029999</td>\n",
       "      <td>0.014934</td>\n",
       "    </tr>\n",
       "    <tr>\n",
       "      <th>4</th>\n",
       "      <td>2019-04-04</td>\n",
       "      <td>70.480003</td>\n",
       "      <td>72.889999</td>\n",
       "      <td>70.220001</td>\n",
       "      <td>72.000000</td>\n",
       "      <td>72.000000</td>\n",
       "      <td>9229300</td>\n",
       "      <td>2.000000</td>\n",
       "      <td>0.028571</td>\n",
       "    </tr>\n",
       "  </tbody>\n",
       "</table>\n",
       "</div>"
      ],
      "text/plain": [
       "        Date       Open       High        Low      Close  Adj Close    Volume  \\\n",
       "0 2019-03-29  87.330002  88.599998  78.019997  78.290001  78.290001  71485200   \n",
       "1 2019-04-01  74.900002  75.000000  67.779999  69.010002  69.010002  41799300   \n",
       "2 2019-04-02  66.900002  70.199997  66.099998  68.970001  68.970001  22483300   \n",
       "3 2019-04-03  70.059998  72.000000  69.120003  70.000000  70.000000  15648300   \n",
       "4 2019-04-04  70.480003  72.889999  70.220001  72.000000  72.000000   9229300   \n",
       "\n",
       "   price_change    return  \n",
       "0           NaN  0.000000  \n",
       "1     -9.279999 -0.118534  \n",
       "2     -0.040001 -0.000580  \n",
       "3      1.029999  0.014934  \n",
       "4      2.000000  0.028571  "
      ]
     },
     "execution_count": 85,
     "metadata": {},
     "output_type": "execute_result"
    }
   ],
   "source": [
    "def make_zeros(df, col):\n",
    "    my_new_df = df.copy()\n",
    "    my_new_df[col] = 0.0\n",
    "    return my_new_df\n",
    "\n",
    "blah = make_zeros(df2, 'Open')\n",
    "\n",
    "df2.head()\n"
   ]
  },
  {
   "cell_type": "markdown",
   "metadata": {},
   "source": [
    "## Let's merge!"
   ]
  },
  {
   "cell_type": "code",
   "execution_count": 86,
   "metadata": {},
   "outputs": [],
   "source": [
    "merged_df = df1[['Date','return']].merge(df2[['Date','return']], how='inner', left_on='Date', right_on='Date', suffixes=('_SPY','_LYFT'))"
   ]
  },
  {
   "cell_type": "code",
   "execution_count": 87,
   "metadata": {},
   "outputs": [
    {
     "data": {
      "text/html": [
       "<div>\n",
       "<style scoped>\n",
       "    .dataframe tbody tr th:only-of-type {\n",
       "        vertical-align: middle;\n",
       "    }\n",
       "\n",
       "    .dataframe tbody tr th {\n",
       "        vertical-align: top;\n",
       "    }\n",
       "\n",
       "    .dataframe thead th {\n",
       "        text-align: right;\n",
       "    }\n",
       "</style>\n",
       "<table border=\"1\" class=\"dataframe\">\n",
       "  <thead>\n",
       "    <tr style=\"text-align: right;\">\n",
       "      <th></th>\n",
       "      <th>Date</th>\n",
       "      <th>return_SPY</th>\n",
       "      <th>return_LYFT</th>\n",
       "    </tr>\n",
       "  </thead>\n",
       "  <tbody>\n",
       "    <tr>\n",
       "      <th>0</th>\n",
       "      <td>2019-03-29</td>\n",
       "      <td>0.006306</td>\n",
       "      <td>0.000000</td>\n",
       "    </tr>\n",
       "    <tr>\n",
       "      <th>1</th>\n",
       "      <td>2019-04-01</td>\n",
       "      <td>0.011859</td>\n",
       "      <td>-0.118534</td>\n",
       "    </tr>\n",
       "    <tr>\n",
       "      <th>2</th>\n",
       "      <td>2019-04-02</td>\n",
       "      <td>0.000490</td>\n",
       "      <td>-0.000580</td>\n",
       "    </tr>\n",
       "    <tr>\n",
       "      <th>3</th>\n",
       "      <td>2019-04-03</td>\n",
       "      <td>0.001574</td>\n",
       "      <td>0.014934</td>\n",
       "    </tr>\n",
       "    <tr>\n",
       "      <th>4</th>\n",
       "      <td>2019-04-04</td>\n",
       "      <td>0.002653</td>\n",
       "      <td>0.028571</td>\n",
       "    </tr>\n",
       "  </tbody>\n",
       "</table>\n",
       "</div>"
      ],
      "text/plain": [
       "        Date  return_SPY  return_LYFT\n",
       "0 2019-03-29    0.006306     0.000000\n",
       "1 2019-04-01    0.011859    -0.118534\n",
       "2 2019-04-02    0.000490    -0.000580\n",
       "3 2019-04-03    0.001574     0.014934\n",
       "4 2019-04-04    0.002653     0.028571"
      ]
     },
     "execution_count": 87,
     "metadata": {},
     "output_type": "execute_result"
    }
   ],
   "source": [
    "merged_df.head()"
   ]
  },
  {
   "cell_type": "markdown",
   "metadata": {},
   "source": [
    "### <font color='red'> How many rows do you expect this to have? </red>"
   ]
  },
  {
   "cell_type": "code",
   "execution_count": 88,
   "metadata": {},
   "outputs": [
    {
     "data": {
      "text/html": [
       "<div>\n",
       "<style scoped>\n",
       "    .dataframe tbody tr th:only-of-type {\n",
       "        vertical-align: middle;\n",
       "    }\n",
       "\n",
       "    .dataframe tbody tr th {\n",
       "        vertical-align: top;\n",
       "    }\n",
       "\n",
       "    .dataframe thead th {\n",
       "        text-align: right;\n",
       "    }\n",
       "</style>\n",
       "<table border=\"1\" class=\"dataframe\">\n",
       "  <thead>\n",
       "    <tr style=\"text-align: right;\">\n",
       "      <th></th>\n",
       "      <th>Date</th>\n",
       "      <th>return_SPY</th>\n",
       "      <th>return_LYFT</th>\n",
       "    </tr>\n",
       "  </thead>\n",
       "  <tbody>\n",
       "    <tr>\n",
       "      <th>0</th>\n",
       "      <td>2019-03-29</td>\n",
       "      <td>0.006306</td>\n",
       "      <td>0.000000</td>\n",
       "    </tr>\n",
       "    <tr>\n",
       "      <th>1</th>\n",
       "      <td>2019-04-01</td>\n",
       "      <td>0.011859</td>\n",
       "      <td>-0.118534</td>\n",
       "    </tr>\n",
       "    <tr>\n",
       "      <th>2</th>\n",
       "      <td>2019-04-02</td>\n",
       "      <td>0.000490</td>\n",
       "      <td>-0.000580</td>\n",
       "    </tr>\n",
       "    <tr>\n",
       "      <th>3</th>\n",
       "      <td>2019-04-03</td>\n",
       "      <td>0.001574</td>\n",
       "      <td>0.014934</td>\n",
       "    </tr>\n",
       "    <tr>\n",
       "      <th>4</th>\n",
       "      <td>2019-04-04</td>\n",
       "      <td>0.002653</td>\n",
       "      <td>0.028571</td>\n",
       "    </tr>\n",
       "  </tbody>\n",
       "</table>\n",
       "</div>"
      ],
      "text/plain": [
       "        Date  return_SPY  return_LYFT\n",
       "0 2019-03-29    0.006306     0.000000\n",
       "1 2019-04-01    0.011859    -0.118534\n",
       "2 2019-04-02    0.000490    -0.000580\n",
       "3 2019-04-03    0.001574     0.014934\n",
       "4 2019-04-04    0.002653     0.028571"
      ]
     },
     "execution_count": 88,
     "metadata": {},
     "output_type": "execute_result"
    }
   ],
   "source": [
    "merged_df.head()"
   ]
  },
  {
   "cell_type": "markdown",
   "metadata": {},
   "source": [
    "### <font color='red'> What are those x's and y's? How can we clean it up </red>"
   ]
  },
  {
   "cell_type": "markdown",
   "metadata": {},
   "source": [
    "## Union"
   ]
  },
  {
   "cell_type": "code",
   "execution_count": 89,
   "metadata": {},
   "outputs": [],
   "source": [
    "merged_df_union = df1.merge(df2, how='outer', on='Date')"
   ]
  },
  {
   "cell_type": "markdown",
   "metadata": {},
   "source": [
    "### <font color='red'> How many rows do you expect this to have? </red>"
   ]
  },
  {
   "cell_type": "markdown",
   "metadata": {},
   "source": [
    "\n",
    "## Plot the cumulative returns"
   ]
  },
  {
   "cell_type": "markdown",
   "metadata": {},
   "source": [
    "### First let's create cumulative returns"
   ]
  },
  {
   "cell_type": "code",
   "execution_count": 90,
   "metadata": {},
   "outputs": [],
   "source": [
    "retcol1 = 'return_x'\n",
    "retcol2 = 'return_y'\n",
    "\n",
    "cumrets1 = 100 * np.cumprod(1 + merged_df_union[retcol1])\n",
    "cumrets2 = 100 * np.cumprod(1 + merged_df_union[retcol2])"
   ]
  },
  {
   "cell_type": "markdown",
   "metadata": {},
   "source": [
    "## Plot series"
   ]
  },
  {
   "cell_type": "code",
   "execution_count": 91,
   "metadata": {},
   "outputs": [
    {
     "data": {
      "image/png": "[encoded data removed]",
      "text/plain": [
       "<Figure size 720x432 with 1 Axes>"
      ]
     },
     "metadata": {
      "needs_background": "light"
     },
     "output_type": "display_data"
    }
   ],
   "source": [
    "fig, ax = plt.subplots(figsize = (10,6))\n",
    "plt.plot( list(merged_df_union.index), cumrets1)\n",
    "plt.show()"
   ]
  },
  {
   "cell_type": "code",
   "execution_count": null,
   "metadata": {},
   "outputs": [],
   "source": []
  },
  {
   "cell_type": "code",
   "execution_count": null,
   "metadata": {},
   "outputs": [],
   "source": []
  },
  {
   "cell_type": "code",
   "execution_count": null,
   "metadata": {},
   "outputs": [],
   "source": []
  },
  {
   "cell_type": "markdown",
   "metadata": {},
   "source": [
    "### What if we want to:\n",
    "- Plot dates, instead of numeric index\n",
    "- Add the other series\n",
    "- Markers, lines, colors, labels, title, ylim, xlimm"
   ]
  },
  {
   "cell_type": "code",
   "execution_count": null,
   "metadata": {},
   "outputs": [],
   "source": []
  },
  {
   "cell_type": "code",
   "execution_count": 92,
   "metadata": {},
   "outputs": [],
   "source": [
    "import matplotlib.dates as mdates\n",
    "\n",
    "def make_mdates_from_yyyymmdd(all_dates):\n",
    "    return mdates.date2num([datetime.datetime.strptime(str(x), '%Y%m%d') for x in all_dates])\n",
    "\n",
    "def make_mdates_from_datetime(all_dates):\n",
    "    return mdates.date2num(all_dates)\n"
   ]
  },
  {
   "cell_type": "code",
   "execution_count": 93,
   "metadata": {},
   "outputs": [
    {
     "data": {
      "text/plain": [
       "0      2014-09-02\n",
       "1      2014-09-03\n",
       "2      2014-09-04\n",
       "3      2014-09-05\n",
       "4      2014-09-08\n",
       "          ...    \n",
       "1254   2019-08-26\n",
       "1255   2019-08-27\n",
       "1256   2019-08-28\n",
       "1257   2019-08-29\n",
       "1258   2019-08-30\n",
       "Name: Date, Length: 1259, dtype: datetime64[ns]"
      ]
     },
     "execution_count": 93,
     "metadata": {},
     "output_type": "execute_result"
    }
   ],
   "source": [
    "merged_df_union.Date"
   ]
  },
  {
   "cell_type": "code",
   "execution_count": 94,
   "metadata": {},
   "outputs": [
    {
     "data": {
      "image/png": "[encoded data removed]",
      "text/plain": [
       "<Figure size 720x432 with 1 Axes>"
      ]
     },
     "metadata": {
      "needs_background": "light"
     },
     "output_type": "display_data"
    }
   ],
   "source": [
    "fig, ax = plt.subplots(figsize = (10,6))\n",
    "\n",
    "xdates =     make_mdates_from_datetime(merged_df_union.Date)\n",
    "\n",
    "plt.plot( xdates, cumrets1, label='SPY')\n",
    "plt.plot( xdates, cumrets2, label='LYFT')\n",
    "ax.xaxis_date()\n",
    "plt.legend(loc='best')\n",
    "plt.grid()\n",
    "plt.title('SPY vs LYFT')\n",
    "plt.show()"
   ]
  },
  {
   "cell_type": "markdown",
   "metadata": {},
   "source": [
    "### What if we want to:\n",
    "- Plot dates, instead of numeric index\n",
    "- Add the other series\n",
    "- Markers, lines, colors, labels, title, ylim, xlimm"
   ]
  },
  {
   "cell_type": "markdown",
   "metadata": {},
   "source": [
    "# Create a merged data frame across all files"
   ]
  },
  {
   "cell_type": "markdown",
   "metadata": {},
   "source": [
    "#### First, get a list of all files in our directory"
   ]
  },
  {
   "cell_type": "markdown",
   "metadata": {},
   "source": [
    "#### Then create a dictionary with many dataframes in it\n"
   ]
  },
  {
   "cell_type": "markdown",
   "metadata": {},
   "source": [
    "#### Then merge. First, create a started dataframe with the first symbol, then merge all (except the first symbol) in, setting the column names as we go along"
   ]
  },
  {
   "cell_type": "code",
   "execution_count": null,
   "metadata": {},
   "outputs": [],
   "source": []
  },
  {
   "cell_type": "markdown",
   "metadata": {},
   "source": [
    "## Compute rolling std devation"
   ]
  },
  {
   "cell_type": "markdown",
   "metadata": {},
   "source": [
    "#### shift these by 1 day (we want the std devation to be based on returns through \"yesterday\")"
   ]
  },
  {
   "cell_type": "code",
   "execution_count": 95,
   "metadata": {},
   "outputs": [],
   "source": [
    "df2['rolling_stdev'] = df2[['return']].rolling(90).std().shift(1)"
   ]
  },
  {
   "cell_type": "markdown",
   "metadata": {},
   "source": [
    "#### fill in the NaNs (at the beginning) with the median\n",
    "#### NOTE THAT THIS IS FORWARD LOOKING!"
   ]
  },
  {
   "cell_type": "code",
   "execution_count": 96,
   "metadata": {},
   "outputs": [],
   "source": [
    "df2['rolling_stdev'] =  df2['rolling_stdev'].fillna(np.nanmedian(df2['rolling_stdev']))"
   ]
  },
  {
   "cell_type": "markdown",
   "metadata": {},
   "source": [
    "### Clip the returns to be withing -3 $\\sigma$ and +3$\\sigma$"
   ]
  },
  {
   "cell_type": "code",
   "execution_count": 97,
   "metadata": {},
   "outputs": [],
   "source": [
    "df2['return_clipped'] = np.minimum( np.maximum(df2['return'], -3*df2['rolling_stdev']), 3*df2['rolling_stdev'])"
   ]
  },
  {
   "cell_type": "markdown",
   "metadata": {},
   "source": [
    "### Plot a distribution of returns and clipped returns"
   ]
  },
  {
   "cell_type": "code",
   "execution_count": 98,
   "metadata": {},
   "outputs": [
    {
     "data": {
      "image/png": "[encoded data removed]",
      "text/plain": [
       "<Figure size 720x432 with 1 Axes>"
      ]
     },
     "metadata": {
      "needs_background": "light"
     },
     "output_type": "display_data"
    }
   ],
   "source": [
    "fig,ax = plt.subplots( figsize=(10,6))\n",
    "\n",
    "#plt.hist(df2['return'], bins=30, label='raw', alpha=0.75)\n",
    "#plt.hist(df2['return_clipped'], bins=30, label='clipped', alpha=0.75)\n",
    "\n",
    "plt.scatter(df2['return'], df2['return_clipped'])\n",
    "plt.grid()\n",
    "plt.xlim(-0.15, 0.15)\n",
    "\n",
    "plt.show()"
   ]
  },
  {
   "cell_type": "code",
   "execution_count": 7,
   "metadata": {},
   "outputs": [
    {
     "data": {
      "text/plain": [
       "Text(0, 0.5, 'Time')"
      ]
     },
     "execution_count": 7,
     "metadata": {},
     "output_type": "execute_result"
    },
    {
     "data": {
      "image/png": "[encoded data removed]",
      "text/plain": [
       "<Figure size 432x324 with 1 Axes>"
      ]
     },
     "metadata": {},
     "output_type": "display_data"
    }
   ],
   "source": [
    "from matplotlib import pyplot\n",
    "import matplotlib.pyplot as plt\n",
    "from matplotlib.ticker import FuncFormatter\n",
    "pyplot.figure(figsize=(6, 4.5))\n",
    "plt.style.use( 'seaborn-whitegrid') \n",
    "palette = pyplot.get_cmap('Set1')\n",
    "#plt.rcParams['font.family'] = ['Times New Roman']\n",
    "plt.rcParams.update({'font.size': 12}) \n",
    " \n",
    "# x = [(4,500),(8,500),(16,500),(4,250),(8,250),(16,250)]\n",
    "x = [1,2,3,4,5,6]\n",
    "y_cpu = [0.030000, 0.020000, 0.030000,0.030000,0.030000,0.030000]\n",
    "y_gpu = [0.130000,0.160000,0.170000,0.170000,0.170000,0.130000]\n",
    " \n",
    "plt.xlim(0, 6)  # 限定横轴的范围\n",
    "plt.ylim(0, 0.2)  # 限定纵轴的范围\n",
    " \n",
    " \n",
    "#plt.plot(x, y_Supervised, marker='o', mec='r',label='Supervised')\n",
    "plt.plot(x, y_cpu, color=palette(3), marker='*', label='CPU')\n",
    "plt.plot(x, y_gpu, color=palette(1), marker='^', label='GPU')\n",
    " \n",
    "plt.legend()  # 让图例生效\n",
    "#plt.xticks(x, names, rotation=1)\n",
    " \n",
    "plt.margins(0)\n",
    "plt.subplots_adjust(bottom=0.10)\n",
    "plt.xlabel('(Blocks,Threads per blocks)') #X轴标签\n",
    "plt.ylabel(\"Time\") #Y轴标签\n",
    "# pyplot.yticks([0.70, 0.75,0.80,0.85,0.90,0.92])\n",
    "# pyplot.xticks([10, 20, 50, 100])\n",
    "#plt.title(\"A simple plot\") #标题\n",
    "# plt.savefig('Fig.png',dpi = 300)"
   ]
  },
  {
   "cell_type": "code",
   "execution_count": 5,
   "metadata": {},
   "outputs": [
    {
     "data": {
      "image/png": "[encoded data removed]",
      "text/plain": [
       "<Figure size 432x288 with 1 Axes>"
      ]
     },
     "metadata": {
      "needs_background": "light"
     },
     "output_type": "display_data"
    }
   ],
   "source": [
    "# -*- coding: utf-8 -*-\n",
    "import matplotlib.pyplot as plt\n",
    "\n",
    "# y_cpu = [0.030000, 0.020000, 0.030000,0.030000,0.030000,0.030000]\n",
    "# y_gpu = [0.130000,0.160000,0.170000,0.170000,0.170000,0.130000]\n",
    " \n",
    "num_list = [0.030000-0.130000,0.020000-0.160000,0.030000-0.170000,0.030000-0.170000,0.030000-0.170000,0.030000-0.130000]\n",
    "name_list = ['4/500','8/500','16/500','4/250','8/250','16/250']\n",
    "plt.title('Speed Up (CPU-GPU)')\n",
    "plt.bar(range(len(num_list)), num_list,tick_label=name_list)\n",
    "plt.show()"
   ]
  },
  {
   "cell_type": "code",
   "execution_count": 6,
   "metadata": {},
   "outputs": [
    {
     "name": "stdout",
     "output_type": "stream",
     "text": [
      "[3.2307692307692304, 7.921052631578947, 16.52777777777778, 31.63225806451613, 40.353057199211044]\n"
     ]
    },
    {
     "data": {
      "image/png": "[encoded data removed]",
      "text/plain": [
       "<Figure size 432x288 with 1 Axes>"
      ]
     },
     "metadata": {
      "needs_background": "light"
     },
     "output_type": "display_data"
    }
   ],
   "source": [
    "import matplotlib.pyplot as plt\n",
    "speedup_list = [0.840/0.260,3.010/0.380,11.900/0.720,49.030/1.550,204.590/5.070]\n",
    "print(speedup_list)\n",
    "# dimentione_list = ['1000','2000','4000','8000','16000','32000']\n",
    "dimentione_list = ['1000','2000','4000','8000','16000']\n",
    "plt.title('Experiment1')\n",
    "plt.xlabel('Dimention')\n",
    "plt.ylabel('Speedup')\n",
    "\n",
    "plt.bar(range(len(num_list)), num_list,tick_label=name_list)\n",
    "plt.show()"
   ]
  },
  {
   "cell_type": "code",
   "execution_count": 7,
   "metadata": {},
   "outputs": [
    {
     "name": "stdout",
     "output_type": "stream",
     "text": [
      "[14.02941176470588, 17.296610169491526, 16.46606334841629, 15.385882352941177, 14.740384615384615, 14.556838905775077]\n"
     ]
    },
    {
     "data": {
      "image/png": "[encoded data removed]",
      "text/plain": [
       "<Figure size 432x288 with 1 Axes>"
      ]
     },
     "metadata": {
      "needs_background": "light"
     },
     "output_type": "display_data"
    }
   ],
   "source": [
    "import matplotlib.pyplot as plt\n",
    "speedup_list = [9.540/0.680,20.410/1.180,36.390/2.210,65.390/4.250,122.640/8.320,239.460/16.450]\n",
    "print(speedup_list)\n",
    "# dimentione_list = ['1000','2000','4000','8000','16000','32000']\n",
    "iteration_list = ['1000','2000','4000','8000','16000']\n",
    "plt.title('Experiment2')\n",
    "plt.xlabel('Iteration')\n",
    "plt.ylabel('Speedup')\n",
    "\n",
    "plt.bar(range(len(num_list)), num_list,tick_label=name_list)\n",
    "plt.show()"
   ]
  },
  {
   "cell_type": "code",
   "execution_count": 25,
   "metadata": {},
   "outputs": [
    {
     "name": "stdout",
     "output_type": "stream",
     "text": [
      "[0.012658227848101266, 0.01875, 0.013986013986013988, 0.021276595744680854, 0.021582733812949638, 0.01775147928994083, 0.0049504950495049506, 0.0009865175928970734, 0.012987012987012988, 0.012903225806451613]\n"
     ]
    },
    {
     "data": {
      "image/png": "[encoded data removed]",
      "text/plain": [
       "<Figure size 432x288 with 1 Axes>"
      ]
     },
     "metadata": {
      "needs_background": "light"
     },
     "output_type": "display_data"
    }
   ],
   "source": [
    "import matplotlib.pyplot as plt\n",
    "speedup_list = [0.002/0.158,0.003/0.160,0.002/0.143,0.003/0.141,0.003/0.139,0.003/0.169, 0.002/0.404 , 0.003/3.041 , 0.002/0.154 , 0.002/0.155]\n",
    "print(speedup_list)\n",
    "iteration_list = ['10','100','1000','10^4','10^5','10^6','10^7','10^8','10^9','2*10^9']\n",
    "plt.title('Lab3')\n",
    "plt.xlabel('N')\n",
    "plt.ylabel('Speedup')\n",
    "\n",
    "plt.bar(range(len(speedup_list)), speedup_list,tick_label=iteration_list)\n",
    "plt.show()"
   ]
  },
  {
   "cell_type": "code",
   "execution_count": null,
   "metadata": {},
   "outputs": [],
   "source": []
  }
 ],
 "metadata": {
  "kernelspec": {
   "display_name": "Python 3",
   "language": "python",
   "name": "python3"
  },
  "language_info": {
   "codemirror_mode": {
    "name": "ipython",
    "version": 3
   },
   "file_extension": ".py",
   "mimetype": "text/x-python",
   "name": "python",
   "nbconvert_exporter": "python",
   "pygments_lexer": "ipython3",
   "version": "3.8.8"
  }
 },
 "nbformat": 4,
 "nbformat_minor": 2
}
