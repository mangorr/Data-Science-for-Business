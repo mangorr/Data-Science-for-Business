{
 "cells": [
  {
   "cell_type": "code",
   "execution_count": 120,
   "id": "8e90e1b3",
   "metadata": {},
   "outputs": [
    {
     "data": {
      "text/plain": [
       "3481"
      ]
     },
     "execution_count": 120,
     "metadata": {},
     "output_type": "execute_result"
    }
   ],
   "source": [
    "from sklearn.metrics import log_loss\n",
    "import numpy as np\n",
    "\n",
    "# sklearn.metrics.log_loss([0], [0.24])\n",
    "(115 - 56) ** 2"
   ]
  },
  {
   "cell_type": "code",
   "execution_count": 117,
   "id": "6af5ccac",
   "metadata": {},
   "outputs": [
    {
     "data": {
      "text/plain": [
       "[0.2613647641344075,\n",
       " 0.2744368457017603,\n",
       " 2.120263536200091,\n",
       " 0.4620354595965587,\n",
       " 0.5276327420823718]"
      ]
     },
     "execution_count": 117,
     "metadata": {},
     "output_type": "execute_result"
    }
   ],
   "source": [
    "# Question6\n",
    "import numpy as np\n",
    "from sklearn.metrics import log_loss\n",
    "\n",
    "churn = np.array([1, 0, 0, 1, 0])\n",
    "predicted_probability = np.array([0.77, 0.24, 0.88, 0.63, 0.41])\n",
    "result = []\n",
    "\n",
    "def logloss(predictions, targets):\n",
    "    N = predictions.shape[0]\n",
    "    for i in range(0, N):\n",
    "        result.append(- (targets[i] * np.log(predictions[i]) + (1 - targets[i]) * np.log(1 - predictions[i])))\n",
    "        \n",
    "    return result\n",
    "\n",
    "logloss(predicted_probability, churn)"
   ]
  },
  {
   "cell_type": "code",
   "execution_count": 129,
   "id": "ce7ecb31",
   "metadata": {},
   "outputs": [
    {
     "name": "stdout",
     "output_type": "stream",
     "text": [
      "4811.6\n",
      "4811.6\n"
     ]
    }
   ],
   "source": [
    "# Question7\n",
    "from sklearn.metrics import mean_squared_error\n",
    "\n",
    "actual = [228, 115, 154, 150, 174]\n",
    "predicted = [109, 56, 122, 86, 210]\n",
    "\n",
    "def mse(actual, predicted):\n",
    "    result = []\n",
    "    \n",
    "    for i in range(0, len(actual)):\n",
    "        result.append((actual[i] - predicted[i])**2)\n",
    "        \n",
    "    return np.mean(result)\n",
    "       \n",
    "print(mse(actual, predicted))\n",
    "\n",
    "print(mean_squared_error(actual, predicted))"
   ]
  },
  {
   "cell_type": "code",
   "execution_count": 130,
   "id": "ec66a80f",
   "metadata": {},
   "outputs": [
    {
     "name": "stdout",
     "output_type": "stream",
     "text": [
      "mse of pred_model1:\n",
      "38240.23440999998\n",
      "38240.23440999998\n",
      "mse of pred_model2:\n",
      "202376.18464771422\n",
      "202376.18464771422\n"
     ]
    }
   ],
   "source": [
    "# Question8\n",
    "import sys\n",
    "import os\n",
    "import pandas as pd\n",
    "\n",
    "datadir = '/Users/yachiru/Documents/nyu/class/DSforBusinessTech/assignment/assignment2'\n",
    "filename = 'linear_regression_predictions.csv'\n",
    "\n",
    "dat = pd.read_csv(f'{datadir}/{filename}')\n",
    "\n",
    "print(\"mse of pred_model1:\")\n",
    "print(mse(dat[\"actual\"], dat[\"pred_model1\"]))\n",
    "print(mean_squared_error(dat[\"actual\"], dat[\"pred_model1\"]))\n",
    "\n",
    "print(\"mse of pred_model2:\")\n",
    "print(mse(dat[\"actual\"], dat[\"pred_model2\"]))\n",
    "print(mean_squared_error(dat[\"actual\"], dat[\"pred_model2\"]))"
   ]
  },
  {
   "cell_type": "code",
   "execution_count": 132,
   "id": "97591de8",
   "metadata": {},
   "outputs": [
    {
     "data": {
      "text/html": [
       "<div>\n",
       "<style scoped>\n",
       "    .dataframe tbody tr th:only-of-type {\n",
       "        vertical-align: middle;\n",
       "    }\n",
       "\n",
       "    .dataframe tbody tr th {\n",
       "        vertical-align: top;\n",
       "    }\n",
       "\n",
       "    .dataframe thead th {\n",
       "        text-align: right;\n",
       "    }\n",
       "</style>\n",
       "<table border=\"1\" class=\"dataframe\">\n",
       "  <thead>\n",
       "    <tr style=\"text-align: right;\">\n",
       "      <th></th>\n",
       "      <th>customer</th>\n",
       "      <th>age</th>\n",
       "      <th>income</th>\n",
       "      <th>num_cards</th>\n",
       "      <th>Distance_From_David</th>\n",
       "    </tr>\n",
       "  </thead>\n",
       "  <tbody>\n",
       "    <tr>\n",
       "      <th>0</th>\n",
       "      <td>David</td>\n",
       "      <td>37</td>\n",
       "      <td>50</td>\n",
       "      <td>2</td>\n",
       "      <td>0.000000</td>\n",
       "    </tr>\n",
       "    <tr>\n",
       "      <th>1</th>\n",
       "      <td>Melissa</td>\n",
       "      <td>54</td>\n",
       "      <td>78</td>\n",
       "      <td>3</td>\n",
       "      <td>32.771939</td>\n",
       "    </tr>\n",
       "    <tr>\n",
       "      <th>2</th>\n",
       "      <td>Atul</td>\n",
       "      <td>61</td>\n",
       "      <td>120</td>\n",
       "      <td>1</td>\n",
       "      <td>74.006756</td>\n",
       "    </tr>\n",
       "    <tr>\n",
       "      <th>3</th>\n",
       "      <td>Mizutori</td>\n",
       "      <td>41</td>\n",
       "      <td>210</td>\n",
       "      <td>4</td>\n",
       "      <td>160.062488</td>\n",
       "    </tr>\n",
       "    <tr>\n",
       "      <th>4</th>\n",
       "      <td>Amina</td>\n",
       "      <td>32</td>\n",
       "      <td>135</td>\n",
       "      <td>2</td>\n",
       "      <td>85.146932</td>\n",
       "    </tr>\n",
       "    <tr>\n",
       "      <th>5</th>\n",
       "      <td>Liu</td>\n",
       "      <td>48</td>\n",
       "      <td>95</td>\n",
       "      <td>1</td>\n",
       "      <td>46.335731</td>\n",
       "    </tr>\n",
       "    <tr>\n",
       "      <th>6</th>\n",
       "      <td>Vlad</td>\n",
       "      <td>29</td>\n",
       "      <td>85</td>\n",
       "      <td>3</td>\n",
       "      <td>35.916570</td>\n",
       "    </tr>\n",
       "  </tbody>\n",
       "</table>\n",
       "</div>"
      ],
      "text/plain": [
       "   customer  age  income  num_cards  Distance_From_David\n",
       "0     David   37      50          2             0.000000\n",
       "1   Melissa   54      78          3            32.771939\n",
       "2      Atul   61     120          1            74.006756\n",
       "3  Mizutori   41     210          4           160.062488\n",
       "4     Amina   32     135          2            85.146932\n",
       "5       Liu   48      95          1            46.335731\n",
       "6      Vlad   29      85          3            35.916570"
      ]
     },
     "metadata": {},
     "output_type": "display_data"
    }
   ],
   "source": [
    "# Question15\n",
    "datadir = '/Users/yachiru/Documents/nyu/class/DSforBusinessTech/assignment/assignment2'\n",
    "filename = 'nearest_neighbors_example.csv'\n",
    "\n",
    "df = pd.read_csv(f'{datadir}/{filename}')\n",
    "df.loc[0, 'Distance_From_David'] = 0\n",
    "\n",
    "for i in range(1, len(df)):\n",
    "    distance = 0.0\n",
    "\n",
    "    for j in range(1, len(df.columns)- 1):\n",
    "        distance = distance + (df.iloc[i, j] - df.iloc[0, j]) ** 2\n",
    "    \n",
    "    distance = distance ** 0.5\n",
    "    df.loc[i, 'Distance_From_David'] = distance\n",
    "    \n",
    "display(df)"
   ]
  },
  {
   "cell_type": "code",
   "execution_count": 111,
   "id": "eb12c52a",
   "metadata": {},
   "outputs": [
    {
     "data": {
      "text/plain": [
       "0.8888888888888888"
      ]
     },
     "execution_count": 111,
     "metadata": {},
     "output_type": "execute_result"
    }
   ],
   "source": [
    "4000 / 4500"
   ]
  },
  {
   "cell_type": "code",
   "execution_count": null,
   "id": "14a1451b",
   "metadata": {},
   "outputs": [],
   "source": []
  },
  {
   "cell_type": "code",
   "execution_count": null,
   "id": "1ab6ec3c",
   "metadata": {},
   "outputs": [],
   "source": []
  }
 ],
 "metadata": {
  "kernelspec": {
   "display_name": "Python 3",
   "language": "python",
   "name": "python3"
  },
  "language_info": {
   "codemirror_mode": {
    "name": "ipython",
    "version": 3
   },
   "file_extension": ".py",
   "mimetype": "text/x-python",
   "name": "python",
   "nbconvert_exporter": "python",
   "pygments_lexer": "ipython3",
   "version": "3.8.8"
  }
 },
 "nbformat": 4,
 "nbformat_minor": 5
}
